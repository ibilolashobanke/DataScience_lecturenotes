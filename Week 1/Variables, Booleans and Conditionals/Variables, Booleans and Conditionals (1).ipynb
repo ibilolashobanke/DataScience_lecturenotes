{
 "cells": [
  {
   "cell_type": "markdown",
   "metadata": {
    "id": "zcG-tBch2A_7"
   },
   "source": [
    "## Week 1: Day 1 - Variables, Booleans and Conditionals"
   ]
  },
  {
   "cell_type": "markdown",
   "metadata": {
    "id": "rxEPz1JU2A_9"
   },
   "source": [
    "A variable is a fundamental concept in any programming language. It is a reserved memory location that stores and manipulates data. This tutorial on Python variables will help you learn more about what they are, the different data types of variables, the rules for naming variables in Python. You will also perform some basic operations on numbers and strings. We’ll use Jupyter Notebook to implement the Python codes."
   ]
  },
  {
   "cell_type": "markdown",
   "metadata": {
    "id": "l9O_gtfu2A_-"
   },
   "source": [
    "Variables are entities of a program that holds a value. Here is an example of a variable:\n",
    "\n",
    "x=100 \n",
    "\n",
    "In the above diagram, the box holds a value of 100 and is named as x. Therefore, the variable is x, and the data it holds is the value."
   ]
  },
  {
   "cell_type": "code",
   "execution_count": null,
   "metadata": {
    "id": "N6sxf2Qbk9D0"
   },
   "outputs": [],
   "source": []
  },
  {
   "cell_type": "code",
   "execution_count": null,
   "metadata": {
    "colab": {
     "base_uri": "https://localhost:8080/"
    },
    "executionInfo": {
     "elapsed": 14222,
     "status": "ok",
     "timestamp": 1654084502136,
     "user": {
      "displayName": "Omotosho Aminat",
      "userId": "02245444297537726894"
     },
     "user_tz": -60
    },
    "id": "YcH5lOT12BAA",
    "outputId": "0e5ac88b-43e8-4aae-b5da-cdca0d987ce6"
   },
   "outputs": [
    {
     "name": "stdout",
     "output_type": "stream",
     "text": [
      "Enter your name:amina\n",
      "Hello amina\n"
     ]
    }
   ],
   "source": [
    "## this adds a particular name to a variable.\n",
    "name=(input('Enter ayour name:'))        \n",
    "print('Hello '  + name)"
   ]
  },
  {
   "cell_type": "code",
   "execution_count": null,
   "metadata": {
    "colab": {
     "base_uri": "https://localhost:8080/"
    },
    "executionInfo": {
     "elapsed": 8,
     "status": "ok",
     "timestamp": 1654084511012,
     "user": {
      "displayName": "Omotosho Aminat",
      "userId": "02245444297537726894"
     },
     "user_tz": -60
    },
    "id": "9AOM0aD_2BAB",
    "outputId": "345d80e0-1085-473b-a179-5af6f054f94e"
   },
   "outputs": [
    {
     "name": "stdout",
     "output_type": "stream",
     "text": [
      "96.25\n"
     ]
    }
   ],
   "source": [
    "# For numeric data types, (*) is used as multiplication operator\n",
    "hours=(35)     \n",
    "rate=(2.75)\n",
    "pay=(hours*rate)\n",
    "print(pay)"
   ]
  },
  {
   "cell_type": "code",
   "execution_count": null,
   "metadata": {
    "id": "fW18lo352BAC"
   },
   "outputs": [],
   "source": [
    "width = 17\n",
    "height = 12.0"
   ]
  },
  {
   "cell_type": "code",
   "execution_count": null,
   "metadata": {
    "colab": {
     "base_uri": "https://localhost:8080/"
    },
    "executionInfo": {
     "elapsed": 782,
     "status": "ok",
     "timestamp": 1654084521255,
     "user": {
      "displayName": "Omotosho Aminat",
      "userId": "02245444297537726894"
     },
     "user_tz": -60
    },
    "id": "cHjs7_jG2BAC",
    "outputId": "fec6fe8d-56d1-4f60-890d-09744c10fed5"
   },
   "outputs": [
    {
     "data": {
      "text/plain": [
       "8"
      ]
     },
     "execution_count": 6,
     "metadata": {},
     "output_type": "execute_result"
    }
   ],
   "source": [
    "#  (//) floor division that that divides two numbers and rounds the result down to the nearest integer.\n",
    "width//2"
   ]
  },
  {
   "cell_type": "code",
   "execution_count": null,
   "metadata": {
    "colab": {
     "base_uri": "https://localhost:8080/"
    },
    "executionInfo": {
     "elapsed": 764,
     "status": "ok",
     "timestamp": 1654084525060,
     "user": {
      "displayName": "Omotosho Aminat",
      "userId": "02245444297537726894"
     },
     "user_tz": -60
    },
    "id": "rCx2YHJE2BAD",
    "outputId": "3f1f060b-1462-48c9-93e7-0ff4f71cdba6"
   },
   "outputs": [
    {
     "data": {
      "text/plain": [
       "int"
      ]
     },
     "execution_count": 7,
     "metadata": {},
     "output_type": "execute_result"
    }
   ],
   "source": [
    "# The type() function returns the data type of the object passed to it as an argument. \n",
    "type(width//2)"
   ]
  },
  {
   "cell_type": "code",
   "execution_count": null,
   "metadata": {
    "colab": {
     "base_uri": "https://localhost:8080/"
    },
    "executionInfo": {
     "elapsed": 5,
     "status": "ok",
     "timestamp": 1654084527146,
     "user": {
      "displayName": "Omotosho Aminat",
      "userId": "02245444297537726894"
     },
     "user_tz": -60
    },
    "id": "9TqeXOVr2BAD",
    "outputId": "e71b1c43-f483-4275-9528-92217094f68c"
   },
   "outputs": [
    {
     "data": {
      "text/plain": [
       "8.5"
      ]
     },
     "execution_count": 8,
     "metadata": {},
     "output_type": "execute_result"
    }
   ],
   "source": [
    "# In Python, the normal division (/) always returns a float value.\n",
    "width/2.0\n"
   ]
  },
  {
   "cell_type": "code",
   "execution_count": null,
   "metadata": {
    "colab": {
     "base_uri": "https://localhost:8080/"
    },
    "executionInfo": {
     "elapsed": 375,
     "status": "ok",
     "timestamp": 1654084542484,
     "user": {
      "displayName": "Omotosho Aminat",
      "userId": "02245444297537726894"
     },
     "user_tz": -60
    },
    "id": "bZNkHjQM2BAE",
    "outputId": "a1af6562-8aec-4abb-d282-397b5066c785"
   },
   "outputs": [
    {
     "data": {
      "text/plain": [
       "float"
      ]
     },
     "execution_count": 9,
     "metadata": {},
     "output_type": "execute_result"
    }
   ],
   "source": [
    "type(width/2.0)"
   ]
  },
  {
   "cell_type": "code",
   "execution_count": null,
   "metadata": {
    "colab": {
     "base_uri": "https://localhost:8080/"
    },
    "executionInfo": {
     "elapsed": 575,
     "status": "ok",
     "timestamp": 1654084545236,
     "user": {
      "displayName": "Omotosho Aminat",
      "userId": "02245444297537726894"
     },
     "user_tz": -60
    },
    "id": "dY1XAS2H2BAE",
    "outputId": "082b50ee-4adc-4137-ab9c-8d6a9e4586d8"
   },
   "outputs": [
    {
     "data": {
      "text/plain": [
       "4.0"
      ]
     },
     "execution_count": 10,
     "metadata": {},
     "output_type": "execute_result"
    }
   ],
   "source": [
    "height/3\n"
   ]
  },
  {
   "cell_type": "code",
   "execution_count": null,
   "metadata": {
    "colab": {
     "base_uri": "https://localhost:8080/"
    },
    "executionInfo": {
     "elapsed": 396,
     "status": "ok",
     "timestamp": 1654084547673,
     "user": {
      "displayName": "Omotosho Aminat",
      "userId": "02245444297537726894"
     },
     "user_tz": -60
    },
    "id": "rTV0hcp12BAF",
    "outputId": "85983a94-f003-4fd0-87dc-66ef812bd08d"
   },
   "outputs": [
    {
     "data": {
      "text/plain": [
       "float"
      ]
     },
     "execution_count": 11,
     "metadata": {},
     "output_type": "execute_result"
    }
   ],
   "source": [
    "type(height/3)"
   ]
  },
  {
   "cell_type": "code",
   "execution_count": null,
   "metadata": {
    "colab": {
     "base_uri": "https://localhost:8080/"
    },
    "executionInfo": {
     "elapsed": 388,
     "status": "ok",
     "timestamp": 1654084549811,
     "user": {
      "displayName": "Omotosho Aminat",
      "userId": "02245444297537726894"
     },
     "user_tz": -60
    },
    "id": "XOfmO_PO2BAF",
    "outputId": "c809d5da-cc88-4df0-ad66-01a1673ded4d"
   },
   "outputs": [
    {
     "data": {
      "text/plain": [
       "50.5"
      ]
     },
     "execution_count": 12,
     "metadata": {},
     "output_type": "execute_result"
    }
   ],
   "source": [
    "(width//2)+(width/2.0)*5\n"
   ]
  },
  {
   "cell_type": "code",
   "execution_count": null,
   "metadata": {
    "colab": {
     "base_uri": "https://localhost:8080/"
    },
    "executionInfo": {
     "elapsed": 397,
     "status": "ok",
     "timestamp": 1654084553423,
     "user": {
      "displayName": "Omotosho Aminat",
      "userId": "02245444297537726894"
     },
     "user_tz": -60
    },
    "id": "tQ6Z4V_72BAG",
    "outputId": "f10f02b2-9434-4c74-80b8-c4d752accc00"
   },
   "outputs": [
    {
     "data": {
      "text/plain": [
       "float"
      ]
     },
     "execution_count": 13,
     "metadata": {},
     "output_type": "execute_result"
    }
   ],
   "source": [
    "type((width//2)+(width/2.0)*5)"
   ]
  },
  {
   "cell_type": "markdown",
   "metadata": {
    "id": "8XTKt2MS5vZa"
   },
   "source": [
    " Converting celcius temperature to fahrenheit"
   ]
  },
  {
   "cell_type": "code",
   "execution_count": null,
   "metadata": {
    "colab": {
     "base_uri": "https://localhost:8080/"
    },
    "executionInfo": {
     "elapsed": 4732,
     "status": "ok",
     "timestamp": 1654084579748,
     "user": {
      "displayName": "Omotosho Aminat",
      "userId": "02245444297537726894"
     },
     "user_tz": -60
    },
    "id": "FeFpb-qa2BAG",
    "outputId": "7a1a072d-d190-424e-ee4b-fcba924d821c"
   },
   "outputs": [
    {
     "name": "stdout",
     "output_type": "stream",
     "text": [
      "what is todays temparature in celcuis 99\n"
     ]
    }
   ],
   "source": [
    "celcuis_temperature=input( \"what is todays temparature in celcuis \")"
   ]
  },
  {
   "cell_type": "code",
   "execution_count": null,
   "metadata": {
    "colab": {
     "base_uri": "https://localhost:8080/"
    },
    "executionInfo": {
     "elapsed": 562,
     "status": "ok",
     "timestamp": 1654084602419,
     "user": {
      "displayName": "Omotosho Aminat",
      "userId": "02245444297537726894"
     },
     "user_tz": -60
    },
    "id": "72iuA6mO2BAG",
    "outputId": "1d7df228-0fd4-459f-f01f-011c000ab63d"
   },
   "outputs": [
    {
     "name": "stdout",
     "output_type": "stream",
     "text": [
      "temperature in fahrenheit 372\n"
     ]
    }
   ],
   "source": [
    "print(\"temperature in fahrenheit\",int(celcuis_temperature)+273)"
   ]
  },
  {
   "cell_type": "markdown",
   "metadata": {
    "id": "F4hFOQmq2BAH"
   },
   "source": [
    "### Booleans and Conditionals"
   ]
  },
  {
   "cell_type": "markdown",
   "metadata": {
    "id": "XTHoLypl2BAH"
   },
   "source": [
    "Python has a data type called bool. It has two possible values: True and False."
   ]
  },
  {
   "cell_type": "code",
   "execution_count": null,
   "metadata": {
    "colab": {
     "base_uri": "https://localhost:8080/"
    },
    "executionInfo": {
     "elapsed": 411,
     "status": "ok",
     "timestamp": 1654085801686,
     "user": {
      "displayName": "Omotosho Aminat",
      "userId": "02245444297537726894"
     },
     "user_tz": -60
    },
    "id": "sbPUq0V_2BAH",
    "outputId": "96bf02a5-b9a7-4362-8c46-5d09746b297e"
   },
   "outputs": [
    {
     "data": {
      "text/plain": [
       "bool"
      ]
     },
     "execution_count": 18,
     "metadata": {},
     "output_type": "execute_result"
    }
   ],
   "source": [
    "type(True)"
   ]
  },
  {
   "cell_type": "code",
   "execution_count": null,
   "metadata": {
    "id": "wP8t54ah2BAI"
   },
   "outputs": [],
   "source": [
    "house = \"abuja\""
   ]
  },
  {
   "cell_type": "code",
   "execution_count": null,
   "metadata": {
    "id": "EdysapY42BAI",
    "outputId": "5330bfcf-9143-4f3f-e80e-207b055031e1"
   },
   "outputs": [
    {
     "name": "stdout",
     "output_type": "stream",
     "text": [
      "abuja is house\n"
     ]
    }
   ],
   "source": [
    "# When we wish to make a comparison, such as in an if statement, we use the double equals sign (==). \n",
    "if house == \"abuja\":\n",
    "    print(\"abuja is house\")"
   ]
  },
  {
   "cell_type": "code",
   "execution_count": null,
   "metadata": {
    "id": "m84Abqga2BAI"
   },
   "outputs": [],
   "source": [
    "q=7\n",
    "l=9"
   ]
  },
  {
   "cell_type": "code",
   "execution_count": null,
   "metadata": {
    "colab": {
     "base_uri": "https://localhost:8080/"
    },
    "executionInfo": {
     "elapsed": 566,
     "status": "ok",
     "timestamp": 1654085813464,
     "user": {
      "displayName": "Omotosho Aminat",
      "userId": "02245444297537726894"
     },
     "user_tz": -60
    },
    "id": "mkaF1Tu02BAJ",
    "outputId": "04c268c3-2338-4989-d456-43d15a080342"
   },
   "outputs": [
    {
     "name": "stdout",
     "output_type": "stream",
     "text": [
      "false\n"
     ]
    }
   ],
   "source": [
    "# if q i.e 7 is greater than 3 return true or false\n",
    "if q < 3:\n",
    "    print(\"true\")\n",
    "else:\n",
    "    print(\"false\")"
   ]
  },
  {
   "cell_type": "markdown",
   "metadata": {
    "id": "ZshDO6yT6dTx"
   },
   "source": [
    "## The If Statement\n",
    "In most, if not all programming languages, there are special ways to control the flow of code. Such control allows certain parts of code to execute if the conditions are right. This flow control is done by using statements and code blocks. The most common and widely used statement is the if statement. It will compute if a statement is true or false. If it's true, it will execute the code. If it's false, it won't execute the code.\n",
    "\n",
    "Remember that True and False are Booleans in Python. This means that if and other conditional statements will use Boolean math to compute their Boolean state. You should also note the need for a colon (:) at the end of the if statement. This is needed at the end of a control flow statement."
   ]
  },
  {
   "cell_type": "code",
   "execution_count": null,
   "metadata": {
    "colab": {
     "base_uri": "https://localhost:8080/"
    },
    "executionInfo": {
     "elapsed": 16,
     "status": "ok",
     "timestamp": 1659174740440,
     "user": {
      "displayName": "Omotosho Aminat",
      "userId": "02245444297537726894"
     },
     "user_tz": -60
    },
    "id": "95ava1kn2BAJ",
    "outputId": "a4504b8a-2516-43b0-e5c2-4736c58ab8ac"
   },
   "outputs": [
    {
     "name": "stdout",
     "output_type": "stream",
     "text": [
      "Conditional was True\n"
     ]
    }
   ],
   "source": [
    "if True:\n",
    "  print('Conditional was True')"
   ]
  },
  {
   "cell_type": "code",
   "execution_count": null,
   "metadata": {
    "id": "ZYH9sIoq2BAJ"
   },
   "outputs": [],
   "source": [
    "if False:\n",
    "  print('Conditional was True')"
   ]
  },
  {
   "cell_type": "code",
   "execution_count": null,
   "metadata": {
    "colab": {
     "base_uri": "https://localhost:8080/"
    },
    "executionInfo": {
     "elapsed": 724,
     "status": "ok",
     "timestamp": 1659174843970,
     "user": {
      "displayName": "Omotosho Aminat",
      "userId": "02245444297537726894"
     },
     "user_tz": -60
    },
    "id": "RlA8D8sPKBv5",
    "outputId": "16fc6a2f-c109-4733-de0b-ab0f0ba6aae8"
   },
   "outputs": [
    {
     "name": "stdout",
     "output_type": "stream",
     "text": [
      "Conditional was True\n"
     ]
    }
   ],
   "source": [
    "Language = 'python'\n",
    "if Language == 'python':     # The == operator compares the value or equality of two objects.\n",
    "  print('Conditional was True')"
   ]
  },
  {
   "cell_type": "markdown",
   "metadata": {
    "id": "CM1ZdZA07JBT"
   },
   "source": [
    "## The Else Statement\n",
    "There will be many times when you want to execute code in the event that the if statement isn't true. This would require the use of the else statement. This statement will execute when the if statement is false. It needs to be on the same indentation level as the if statement."
   ]
  },
  {
   "cell_type": "code",
   "execution_count": null,
   "metadata": {
    "colab": {
     "base_uri": "https://localhost:8080/"
    },
    "executionInfo": {
     "elapsed": 813,
     "status": "ok",
     "timestamp": 1659174922387,
     "user": {
      "displayName": "Omotosho Aminat",
      "userId": "02245444297537726894"
     },
     "user_tz": -60
    },
    "id": "LwTWmvARKB9i",
    "outputId": "381569b3-4b91-46c0-eb1e-1460d8ef7b06"
   },
   "outputs": [
    {
     "name": "stdout",
     "output_type": "stream",
     "text": [
      "Conditional was True\n"
     ]
    }
   ],
   "source": [
    "Language = 'python'\n",
    "if Language == 'python':\n",
    "  print('Conditional was True')\n",
    "else:\n",
    "    print('No match')"
   ]
  },
  {
   "cell_type": "code",
   "execution_count": null,
   "metadata": {
    "colab": {
     "base_uri": "https://localhost:8080/"
    },
    "executionInfo": {
     "elapsed": 25,
     "status": "ok",
     "timestamp": 1649707208052,
     "user": {
      "displayName": "Aramide Oluwatimilehin",
      "userId": "05832635970378832849"
     },
     "user_tz": -60
    },
    "id": "cJ4yI-SLKCBQ",
    "outputId": "fcb24275-a4e0-417f-e998-9b32c2d9b810"
   },
   "outputs": [
    {
     "name": "stdout",
     "output_type": "stream",
     "text": [
      "No match\n"
     ]
    }
   ],
   "source": [
    "Language = 'java'\n",
    "if Language == 'python':\n",
    "  print('Conditional was True')\n",
    "else:\n",
    "    print('No match')"
   ]
  },
  {
   "cell_type": "markdown",
   "metadata": {
    "id": "POlBzAVj7dH3"
   },
   "source": [
    "## The Elif Statement\n",
    "Like a similar problem before, you might need to do something that might seem tedious. Say you wanted four if statements together, but you only wanted one to execute. You could try to write those for statements, but it would be easier writing one big one using the elif statement. elif stands for \"else if\", which acts like an else and if. This means that if the initial if isn't true, it will go to the elif and see if it's true. This can come in handy later on."
   ]
  },
  {
   "cell_type": "code",
   "execution_count": null,
   "metadata": {
    "colab": {
     "base_uri": "https://localhost:8080/"
    },
    "executionInfo": {
     "elapsed": 417,
     "status": "ok",
     "timestamp": 1649707451726,
     "user": {
      "displayName": "Aramide Oluwatimilehin",
      "userId": "05832635970378832849"
     },
     "user_tz": -60
    },
    "id": "fVGqbX8lKCEV",
    "outputId": "d2cee73c-210d-46aa-d369-0c7ba44fd04e"
   },
   "outputs": [
    {
     "name": "stdout",
     "output_type": "stream",
     "text": [
      "Language is java\n"
     ]
    }
   ],
   "source": [
    "Language = 'java'\n",
    "if Language == 'python':\n",
    "  print('Language is python')\n",
    "elif Language == 'java':\n",
    "  print('Language is java')\n",
    "else:\n",
    "    print('No match')"
   ]
  },
  {
   "cell_type": "code",
   "execution_count": null,
   "metadata": {
    "colab": {
     "base_uri": "https://localhost:8080/"
    },
    "executionInfo": {
     "elapsed": 455,
     "status": "ok",
     "timestamp": 1649707921029,
     "user": {
      "displayName": "Aramide Oluwatimilehin",
      "userId": "05832635970378832849"
     },
     "user_tz": -60
    },
    "id": "GEMRJ7vWKCIP",
    "outputId": "f8400a67-e9fc-41ab-aedf-32fa9ab30d9d"
   },
   "outputs": [
    {
     "name": "stdout",
     "output_type": "stream",
     "text": [
      "Language is java\n"
     ]
    }
   ],
   "source": [
    "Language = 'java'\n",
    "if Language == 'python':\n",
    "  print('Language is python')\n",
    "elif Language == 'java':\n",
    "  print('Language is java')\n",
    "elif Language == 'javascript':\n",
    "  print('Language is javascript')\n",
    "else:\n",
    "    print('No match')"
   ]
  },
  {
   "cell_type": "code",
   "execution_count": null,
   "metadata": {
    "colab": {
     "base_uri": "https://localhost:8080/"
    },
    "executionInfo": {
     "elapsed": 2304,
     "status": "ok",
     "timestamp": 1649709367449,
     "user": {
      "displayName": "Aramide Oluwatimilehin",
      "userId": "05832635970378832849"
     },
     "user_tz": -60
    },
    "id": "as98lBfQKCL1",
    "outputId": "364c4b9b-cff9-4735-a279-699b30a6631d"
   },
   "outputs": [
    {
     "name": "stdout",
     "output_type": "stream",
     "text": [
      "Admin page\n"
     ]
    }
   ],
   "source": [
    "user= 'Admin'\n",
    "logged_in = True\n",
    "if user == \"Admin\" and logged_in:\n",
    "  print('Admin page')\n",
    "else:\n",
    "  print('Bad creeds')  \n"
   ]
  },
  {
   "cell_type": "code",
   "execution_count": null,
   "metadata": {
    "colab": {
     "base_uri": "https://localhost:8080/"
    },
    "executionInfo": {
     "elapsed": 636,
     "status": "ok",
     "timestamp": 1649710130755,
     "user": {
      "displayName": "Aramide Oluwatimilehin",
      "userId": "05832635970378832849"
     },
     "user_tz": -60
    },
    "id": "0jQk-rIA2BAJ",
    "outputId": "69c95aa3-305d-4b45-c81a-5152a7367dd2"
   },
   "outputs": [
    {
     "name": "stdout",
     "output_type": "stream",
     "text": [
      "Please log in\n"
     ]
    }
   ],
   "source": [
    "user= 'Admin'\n",
    "logged_in = False\n",
    "if not logged_in:\n",
    "  print('Please log in')\n",
    "else:\n",
    "  print('Welcome')  "
   ]
  },
  {
   "cell_type": "code",
   "execution_count": null,
   "metadata": {
    "id": "p0xT0maEYa0f"
   },
   "outputs": [],
   "source": [
    "# this is a list of numbers\n",
    "a = [1,2,3]\n",
    "b = [1,2,3]"
   ]
  },
  {
   "cell_type": "code",
   "execution_count": null,
   "metadata": {
    "colab": {
     "base_uri": "https://localhost:8080/"
    },
    "executionInfo": {
     "elapsed": 31,
     "status": "ok",
     "timestamp": 1649753551631,
     "user": {
      "displayName": "Aramide Oluwatimilehin",
      "userId": "05832635970378832849"
     },
     "user_tz": -60
    },
    "id": "eEQcW2xmYa3a",
    "outputId": "6370efee-7ca9-4bd9-e99a-78adf1605892"
   },
   "outputs": [
    {
     "name": "stdout",
     "output_type": "stream",
     "text": [
      "True\n"
     ]
    }
   ],
   "source": [
    "# As values of a and b are equal so equality operator returns True.\n",
    "print(a==b) "
   ]
  },
  {
   "cell_type": "code",
   "execution_count": null,
   "metadata": {
    "colab": {
     "base_uri": "https://localhost:8080/"
    },
    "executionInfo": {
     "elapsed": 25,
     "status": "ok",
     "timestamp": 1649753551633,
     "user": {
      "displayName": "Aramide Oluwatimilehin",
      "userId": "05832635970378832849"
     },
     "user_tz": -60
    },
    "id": "SJO5cEr7Ya6q",
    "outputId": "6948e03c-4696-4f7e-dc8e-86727a010d68"
   },
   "outputs": [
    {
     "name": "stdout",
     "output_type": "stream",
     "text": [
      "False\n"
     ]
    }
   ],
   "source": [
    "# so a is b returns False,because they are two different object in memory.\n",
    "print(a is b)"
   ]
  },
  {
   "cell_type": "code",
   "execution_count": null,
   "metadata": {
    "colab": {
     "base_uri": "https://localhost:8080/"
    },
    "executionInfo": {
     "elapsed": 851,
     "status": "ok",
     "timestamp": 1649753776033,
     "user": {
      "displayName": "Aramide Oluwatimilehin",
      "userId": "05832635970378832849"
     },
     "user_tz": -60
    },
    "id": "vuq3wbi6Ya92",
    "outputId": "2a61cd56-24cd-4510-ff59-d6a262f914cd"
   },
   "outputs": [
    {
     "name": "stdout",
     "output_type": "stream",
     "text": [
      "140449435134544\n",
      "140449476356928\n",
      "False\n"
     ]
    }
   ],
   "source": [
    "# The id() function returns identity (unique integer) of an object.\n",
    "print(id(a)) \n",
    "print(id(b))\n",
    "print(a is b)"
   ]
  },
  {
   "cell_type": "code",
   "execution_count": null,
   "metadata": {
    "id": "7gKfm6rRZpPI"
   },
   "outputs": [],
   "source": [
    "a = [1,2,3]\n",
    "b = a"
   ]
  },
  {
   "cell_type": "code",
   "execution_count": null,
   "metadata": {
    "colab": {
     "base_uri": "https://localhost:8080/"
    },
    "executionInfo": {
     "elapsed": 573,
     "status": "ok",
     "timestamp": 1649754552962,
     "user": {
      "displayName": "Aramide Oluwatimilehin",
      "userId": "05832635970378832849"
     },
     "user_tz": -60
    },
    "id": "_F34_UgaZpSK",
    "outputId": "46a05437-e95b-4c9b-b4d9-fea866ac0dc0"
   },
   "outputs": [
    {
     "name": "stdout",
     "output_type": "stream",
     "text": [
      "140449469093840\n",
      "140449469093840\n",
      "True\n"
     ]
    }
   ],
   "source": [
    "print(id(a))\n",
    "print(id(b))\n",
    "print(a is b) # When we assign a to b,both variables reference the same object in memory,hence output is True."
   ]
  },
  {
   "cell_type": "code",
   "execution_count": null,
   "metadata": {
    "colab": {
     "base_uri": "https://localhost:8080/"
    },
    "executionInfo": {
     "elapsed": 466,
     "status": "ok",
     "timestamp": 1649754561636,
     "user": {
      "displayName": "Aramide Oluwatimilehin",
      "userId": "05832635970378832849"
     },
     "user_tz": -60
    },
    "id": "PUhA8GCLZpVK",
    "outputId": "d5a21d02-eaef-4655-9c0d-c6b9cf160cdb"
   },
   "outputs": [
    {
     "name": "stdout",
     "output_type": "stream",
     "text": [
      "140449469093840\n",
      "140449469093840\n",
      "True\n"
     ]
    }
   ],
   "source": [
    "print(id(a))\n",
    "print(id(b))\n",
    "print(id(a)== id(b)) # whereas ‘id(a) == id(b)’ will test the id's of the descriptor objects (the actual address of the descriptor object in memory)."
   ]
  },
  {
   "cell_type": "markdown",
   "metadata": {
    "id": "wHG_ic5tHuZj"
   },
   "source": [
    "### bool() parameters\n",
    "The bool() method in general takes only one parameter(here x), on which the standard truth testing procedure can be applied. If no parameter is passed, then by default it returns False. So, passing a parameter is optional. \n",
    "\n",
    "Return values from bool().\n",
    "\n",
    "\n",
    "- It returns True if the parameter or value passed is True.\n",
    "- It returns False if the parameter or value passed is False.\n",
    " \n",
    " Here are a few cases, in which Python’s bool() method returns false. Except these all other values return True. \n",
    "\n",
    "-  If a False value is passed.\n",
    "- If None is passed.\n",
    "- If an empty sequence is passed, such as (), [], ”, etc\n",
    "- If Zero is passed in any numeric type, such as 0, 0.0 etc\n",
    "- If an empty mapping is passed, such as {}.\n",
    "- If Objects of Classes having __bool__() or __len()__ method, returning 0 or False"
   ]
  },
  {
   "cell_type": "code",
   "execution_count": null,
   "metadata": {
    "colab": {
     "base_uri": "https://localhost:8080/"
    },
    "executionInfo": {
     "elapsed": 468,
     "status": "ok",
     "timestamp": 1649710789597,
     "user": {
      "displayName": "Aramide Oluwatimilehin",
      "userId": "05832635970378832849"
     },
     "user_tz": -60
    },
    "id": "nhYgTg6XZpYS",
    "outputId": "784bd691-afaf-4302-d5e2-3b7f80f95b56"
   },
   "outputs": [
    {
     "name": "stdout",
     "output_type": "stream",
     "text": [
      "Evaluated to false\n"
     ]
    }
   ],
   "source": [
    "condition = False\n",
    "if condition:\n",
    "  print('Evaluated to true')\n",
    "else:\n",
    "  print('Evaluated to false')  "
   ]
  },
  {
   "cell_type": "code",
   "execution_count": null,
   "metadata": {
    "colab": {
     "base_uri": "https://localhost:8080/"
    },
    "executionInfo": {
     "elapsed": 737,
     "status": "ok",
     "timestamp": 1649710959254,
     "user": {
      "displayName": "Aramide Oluwatimilehin",
      "userId": "05832635970378832849"
     },
     "user_tz": -60
    },
    "id": "sBJwDBaUZpbE",
    "outputId": "74b2bfdc-684a-43fe-bc54-12273e33354d"
   },
   "outputs": [
    {
     "name": "stdout",
     "output_type": "stream",
     "text": [
      "Evaluated to true\n"
     ]
    }
   ],
   "source": [
    "condition = 10\n",
    "if condition:\n",
    "  print('Evaluated to true')\n",
    "else:\n",
    "  print('Evaluated to false')  "
   ]
  },
  {
   "cell_type": "code",
   "execution_count": null,
   "metadata": {
    "colab": {
     "base_uri": "https://localhost:8080/"
    },
    "executionInfo": {
     "elapsed": 485,
     "status": "ok",
     "timestamp": 1649711009306,
     "user": {
      "displayName": "Aramide Oluwatimilehin",
      "userId": "05832635970378832849"
     },
     "user_tz": -60
    },
    "id": "Vf70ii1yZpdz",
    "outputId": "6f236737-c7ac-414e-9c2d-13fc2cb50430"
   },
   "outputs": [
    {
     "name": "stdout",
     "output_type": "stream",
     "text": [
      "Evaluated to false\n"
     ]
    }
   ],
   "source": [
    "condition = {}\n",
    "if condition:\n",
    "  print('Evaluated to true')\n",
    "else:\n",
    "  print('Evaluated to false')  "
   ]
  },
  {
   "cell_type": "code",
   "execution_count": null,
   "metadata": {
    "colab": {
     "base_uri": "https://localhost:8080/"
    },
    "executionInfo": {
     "elapsed": 457,
     "status": "ok",
     "timestamp": 1649711073782,
     "user": {
      "displayName": "Aramide Oluwatimilehin",
      "userId": "05832635970378832849"
     },
     "user_tz": -60
    },
    "id": "PGKDHu--ZphU",
    "outputId": "74f70e81-46ae-448e-8a69-3ea8dacabe19"
   },
   "outputs": [
    {
     "name": "stdout",
     "output_type": "stream",
     "text": [
      "Evaluated to true\n"
     ]
    }
   ],
   "source": [
    "condition = '_Test_'\n",
    "if condition:\n",
    "  print('Evaluated to true')\n",
    "else:\n",
    "  print('Evaluated to false')  "
   ]
  },
  {
   "cell_type": "code",
   "execution_count": null,
   "metadata": {
    "colab": {
     "base_uri": "https://localhost:8080/"
    },
    "executionInfo": {
     "elapsed": 580,
     "status": "ok",
     "timestamp": 1649711229638,
     "user": {
      "displayName": "Aramide Oluwatimilehin",
      "userId": "05832635970378832849"
     },
     "user_tz": -60
    },
    "id": "lPIdbGFrcF0T",
    "outputId": "96c9e332-0df6-4b8d-eebb-77789c9cf48c"
   },
   "outputs": [
    {
     "name": "stdout",
     "output_type": "stream",
     "text": [
      "Evaluated to true\n"
     ]
    }
   ],
   "source": [
    "condition = 'Test'\n",
    "if condition:\n",
    "  print('Evaluated to true')\n",
    "else:\n",
    "  print('Evaluated to false')  "
   ]
  },
  {
   "cell_type": "markdown",
   "metadata": {
    "executionInfo": {
     "elapsed": 3,
     "status": "ok",
     "timestamp": 1663853710198,
     "user": {
      "displayName": "Motolani Kay-Salami",
      "userId": "07988264824930281607"
     },
     "user_tz": -60
    },
    "id": "vE7986HEv1BM"
   },
   "source": [
    "# Required Reading"
   ]
  },
  {
   "cell_type": "markdown",
   "metadata": {
    "id": "6_Uy7ONHv1HP"
   },
   "source": [
    "#### Values and types"
   ]
  },
  {
   "cell_type": "markdown",
   "metadata": {},
   "source": [
    "A value is one of the basic things a program works with, like a letter or a number.\n",
    "The values we have seen so far are 1, 2, and “Hello, World!”\n",
    "These values belong to different types: 2 is an integer, and “Hello, World!” is a\n",
    "string, so called because it contains a “string” of letters. You (and the interpreter)\n",
    "can identify strings because they are enclosed in quotation marks."
   ]
  },
  {
   "cell_type": "markdown",
   "metadata": {},
   "source": [
    "The print statement also works for integers. We use the python command to start\n",
    "the interpreter."
   ]
  },
  {
   "cell_type": "code",
   "execution_count": 1,
   "metadata": {},
   "outputs": [
    {
     "name": "stdout",
     "output_type": "stream",
     "text": [
      "4\n"
     ]
    }
   ],
   "source": [
    "print(4)"
   ]
  },
  {
   "cell_type": "markdown",
   "metadata": {},
   "source": [
    "If you are not sure what type a value has, the interpreter can tell you"
   ]
  },
  {
   "cell_type": "code",
   "execution_count": 2,
   "metadata": {},
   "outputs": [
    {
     "data": {
      "text/plain": [
       "str"
      ]
     },
     "execution_count": 2,
     "metadata": {},
     "output_type": "execute_result"
    }
   ],
   "source": [
    "type('Hello, World!')"
   ]
  },
  {
   "cell_type": "code",
   "execution_count": 3,
   "metadata": {},
   "outputs": [
    {
     "data": {
      "text/plain": [
       "int"
      ]
     },
     "execution_count": 3,
     "metadata": {},
     "output_type": "execute_result"
    }
   ],
   "source": [
    "type(17)"
   ]
  },
  {
   "cell_type": "code",
   "execution_count": 4,
   "metadata": {},
   "outputs": [
    {
     "data": {
      "text/plain": [
       "float"
      ]
     },
     "execution_count": 4,
     "metadata": {},
     "output_type": "execute_result"
    }
   ],
   "source": [
    "type(3.2)"
   ]
  },
  {
   "cell_type": "markdown",
   "metadata": {},
   "source": [
    "What about values like “17” and “3.2”? They look like numbers, but they are in\n",
    "quotation marks like strings."
   ]
  },
  {
   "cell_type": "code",
   "execution_count": 1,
   "metadata": {},
   "outputs": [
    {
     "data": {
      "text/plain": [
       "str"
      ]
     },
     "execution_count": 1,
     "metadata": {},
     "output_type": "execute_result"
    }
   ],
   "source": [
    "type('17')\n",
    "type('3.2')"
   ]
  },
  {
   "cell_type": "markdown",
   "metadata": {},
   "source": [
    "### Variables"
   ]
  },
  {
   "cell_type": "markdown",
   "metadata": {},
   "source": [
    "A variable is a name that refers to a value.\n",
    "An assignment statement creates new variables and gives them values:"
   ]
  },
  {
   "cell_type": "code",
   "execution_count": 3,
   "metadata": {},
   "outputs": [],
   "source": [
    "message = 'And now for something completely different'\n",
    "n = 17\n",
    "pi = 3.1415926535897931"
   ]
  },
  {
   "cell_type": "markdown",
   "metadata": {},
   "source": [
    "This example makes three assignments. The first assigns a string to a new variable\n",
    "named message; the second assigns the integer 17 to n; the third assigns the\n",
    "(approximate) value of π to pi.\n",
    "To display the value of a variable, you can use a print statement:"
   ]
  },
  {
   "cell_type": "code",
   "execution_count": 4,
   "metadata": {},
   "outputs": [
    {
     "name": "stdout",
     "output_type": "stream",
     "text": [
      "17\n"
     ]
    }
   ],
   "source": [
    "print(n)"
   ]
  },
  {
   "cell_type": "code",
   "execution_count": 5,
   "metadata": {},
   "outputs": [
    {
     "name": "stdout",
     "output_type": "stream",
     "text": [
      "3.141592653589793\n"
     ]
    }
   ],
   "source": [
    "print(pi)"
   ]
  },
  {
   "cell_type": "markdown",
   "metadata": {},
   "source": [
    "The type of a variable is the type of the value it refers to."
   ]
  },
  {
   "cell_type": "code",
   "execution_count": 6,
   "metadata": {},
   "outputs": [
    {
     "data": {
      "text/plain": [
       "str"
      ]
     },
     "execution_count": 6,
     "metadata": {},
     "output_type": "execute_result"
    }
   ],
   "source": [
    "type(message)"
   ]
  },
  {
   "cell_type": "code",
   "execution_count": 7,
   "metadata": {},
   "outputs": [
    {
     "data": {
      "text/plain": [
       "int"
      ]
     },
     "execution_count": 7,
     "metadata": {},
     "output_type": "execute_result"
    }
   ],
   "source": [
    "type(n)"
   ]
  },
  {
   "cell_type": "code",
   "execution_count": 8,
   "metadata": {},
   "outputs": [
    {
     "data": {
      "text/plain": [
       "float"
      ]
     },
     "execution_count": 8,
     "metadata": {},
     "output_type": "execute_result"
    }
   ],
   "source": [
    "type(pi)"
   ]
  },
  {
   "cell_type": "markdown",
   "metadata": {},
   "source": [
    "###  Statements"
   ]
  },
  {
   "cell_type": "markdown",
   "metadata": {},
   "source": [
    "A statement is a unit of code that the Python interpreter can execute. We have\n",
    "seen two kinds of statements: print being an expression statement and assignment.\n",
    "When you type a statement in interactive mode, the interpreter executes it and\n",
    "displays the result, if there is one."
   ]
  },
  {
   "cell_type": "markdown",
   "metadata": {},
   "source": [
    "A script usually contains a sequence of statements. If there is more than one\n",
    "statement, the results appear one at a time as the statements execute.\n",
    "For example, the script"
   ]
  },
  {
   "cell_type": "code",
   "execution_count": 10,
   "metadata": {},
   "outputs": [
    {
     "name": "stdout",
     "output_type": "stream",
     "text": [
      "1\n",
      "2\n"
     ]
    }
   ],
   "source": [
    "print(1)\n",
    "x = 2\n",
    "print(x)"
   ]
  },
  {
   "cell_type": "markdown",
   "metadata": {},
   "source": [
    "### Operators and operands"
   ]
  },
  {
   "cell_type": "markdown",
   "metadata": {},
   "source": [
    "Operators are special symbols that represent computations like addition and multiplication. The values the operator is applied to are called operands.\n",
    "The operators +, -, *, /, and ** perform addition, subtraction, multiplication,\n",
    "division, and exponentiation, as in the following examples:\n",
    "20+32 hour-1 hour*60+minute minute/60 5**2 (5+9)*(15-7)"
   ]
  },
  {
   "cell_type": "code",
   "execution_count": 11,
   "metadata": {},
   "outputs": [
    {
     "data": {
      "text/plain": [
       "0.9833333333333333"
      ]
     },
     "execution_count": 11,
     "metadata": {},
     "output_type": "execute_result"
    }
   ],
   "source": [
    "minute = 59\n",
    "minute/60"
   ]
  },
  {
   "cell_type": "code",
   "execution_count": 12,
   "metadata": {},
   "outputs": [
    {
     "data": {
      "text/plain": [
       "0.9833333333333333"
      ]
     },
     "execution_count": 12,
     "metadata": {},
     "output_type": "execute_result"
    }
   ],
   "source": [
    "#The division operator in Python 2.0 would divide two integers and truncate the result to an integer:\n",
    "minute = 59\n",
    "minute/60"
   ]
  },
  {
   "cell_type": "markdown",
   "metadata": {},
   "source": [
    "### Expressions"
   ]
  },
  {
   "cell_type": "markdown",
   "metadata": {},
   "source": [
    "An expression is a combination of values, variables, and operators. A value all by\n",
    "itself is considered an expression, and so is a variable, so the following are all legal\n",
    "expressions (assuming that the variable x has been assigned a value):"
   ]
  },
  {
   "cell_type": "code",
   "execution_count": 13,
   "metadata": {},
   "outputs": [
    {
     "data": {
      "text/plain": [
       "19"
      ]
     },
     "execution_count": 13,
     "metadata": {},
     "output_type": "execute_result"
    }
   ],
   "source": [
    "17\n",
    "x\n",
    "x + 17"
   ]
  },
  {
   "cell_type": "code",
   "execution_count": 14,
   "metadata": {},
   "outputs": [
    {
     "data": {
      "text/plain": [
       "2"
      ]
     },
     "execution_count": 14,
     "metadata": {},
     "output_type": "execute_result"
    }
   ],
   "source": [
    "#If you type an expression in interactive mode, the interpreter evaluates it and displays the result\n",
    "1 + 1\n",
    "2"
   ]
  },
  {
   "cell_type": "markdown",
   "metadata": {},
   "source": [
    "### Modulus operator"
   ]
  },
  {
   "cell_type": "markdown",
   "metadata": {},
   "source": [
    "The modulus operator works on integers and yields the remainder when the first\n",
    "operand is divided by the second. In Python, the modulus operator is a percent\n",
    "sign (%). The syntax is the same as for other operators"
   ]
  },
  {
   "cell_type": "code",
   "execution_count": 15,
   "metadata": {},
   "outputs": [
    {
     "name": "stdout",
     "output_type": "stream",
     "text": [
      "2\n"
     ]
    }
   ],
   "source": [
    "quotient = 7 // 3\n",
    "print(quotient)"
   ]
  },
  {
   "cell_type": "code",
   "execution_count": 16,
   "metadata": {},
   "outputs": [
    {
     "name": "stdout",
     "output_type": "stream",
     "text": [
      "1\n"
     ]
    }
   ],
   "source": [
    "remainder = 7 % 3\n",
    "print(remainder)"
   ]
  },
  {
   "cell_type": "markdown",
   "metadata": {},
   "source": [
    "So 7 divided by 3 is 2 with 1 left over."
   ]
  },
  {
   "cell_type": "markdown",
   "metadata": {},
   "source": [
    "### String operations"
   ]
  },
  {
   "cell_type": "markdown",
   "metadata": {},
   "source": [
    "The + operator works with strings, but it is not addition in the mathematical sense.\n",
    "Instead it performs concatenation, which means joining the strings by linking them\n",
    "end to end. For example:"
   ]
  },
  {
   "cell_type": "code",
   "execution_count": 17,
   "metadata": {},
   "outputs": [
    {
     "name": "stdout",
     "output_type": "stream",
     "text": [
      "25\n"
     ]
    }
   ],
   "source": [
    "first = 10\n",
    "second = 15\n",
    "print(first+second)"
   ]
  },
  {
   "cell_type": "code",
   "execution_count": 18,
   "metadata": {},
   "outputs": [
    {
     "name": "stdout",
     "output_type": "stream",
     "text": [
      "100150\n"
     ]
    }
   ],
   "source": [
    "first = '100'\n",
    "second = '150'\n",
    "print(first + second)"
   ]
  },
  {
   "cell_type": "markdown",
   "metadata": {},
   "source": [
    "### Asking the user for input"
   ]
  },
  {
   "cell_type": "code",
   "execution_count": 19,
   "metadata": {},
   "outputs": [
    {
     "name": "stdin",
     "output_type": "stream",
     "text": [
      " some silly stuff\n"
     ]
    }
   ],
   "source": [
    "input = input()"
   ]
  },
  {
   "cell_type": "code",
   "execution_count": 20,
   "metadata": {},
   "outputs": [
    {
     "name": "stdout",
     "output_type": "stream",
     "text": [
      "some silly stuff\n"
     ]
    }
   ],
   "source": [
    "print(input)"
   ]
  },
  {
   "cell_type": "markdown",
   "metadata": {},
   "source": [
    "Before getting input from the user, it is a good idea to print a prompt telling the\n",
    "user what to input. You can pass a string to input to be displayed to the user\n",
    "before pausing for inpu"
   ]
  },
  {
   "cell_type": "markdown",
   "metadata": {},
   "source": [
    "### Comments"
   ]
  },
  {
   "cell_type": "markdown",
   "metadata": {},
   "source": [
    "As programs get bigger and more complicated, they get more difficult to read.\n",
    "Formal languages are dense, and it is often difficult to look at a piece of code and\n",
    "figure out what it is doing, or why.\n",
    "For this reason, it is a good idea to add notes to your programs to explain in\n",
    "natural language what the program is doing. These notes are called comments,\n",
    "and in Python they start with the # symbol"
   ]
  },
  {
   "cell_type": "code",
   "execution_count": 22,
   "metadata": {},
   "outputs": [],
   "source": [
    "# compute the percentage of the hour that has elapsed\n",
    "percentage = (minute * 100) / 60"
   ]
  },
  {
   "cell_type": "markdown",
   "metadata": {},
   "source": [
    "In this case, the comment appears on a line by itself. You can also put comments\n",
    "at the end of a line:"
   ]
  },
  {
   "cell_type": "code",
   "execution_count": 23,
   "metadata": {},
   "outputs": [],
   "source": [
    "percentage = (minute * 100) / 60 # percentage of an hour"
   ]
  },
  {
   "cell_type": "code",
   "execution_count": 25,
   "metadata": {},
   "outputs": [],
   "source": [
    "#This comment is redundant with the code and useless:\n",
    "v = 5 # assign 5 to v"
   ]
  },
  {
   "cell_type": "code",
   "execution_count": 26,
   "metadata": {},
   "outputs": [],
   "source": [
    "#This comment contains useful information that is not in the code:\n",
    "v = 5 # velocity in meters/second."
   ]
  },
  {
   "cell_type": "markdown",
   "metadata": {},
   "source": [
    "### Choosing mnemonic variable names"
   ]
  },
  {
   "cell_type": "code",
   "execution_count": 27,
   "metadata": {},
   "outputs": [
    {
     "name": "stdout",
     "output_type": "stream",
     "text": [
      "437.5\n"
     ]
    }
   ],
   "source": [
    "a = 35.0\n",
    "b = 12.50\n",
    "c = a*b\n",
    "print(c)"
   ]
  },
  {
   "cell_type": "code",
   "execution_count": 28,
   "metadata": {},
   "outputs": [
    {
     "name": "stdout",
     "output_type": "stream",
     "text": [
      "437.5\n"
     ]
    }
   ],
   "source": [
    "hours = 35.0\n",
    "rate = 12.50\n",
    "pay = hours * rate\n",
    "print(pay)"
   ]
  },
  {
   "cell_type": "code",
   "execution_count": 29,
   "metadata": {},
   "outputs": [
    {
     "name": "stdout",
     "output_type": "stream",
     "text": [
      "437.5\n"
     ]
    }
   ],
   "source": [
    "x1q3z9ahd = 35.0\n",
    "x1q3z9afd = 12.50\n",
    "x1q3p9afd = x1q3z9ahd * x1q3z9afd\n",
    "print(x1q3p9afd)"
   ]
  },
  {
   "cell_type": "markdown",
   "metadata": {},
   "source": [
    "## Required Reading on Booleans and Conditionals"
   ]
  },
  {
   "cell_type": "markdown",
   "metadata": {},
   "source": [
    "### Boolean expressions"
   ]
  },
  {
   "cell_type": "markdown",
   "metadata": {},
   "source": [
    "A boolean expression is an expression that is either true or false. The following\n",
    "examples use the operator ==, which compares two operands and produces True if\n",
    "they are equal and False otherwise:"
   ]
  },
  {
   "cell_type": "code",
   "execution_count": 30,
   "metadata": {},
   "outputs": [
    {
     "data": {
      "text/plain": [
       "True"
      ]
     },
     "execution_count": 30,
     "metadata": {},
     "output_type": "execute_result"
    }
   ],
   "source": [
    "5 == 5"
   ]
  },
  {
   "cell_type": "code",
   "execution_count": 31,
   "metadata": {},
   "outputs": [
    {
     "data": {
      "text/plain": [
       "False"
      ]
     },
     "execution_count": 31,
     "metadata": {},
     "output_type": "execute_result"
    }
   ],
   "source": [
    "5 == 6"
   ]
  },
  {
   "cell_type": "code",
   "execution_count": 32,
   "metadata": {},
   "outputs": [
    {
     "data": {
      "text/plain": [
       "bool"
      ]
     },
     "execution_count": 32,
     "metadata": {},
     "output_type": "execute_result"
    }
   ],
   "source": [
    "#True and False are special values that belong to the class bool; they are not strings:\n",
    "type(True)\n",
    "type(False)"
   ]
  },
  {
   "cell_type": "markdown",
   "metadata": {},
   "source": [
    "### Conditional execution"
   ]
  },
  {
   "cell_type": "markdown",
   "metadata": {},
   "source": [
    "In order to write useful programs, we almost always need the ability to check conditions and change the behavior of the program accordingly. Conditional statements\n",
    "give us this ability. The simplest form is the if statement:"
   ]
  },
  {
   "cell_type": "code",
   "execution_count": 35,
   "metadata": {},
   "outputs": [
    {
     "name": "stdout",
     "output_type": "stream",
     "text": [
      "x is positive\n"
     ]
    }
   ],
   "source": [
    "if x > 0 :\n",
    "    print('x is positive')"
   ]
  },
  {
   "cell_type": "code",
   "execution_count": 36,
   "metadata": {},
   "outputs": [],
   "source": [
    "if x < 0 :\n",
    "    pass # need to handle negative values!"
   ]
  },
  {
   "cell_type": "code",
   "execution_count": 37,
   "metadata": {},
   "outputs": [
    {
     "name": "stdout",
     "output_type": "stream",
     "text": [
      "Small\n"
     ]
    }
   ],
   "source": [
    "x = 3\n",
    "if x < 10:\n",
    "    print('Small')"
   ]
  },
  {
   "cell_type": "markdown",
   "metadata": {},
   "source": [
    "### Alternative execution"
   ]
  },
  {
   "cell_type": "markdown",
   "metadata": {},
   "source": [
    "A second form of the if statement is alternative execution, in which there are two\n",
    "possibilities and the condition determines which one gets executed. The syntax\n",
    "looks like this"
   ]
  },
  {
   "cell_type": "code",
   "execution_count": 38,
   "metadata": {},
   "outputs": [
    {
     "name": "stdout",
     "output_type": "stream",
     "text": [
      "x is odd\n"
     ]
    }
   ],
   "source": [
    "if x%2 == 0 :\n",
    "    print('x is even')\n",
    "else :\n",
    "    print('x is odd')"
   ]
  },
  {
   "cell_type": "code",
   "execution_count": null,
   "metadata": {},
   "outputs": [],
   "source": []
  }
 ],
 "metadata": {
  "colab": {
   "collapsed_sections": [],
   "provenance": []
  },
  "kernelspec": {
   "display_name": "Python 3 (ipykernel)",
   "language": "python",
   "name": "python3"
  },
  "language_info": {
   "codemirror_mode": {
    "name": "ipython",
    "version": 3
   },
   "file_extension": ".py",
   "mimetype": "text/x-python",
   "name": "python",
   "nbconvert_exporter": "python",
   "pygments_lexer": "ipython3",
   "version": "3.9.12"
  }
 },
 "nbformat": 4,
 "nbformat_minor": 4
}
