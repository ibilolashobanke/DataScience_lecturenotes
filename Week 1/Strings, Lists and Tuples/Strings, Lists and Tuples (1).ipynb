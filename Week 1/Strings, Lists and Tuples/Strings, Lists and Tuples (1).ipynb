{
 "cells": [
  {
   "cell_type": "markdown",
   "id": "18a038f4-3962-4c0d-b84d-85387a9df761",
   "metadata": {
    "id": "18a038f4-3962-4c0d-b84d-85387a9df761"
   },
   "source": [
    "## Week 1: Day 3 – Strings, Lists and Tuples"
   ]
  },
  {
   "cell_type": "markdown",
   "id": "4129ed77-78e7-4f34-b7aa-9d6124070ec8",
   "metadata": {
    "id": "4129ed77-78e7-4f34-b7aa-9d6124070ec8"
   },
   "source": [
    "#### String Data Types"
   ]
  },
  {
   "cell_type": "markdown",
   "id": "c69a0c43-7ce8-49b0-8699-5c7505dd2e75",
   "metadata": {
    "id": "c69a0c43-7ce8-49b0-8699-5c7505dd2e75"
   },
   "source": [
    "- A string is a sequence of characters\n",
    "- A string literal uses quotes ('Hello' or \"Hello\")\n",
    "- For strings, + means 'Concatenate'\n",
    "- when a string contains numbers it is still a string.\n",
    "- We can convert numbers into a string into a numbers using int()"
   ]
  },
  {
   "cell_type": "code",
   "execution_count": null,
   "id": "25ca30c3-4d58-44cd-9e37-d9d52ddf9771",
   "metadata": {
    "id": "25ca30c3-4d58-44cd-9e37-d9d52ddf9771"
   },
   "outputs": [],
   "source": [
    "str1=\"hello\"\n",
    "str2=\"there\""
   ]
  },
  {
   "cell_type": "code",
   "execution_count": null,
   "id": "3971465f-a918-47ca-ae4f-0a9bbf208b20",
   "metadata": {
    "id": "3971465f-a918-47ca-ae4f-0a9bbf208b20"
   },
   "outputs": [],
   "source": [
    "bob = (str1+str2)"
   ]
  },
  {
   "cell_type": "code",
   "execution_count": null,
   "id": "bbba6672-1292-4524-a286-a1e4b0f5388c",
   "metadata": {
    "id": "bbba6672-1292-4524-a286-a1e4b0f5388c",
    "outputId": "756637d4-a7aa-43b4-ecf3-ea4aff6b4075"
   },
   "outputs": [
    {
     "name": "stdout",
     "output_type": "stream",
     "text": [
      "hellothere\n"
     ]
    }
   ],
   "source": [
    "print(bob)"
   ]
  },
  {
   "cell_type": "code",
   "execution_count": null,
   "id": "49f4588b-d4f1-4da4-bb38-b10ceac597a1",
   "metadata": {
    "id": "49f4588b-d4f1-4da4-bb38-b10ceac597a1"
   },
   "outputs": [],
   "source": [
    "str3 = '123'"
   ]
  },
  {
   "cell_type": "code",
   "execution_count": null,
   "id": "2542c127-33c9-4f49-914d-331286a40713",
   "metadata": {
    "id": "2542c127-33c9-4f49-914d-331286a40713"
   },
   "outputs": [],
   "source": [
    "# you can not concatenate a string and integer together, the output will be an error\n",
    "str3 = str3 + 1"
   ]
  },
  {
   "cell_type": "code",
   "execution_count": null,
   "id": "01491aa8-b282-4279-bb1b-c04f72c4e988",
   "metadata": {
    "id": "01491aa8-b282-4279-bb1b-c04f72c4e988"
   },
   "outputs": [],
   "source": [
    "# converting string into an integer\n",
    "x= int(str3) + 1"
   ]
  },
  {
   "cell_type": "code",
   "execution_count": null,
   "id": "df2394fe-b638-4c4e-954c-409a07fe4817",
   "metadata": {
    "id": "df2394fe-b638-4c4e-954c-409a07fe4817",
    "outputId": "7e3a1b14-48ee-4d42-9eac-f4d2da5b9c5f"
   },
   "outputs": [
    {
     "name": "stdout",
     "output_type": "stream",
     "text": [
      "124\n"
     ]
    }
   ],
   "source": [
    "print(x)"
   ]
  },
  {
   "cell_type": "markdown",
   "id": "00cda758-49fb-463c-b8ef-e7f9da51f43a",
   "metadata": {
    "id": "00cda758-49fb-463c-b8ef-e7f9da51f43a"
   },
   "source": [
    "#### Reading and Converting"
   ]
  },
  {
   "cell_type": "markdown",
   "id": "f5507885-8a4c-4c37-b596-2cc63bc1741b",
   "metadata": {
    "id": "f5507885-8a4c-4c37-b596-2cc63bc1741b"
   },
   "source": [
    "- We prefer to read data in using strings and then parse and convert the data as we need\n",
    "- This gives us more control over error situations and/or bad user input\n",
    "- Raw input numbers must be converted from strings\n"
   ]
  },
  {
   "cell_type": "code",
   "execution_count": null,
   "id": "f8a1501d-9452-4d07-b6a4-4952dfa32c11",
   "metadata": {
    "id": "f8a1501d-9452-4d07-b6a4-4952dfa32c11",
    "outputId": "76bb3605-974f-46f7-eab2-b53ffd289259"
   },
   "outputs": [
    {
     "name": "stdin",
     "output_type": "stream",
     "text": [
      "Enter: Chuck\n"
     ]
    }
   ],
   "source": [
    "name = input('Enter:')"
   ]
  },
  {
   "cell_type": "code",
   "execution_count": null,
   "id": "42932e73-0ecb-42a9-9434-dfe17795b9d8",
   "metadata": {
    "id": "42932e73-0ecb-42a9-9434-dfe17795b9d8",
    "outputId": "3c6a83d5-613a-4e58-f922-11d1e0f52df3"
   },
   "outputs": [
    {
     "name": "stdout",
     "output_type": "stream",
     "text": [
      "Chuck\n"
     ]
    }
   ],
   "source": [
    "print(name)\n"
   ]
  },
  {
   "cell_type": "code",
   "execution_count": null,
   "id": "a29240ac-ff81-406c-8507-f3dfd59a5342",
   "metadata": {
    "id": "a29240ac-ff81-406c-8507-f3dfd59a5342",
    "outputId": "ccf7f262-5433-44e4-8dd9-9fe095ea0bd7"
   },
   "outputs": [
    {
     "name": "stdin",
     "output_type": "stream",
     "text": [
      "Enter: 100\n"
     ]
    }
   ],
   "source": [
    "apple = input('Enter:')"
   ]
  },
  {
   "cell_type": "code",
   "execution_count": null,
   "id": "f053e844-5fc5-4a49-b9aa-3dc440e48ccc",
   "metadata": {
    "id": "f053e844-5fc5-4a49-b9aa-3dc440e48ccc"
   },
   "outputs": [],
   "source": [
    "#x = apple-10"
   ]
  },
  {
   "cell_type": "code",
   "execution_count": null,
   "id": "9eda768d-52b7-4218-92a4-9d82bb096fa2",
   "metadata": {
    "id": "9eda768d-52b7-4218-92a4-9d82bb096fa2"
   },
   "outputs": [],
   "source": [
    "x = int(apple)-10"
   ]
  },
  {
   "cell_type": "code",
   "execution_count": null,
   "id": "1a23feaa-fb45-47a8-afc4-5d6471bff774",
   "metadata": {
    "id": "1a23feaa-fb45-47a8-afc4-5d6471bff774",
    "outputId": "ee4f79ab-a47d-4c2f-9ff3-8a0c8b69a33c"
   },
   "outputs": [
    {
     "name": "stdout",
     "output_type": "stream",
     "text": [
      "90\n"
     ]
    }
   ],
   "source": [
    "print(x)"
   ]
  },
  {
   "cell_type": "markdown",
   "id": "4071738d-df3f-443f-8f1d-fc5358cb2a10",
   "metadata": {
    "id": "4071738d-df3f-443f-8f1d-fc5358cb2a10",
    "tags": []
   },
   "source": [
    "## looking inside strings"
   ]
  },
  {
   "cell_type": "markdown",
   "id": "e64182a6-e605-44b7-a1d6-860cbd1d10eb",
   "metadata": {
    "id": "e64182a6-e605-44b7-a1d6-860cbd1d10eb"
   },
   "source": [
    "- We can get at any single character in a string using an index specified in square brackets\n",
    "- The index value must be an integer and starts at zero\n",
    "- The index value can be an expression that is computed\n"
   ]
  },
  {
   "cell_type": "code",
   "execution_count": null,
   "id": "98ec30d0-14ed-4bf7-91a2-2ed0b86ee80c",
   "metadata": {
    "id": "98ec30d0-14ed-4bf7-91a2-2ed0b86ee80c"
   },
   "outputs": [],
   "source": [
    "from PIL import Image\n",
    "import numpy as np\n",
    "from IPython.display import display"
   ]
  },
  {
   "cell_type": "code",
   "execution_count": null,
   "id": "687b8df0-8070-4cb0-94d3-f6fc29ffc14c",
   "metadata": {
    "id": "687b8df0-8070-4cb0-94d3-f6fc29ffc14c",
    "outputId": "fff8776c-c511-4b87-dcee-05ee7c2c508e"
   },
   "outputs": [
    {
     "data": {
      "image/png": "[encoded data removed]",
      "text/plain": [
       "<PIL.JpegImagePlugin.JpegImageFile image mode=RGB size=293x84 at 0x1444FAE97F0>"
      ]
     },
     "metadata": {},
     "output_type": "display_data"
    }
   ],
   "source": [
    "im=Image.open('str(3).jpg')\n",
    "display(im)\n",
    "array=np.array"
   ]
  },
  {
   "cell_type": "code",
   "execution_count": null,
   "id": "79d724f5-2a97-484a-bd87-fe08894efa5c",
   "metadata": {
    "id": "79d724f5-2a97-484a-bd87-fe08894efa5c",
    "outputId": "6b27c2b3-fee8-4090-abfc-efb156de9391"
   },
   "outputs": [
    {
     "name": "stdout",
     "output_type": "stream",
     "text": [
      "a\n"
     ]
    }
   ],
   "source": [
    "fruit=\"banana\"\n",
    "letter=fruit[1]\n",
    "print(letter)"
   ]
  },
  {
   "cell_type": "code",
   "execution_count": null,
   "id": "b1b059cf-079b-4834-9830-497fedf0ec98",
   "metadata": {
    "id": "b1b059cf-079b-4834-9830-497fedf0ec98",
    "outputId": "05719856-8282-49de-9369-e37b37071072"
   },
   "outputs": [
    {
     "name": "stdout",
     "output_type": "stream",
     "text": [
      "n\n"
     ]
    }
   ],
   "source": [
    "x=3\n",
    "w=fruit[x-1]\n",
    "print(w)"
   ]
  },
  {
   "cell_type": "markdown",
   "id": "e285f4c7-c322-4b50-9ba9-fb08553e4082",
   "metadata": {
    "id": "e285f4c7-c322-4b50-9ba9-fb08553e4082"
   },
   "source": [
    "#### A Character Too Far"
   ]
  },
  {
   "cell_type": "code",
   "execution_count": 1,
   "id": "cb8886f3-d991-4f5e-ba8c-b2c8da0cb238",
   "metadata": {
    "colab": {
     "base_uri": "https://localhost:8080/",
     "height": 200
    },
    "executionInfo": {
     "elapsed": 8,
     "status": "error",
     "timestamp": 1649929576222,
     "user": {
      "displayName": "Aramide Oluwatimilehin",
      "userId": "05832635970378832849"
     },
     "user_tz": -60
    },
    "id": "cb8886f3-d991-4f5e-ba8c-b2c8da0cb238",
    "outputId": "d0fdf2ac-cb67-4ec1-f403-1d686b623b1c"
   },
   "outputs": [
    {
     "ename": "IndexError",
     "evalue": "ignored",
     "output_type": "error",
     "traceback": [
      "\u001b[0;31m---------------------------------------------------------------------------\u001b[0m",
      "\u001b[0;31mIndexError\u001b[0m                                Traceback (most recent call last)",
      "\u001b[0;32m<ipython-input-1-a387766293db>\u001b[0m in \u001b[0;36m<module>\u001b[0;34m()\u001b[0m\n\u001b[1;32m      2\u001b[0m \u001b[0;31m# So be careful when constructing index values and slices\u001b[0m\u001b[0;34m\u001b[0m\u001b[0;34m\u001b[0m\u001b[0;34m\u001b[0m\u001b[0m\n\u001b[1;32m      3\u001b[0m \u001b[0mzot\u001b[0m \u001b[0;34m=\u001b[0m \u001b[0;34m'abc'\u001b[0m\u001b[0;34m\u001b[0m\u001b[0;34m\u001b[0m\u001b[0m\n\u001b[0;32m----> 4\u001b[0;31m \u001b[0mprint\u001b[0m\u001b[0;34m(\u001b[0m\u001b[0mzot\u001b[0m\u001b[0;34m[\u001b[0m\u001b[0;36m5\u001b[0m\u001b[0;34m]\u001b[0m\u001b[0;34m)\u001b[0m\u001b[0;34m\u001b[0m\u001b[0;34m\u001b[0m\u001b[0m\n\u001b[0m",
      "\u001b[0;31mIndexError\u001b[0m: string index out of range"
     ]
    }
   ],
   "source": [
    "# You will get a python error if you attempt to index beyond the end of a string\n",
    "# So be careful when constructing index values and slices\n",
    "zot = 'abc'\n",
    "print(zot[5])\n"
   ]
  },
  {
   "cell_type": "markdown",
   "id": "c5b44e62-4319-4e2e-87e1-520b250b32b5",
   "metadata": {
    "id": "c5b44e62-4319-4e2e-87e1-520b250b32b5"
   },
   "source": [
    "#### Strings Have Length"
   ]
  },
  {
   "cell_type": "code",
   "execution_count": null,
   "id": "af69bdec-6696-4ebb-b9fd-c6ba85f7b81a",
   "metadata": {
    "id": "af69bdec-6696-4ebb-b9fd-c6ba85f7b81a",
    "outputId": "fa5a5704-cbda-4247-87ea-26767238ac53"
   },
   "outputs": [
    {
     "name": "stdout",
     "output_type": "stream",
     "text": [
      "6\n"
     ]
    }
   ],
   "source": [
    "# The built-in function len gives us the length of a string\n",
    "fruit = 'banana'\n",
    "print(len(fruit))\n"
   ]
  },
  {
   "cell_type": "markdown",
   "id": "64ce0c8c-0166-42c0-9df0-f1bf4590917d",
   "metadata": {
    "id": "64ce0c8c-0166-42c0-9df0-f1bf4590917d"
   },
   "source": [
    "#### len() Function"
   ]
  },
  {
   "cell_type": "markdown",
   "id": "99531f10-d2cb-48af-81bc-5725ed21c542",
   "metadata": {
    "id": "99531f10-d2cb-48af-81bc-5725ed21c542"
   },
   "source": [
    "A function is some stored code that we use. A function takes some input and produces an output.\n"
   ]
  },
  {
   "cell_type": "code",
   "execution_count": null,
   "id": "ce51c4a9-381a-4ecf-b8bd-37ff45a7d178",
   "metadata": {
    "id": "ce51c4a9-381a-4ecf-b8bd-37ff45a7d178",
    "outputId": "ac7d20de-6d46-486d-eaa2-e60abacd5364"
   },
   "outputs": [
    {
     "name": "stdout",
     "output_type": "stream",
     "text": [
      "6\n"
     ]
    }
   ],
   "source": [
    "fruit = 'banana'\n",
    "x = len(fruit)\n",
    "print(x)\n"
   ]
  },
  {
   "cell_type": "markdown",
   "id": "dfc018e5-121e-43a4-b280-4a79cf5f4287",
   "metadata": {
    "id": "dfc018e5-121e-43a4-b280-4a79cf5f4287"
   },
   "source": [
    "#### looping through strings"
   ]
  },
  {
   "cell_type": "markdown",
   "id": "41ac5b4c-1890-4738-8082-844edf8b5126",
   "metadata": {
    "id": "41ac5b4c-1890-4738-8082-844edf8b5126"
   },
   "source": [
    "Using a while statement, an iteration variable and the len() function, we can construct a loop to look at each of the letters in a string individually\n"
   ]
  },
  {
   "cell_type": "code",
   "execution_count": null,
   "id": "85944f6b-e999-4f76-8ecd-7f037f033f8a",
   "metadata": {
    "id": "85944f6b-e999-4f76-8ecd-7f037f033f8a",
    "outputId": "4a9ddb02-ab38-46fa-d325-d4f71c13b913"
   },
   "outputs": [
    {
     "name": "stdout",
     "output_type": "stream",
     "text": [
      "0 b\n",
      "1 a\n",
      "2 n\n",
      "3 a\n",
      "4 n\n",
      "5 a\n"
     ]
    }
   ],
   "source": [
    "fruit = 'banana'\n",
    "index = 0\n",
    "while index < len(fruit): \n",
    "    letter = fruit[index]\n",
    "    print(index, letter)\n",
    "    index = index + 1\n"
   ]
  },
  {
   "cell_type": "markdown",
   "id": "52e2b985-51a2-4902-b8b7-2510820c6e7d",
   "metadata": {
    "id": "52e2b985-51a2-4902-b8b7-2510820c6e7d"
   },
   "source": [
    "A definite loop using a for statement is much more elegant\n",
    "The iteration variable is completely taken care of by the for loop\n"
   ]
  },
  {
   "cell_type": "code",
   "execution_count": null,
   "id": "8308b6b0-3e8a-421e-a3bd-b7a0e47504f6",
   "metadata": {
    "id": "8308b6b0-3e8a-421e-a3bd-b7a0e47504f6",
    "outputId": "8a78dcb9-8b56-456e-afda-61ecc845909b"
   },
   "outputs": [
    {
     "name": "stdout",
     "output_type": "stream",
     "text": [
      "b\n",
      "a\n",
      "n\n",
      "a\n",
      "n\n",
      "a\n"
     ]
    }
   ],
   "source": [
    "fruit = 'banana'\n",
    "for letter in fruit: \n",
    "    print(letter)\n"
   ]
  },
  {
   "cell_type": "markdown",
   "id": "3f9e1fe8-da3a-43ba-a0b1-7d0e7d9d0e43",
   "metadata": {
    "id": "3f9e1fe8-da3a-43ba-a0b1-7d0e7d9d0e43"
   },
   "source": [
    "#### Looping and Counting"
   ]
  },
  {
   "cell_type": "markdown",
   "id": "4224b8ca-aede-4bd0-b343-b1f29671db35",
   "metadata": {
    "id": "4224b8ca-aede-4bd0-b343-b1f29671db35"
   },
   "source": [
    "This is a simple loop that loops through each letter in a string and counts the number of times the loop encounters the 'a' character\n"
   ]
  },
  {
   "cell_type": "code",
   "execution_count": null,
   "id": "ffbaad64-c7d8-42d6-a108-9771395ec370",
   "metadata": {
    "id": "ffbaad64-c7d8-42d6-a108-9771395ec370",
    "outputId": "b41d1530-05e1-4355-a0cf-17b31852b4bf"
   },
   "outputs": [
    {
     "name": "stdout",
     "output_type": "stream",
     "text": [
      "3\n"
     ]
    }
   ],
   "source": [
    "word = 'banana'\n",
    "count = 0\n",
    "for letter in word :\n",
    "    if letter == 'a' : \n",
    "       count = count + 1\n",
    "print(count)\n"
   ]
  },
  {
   "cell_type": "markdown",
   "id": "1e68c6f7-c05a-4b3b-a03e-7c23fae05f67",
   "metadata": {
    "id": "1e68c6f7-c05a-4b3b-a03e-7c23fae05f67"
   },
   "source": [
    "#### Looking Deeper into the \"in\" keyword"
   ]
  },
  {
   "cell_type": "markdown",
   "id": "aab5285a-b11d-4a78-88b7-b6a616ba8ea1",
   "metadata": {
    "id": "aab5285a-b11d-4a78-88b7-b6a616ba8ea1"
   },
   "source": [
    " - The iteration variable “iterates” through the sequence (ordered set)\n",
    " - The block (body) of code is executed once for each value in the sequence\n",
    " - The iteration variable moves through all of the values in the sequence\n"
   ]
  },
  {
   "cell_type": "code",
   "execution_count": null,
   "id": "36f76094-cb88-4f87-80a6-9be4f54af949",
   "metadata": {
    "id": "36f76094-cb88-4f87-80a6-9be4f54af949",
    "outputId": "b0e1264a-77b2-4a2f-b1c5-9051fc1b22e1"
   },
   "outputs": [
    {
     "name": "stdout",
     "output_type": "stream",
     "text": [
      "b\n",
      "a\n",
      "n\n",
      "a\n",
      "n\n",
      "a\n"
     ]
    }
   ],
   "source": [
    "for letter in 'banana' :\n",
    "      print(letter)\n"
   ]
  },
  {
   "cell_type": "markdown",
   "id": "fdb37395-6b36-4378-991b-9272f37a25c0",
   "metadata": {
    "id": "fdb37395-6b36-4378-991b-9272f37a25c0"
   },
   "source": [
    "### Slicing Strings"
   ]
  },
  {
   "cell_type": "code",
   "execution_count": null,
   "id": "4760f990-66ef-43f7-bd4f-c65d012e77f5",
   "metadata": {
    "id": "4760f990-66ef-43f7-bd4f-c65d012e77f5"
   },
   "outputs": [],
   "source": [
    "from PIL import Image\n",
    "import numpy as np\n",
    "from IPython.display import display"
   ]
  },
  {
   "cell_type": "code",
   "execution_count": null,
   "id": "2d51bd6c-7465-4f83-8a3b-3f426f339104",
   "metadata": {
    "id": "2d51bd6c-7465-4f83-8a3b-3f426f339104",
    "outputId": "c5bd4355-b7a4-495b-cf6a-d3ebd5de67c6"
   },
   "outputs": [
    {
     "data": {
      "image/png": "[encoded data removed]",
      "text/plain": [
       "<PIL.JpegImagePlugin.JpegImageFile image mode=RGB size=539x209 at 0x1444F5767C0>"
      ]
     },
     "metadata": {},
     "output_type": "display_data"
    }
   ],
   "source": [
    "im=Image.open('monty.jpeg')\n",
    "display(im)\n",
    "array=np.array"
   ]
  },
  {
   "cell_type": "markdown",
   "id": "7dea42e8-a74b-46e5-afb7-d8bf4e3202b9",
   "metadata": {
    "id": "7dea42e8-a74b-46e5-afb7-d8bf4e3202b9"
   },
   "source": [
    "We can also look at any continuous section of a string using a colon operator\n",
    "The second number is one beyond the end of the slice - “up to but not including”\n",
    "If the second number is beyond the end of the string, it stops at the end \n"
   ]
  },
  {
   "cell_type": "code",
   "execution_count": null,
   "id": "0a91bdfd-9112-4f2d-bcc8-baccdbba1801",
   "metadata": {
    "id": "0a91bdfd-9112-4f2d-bcc8-baccdbba1801",
    "outputId": "5a15b72c-2743-4100-acd7-268c9a7b9c66"
   },
   "outputs": [
    {
     "name": "stdout",
     "output_type": "stream",
     "text": [
      "Mont\n",
      "P\n",
      "Python\n"
     ]
    }
   ],
   "source": [
    "s = 'Monty Python'\n",
    "print(s[0:4])\n",
    "print(s[6:7])\n",
    "print(s[6:20])\n"
   ]
  },
  {
   "cell_type": "markdown",
   "id": "2f64d428-6f77-468f-916c-ac6a813f2982",
   "metadata": {
    "id": "2f64d428-6f77-468f-916c-ac6a813f2982"
   },
   "source": [
    "##### If we leave off the first number or the last number of the slice, it is assumed to be the beginning or end of the string respectively"
   ]
  },
  {
   "cell_type": "code",
   "execution_count": null,
   "id": "1a9a4636-c4e9-4253-a76a-02d0c674bc6d",
   "metadata": {
    "id": "1a9a4636-c4e9-4253-a76a-02d0c674bc6d",
    "outputId": "cd440928-5224-47d5-e08a-76d44410bfd3"
   },
   "outputs": [
    {
     "name": "stdout",
     "output_type": "stream",
     "text": [
      "Mo\n",
      "thon\n",
      "Monty Python\n"
     ]
    }
   ],
   "source": [
    "s = 'Monty Python'\n",
    "print(s[:2])\n",
    "print(s[8:])\n",
    "print(s[:])\n"
   ]
  },
  {
   "cell_type": "markdown",
   "id": "5d8dd85d-610c-4d15-a5a1-d84734d6beb5",
   "metadata": {
    "id": "5d8dd85d-610c-4d15-a5a1-d84734d6beb5"
   },
   "source": [
    "#### String Concatenation"
   ]
  },
  {
   "cell_type": "markdown",
   "id": "9c88f300-87a8-4659-a483-1cb31cbcf0a4",
   "metadata": {
    "id": "9c88f300-87a8-4659-a483-1cb31cbcf0a4"
   },
   "source": [
    "When the  +  operator is applied to strings, it means “concatenation”. String concatenation is the operation of joining character strings end-to-end. \n"
   ]
  },
  {
   "cell_type": "code",
   "execution_count": null,
   "id": "ab3f5f7e-3691-4b1d-8cac-f872b69b7fb2",
   "metadata": {
    "id": "ab3f5f7e-3691-4b1d-8cac-f872b69b7fb2",
    "outputId": "1776de44-eba3-485b-e5dc-d23488b4c160"
   },
   "outputs": [
    {
     "name": "stdout",
     "output_type": "stream",
     "text": [
      "HelloThere\n"
     ]
    }
   ],
   "source": [
    "a = 'Hello'\n",
    "b = a + 'There'\n",
    "print(b)\n"
   ]
  },
  {
   "cell_type": "code",
   "execution_count": null,
   "id": "afff600c-2132-4529-a164-065586b8de20",
   "metadata": {
    "id": "afff600c-2132-4529-a164-065586b8de20",
    "outputId": "8641a424-63cc-460d-c01b-6d4ef7fc392e"
   },
   "outputs": [
    {
     "name": "stdout",
     "output_type": "stream",
     "text": [
      "Hello There\n"
     ]
    }
   ],
   "source": [
    "c = a + ' ' + 'There'\n",
    "print(c)"
   ]
  },
  {
   "cell_type": "markdown",
   "id": "72110088-19dc-4ddb-877e-c1ae8f2a4f0e",
   "metadata": {
    "id": "72110088-19dc-4ddb-877e-c1ae8f2a4f0e"
   },
   "source": [
    "## Using \"in\" as a logical operator"
   ]
  },
  {
   "cell_type": "markdown",
   "id": "139b4b4b-83a6-410b-a99d-21d55500e91e",
   "metadata": {
    "id": "139b4b4b-83a6-410b-a99d-21d55500e91e"
   },
   "source": [
    "The in keyword can also be used to check to see if one string is “in” another string.\n",
    "The in expression is a logical expression that returns True or False and can be used in an if statement\n"
   ]
  },
  {
   "cell_type": "code",
   "execution_count": null,
   "id": "d3a72cb9-c796-475a-87e2-5af8130421cb",
   "metadata": {
    "id": "d3a72cb9-c796-475a-87e2-5af8130421cb",
    "outputId": "2f006bc1-194e-4efe-96fe-99ecc1b4bf60"
   },
   "outputs": [
    {
     "data": {
      "text/plain": [
       "True"
      ]
     },
     "execution_count": 19,
     "metadata": {},
     "output_type": "execute_result"
    }
   ],
   "source": [
    "fruit=\"banana\"\n",
    "\"n\" in fruit"
   ]
  },
  {
   "cell_type": "code",
   "execution_count": null,
   "id": "5b010a11-3c97-4251-aa8a-9e445723d552",
   "metadata": {
    "id": "5b010a11-3c97-4251-aa8a-9e445723d552",
    "outputId": "1ec0a8ec-32b6-4ab9-e2a5-70fe191ba510"
   },
   "outputs": [
    {
     "data": {
      "text/plain": [
       "False"
      ]
     },
     "execution_count": 20,
     "metadata": {},
     "output_type": "execute_result"
    }
   ],
   "source": [
    "'m' in fruit"
   ]
  },
  {
   "cell_type": "code",
   "execution_count": null,
   "id": "2503dbfe-d4a3-4218-9eb9-6f336caf5623",
   "metadata": {
    "id": "2503dbfe-d4a3-4218-9eb9-6f336caf5623",
    "outputId": "adc66d76-c075-4c2c-adba-8b3a1fd7a2f6"
   },
   "outputs": [
    {
     "name": "stdout",
     "output_type": "stream",
     "text": [
      "found it\n"
     ]
    }
   ],
   "source": [
    "if \"a\" in fruit:\n",
    "    print(\"found it\")"
   ]
  },
  {
   "cell_type": "markdown",
   "id": "0d55ea09-a2b5-4b3a-85b2-39283406b2d0",
   "metadata": {
    "id": "0d55ea09-a2b5-4b3a-85b2-39283406b2d0"
   },
   "source": [
    "#### String Comparison"
   ]
  },
  {
   "cell_type": "code",
   "execution_count": null,
   "id": "9c0fcc59-59f8-4c48-86cd-4103a3f775bb",
   "metadata": {
    "id": "9c0fcc59-59f8-4c48-86cd-4103a3f775bb",
    "outputId": "c0a24787-a35b-4c97-b31a-1ae74221681a"
   },
   "outputs": [
    {
     "name": "stdout",
     "output_type": "stream",
     "text": [
      "All right, bananas.\n",
      "All right, bananas.\n"
     ]
    }
   ],
   "source": [
    "# == is the equality operator. It is used in true/false expressions to check whether one value is equal to another one. \n",
    "if word == 'banana': \n",
    "    print('All right, bananas.')\n",
    "\n",
    "if word < 'banana':\n",
    "    print('Your word,' + word + ', comes before banana.')\n",
    "elif word > 'banana':\n",
    "    print('Your word,' + word + ', comes after banana.')\n",
    "else:\n",
    "    print('All right, bananas.')"
   ]
  },
  {
   "cell_type": "markdown",
   "id": "620b9960-7d0b-4f9c-886b-90985dcc9c8f",
   "metadata": {
    "id": "620b9960-7d0b-4f9c-886b-90985dcc9c8f",
    "jp-MarkdownHeadingCollapsed": true,
    "tags": []
   },
   "source": [
    "#### String library"
   ]
  },
  {
   "cell_type": "markdown",
   "id": "bc250f79-fa49-4e24-a433-e78657b8d5be",
   "metadata": {
    "id": "bc250f79-fa49-4e24-a433-e78657b8d5be"
   },
   "source": [
    "- Python has a number of string functions which are in the string library\n",
    "- These functions are already built into every string - we invoke them by appending the function to the string variable\n",
    "- These functions do not modify the original string, instead they return a new string that has been altered\n"
   ]
  },
  {
   "cell_type": "code",
   "execution_count": null,
   "id": "fa09013f-d552-4cad-8905-9bc992860844",
   "metadata": {
    "id": "fa09013f-d552-4cad-8905-9bc992860844",
    "outputId": "ddb025fc-1246-42e2-f306-6e422c20a3a4"
   },
   "outputs": [
    {
     "name": "stdout",
     "output_type": "stream",
     "text": [
      "hello bob\n"
     ]
    }
   ],
   "source": [
    "# The lower() method returns a string where all characters are lower case.\n",
    "greet = 'Hello Bob'\n",
    "zap = greet.lower()\n",
    "print(zap)\n"
   ]
  },
  {
   "cell_type": "code",
   "execution_count": null,
   "id": "07636c66-1243-455d-bf65-b145db1aff9a",
   "metadata": {
    "id": "07636c66-1243-455d-bf65-b145db1aff9a",
    "outputId": "de42356a-586b-4d5d-b5ba-dd8369d1302a"
   },
   "outputs": [
    {
     "name": "stdout",
     "output_type": "stream",
     "text": [
      "Hello Bob\n"
     ]
    }
   ],
   "source": [
    "print(greet)\n"
   ]
  },
  {
   "cell_type": "code",
   "execution_count": null,
   "id": "661e6860-97cf-4014-bf96-e6af5bf3ea9a",
   "metadata": {
    "id": "661e6860-97cf-4014-bf96-e6af5bf3ea9a",
    "outputId": "89e3e30e-6f51-46db-e202-08d3cdb0f805"
   },
   "outputs": [
    {
     "name": "stdout",
     "output_type": "stream",
     "text": [
      "hi there\n"
     ]
    }
   ],
   "source": [
    "print('Hi There'.lower())"
   ]
  },
  {
   "cell_type": "code",
   "execution_count": null,
   "id": "4b30b3ae-5af2-4930-9413-8276488bed2c",
   "metadata": {
    "id": "4b30b3ae-5af2-4930-9413-8276488bed2c",
    "outputId": "316df292-c9a2-44d3-d280-f08601377d37"
   },
   "outputs": [
    {
     "data": {
      "text/plain": [
       "str"
      ]
     },
     "execution_count": 26,
     "metadata": {},
     "output_type": "execute_result"
    }
   ],
   "source": [
    "#  type() method returns class type of the argument(object) passed as parameter.\n",
    "stuff = 'Hello world'\n",
    "type(stuff)\n"
   ]
  },
  {
   "cell_type": "code",
   "execution_count": null,
   "id": "2fad00cb-52dd-4a46-a5ab-8e09a9cba93c",
   "metadata": {
    "id": "2fad00cb-52dd-4a46-a5ab-8e09a9cba93c",
    "outputId": "5dee0e1b-6d5d-404d-e494-931d40bc19eb"
   },
   "outputs": [
    {
     "data": {
      "text/plain": [
       "['__add__',\n",
       " '__class__',\n",
       " '__contains__',\n",
       " '__delattr__',\n",
       " '__dir__',\n",
       " '__doc__',\n",
       " '__eq__',\n",
       " '__format__',\n",
       " '__ge__',\n",
       " '__getattribute__',\n",
       " '__getitem__',\n",
       " '__getnewargs__',\n",
       " '__gt__',\n",
       " '__hash__',\n",
       " '__init__',\n",
       " '__init_subclass__',\n",
       " '__iter__',\n",
       " '__le__',\n",
       " '__len__',\n",
       " '__lt__',\n",
       " '__mod__',\n",
       " '__mul__',\n",
       " '__ne__',\n",
       " '__new__',\n",
       " '__reduce__',\n",
       " '__reduce_ex__',\n",
       " '__repr__',\n",
       " '__rmod__',\n",
       " '__rmul__',\n",
       " '__setattr__',\n",
       " '__sizeof__',\n",
       " '__str__',\n",
       " '__subclasshook__',\n",
       " 'capitalize',\n",
       " 'casefold',\n",
       " 'center',\n",
       " 'count',\n",
       " 'encode',\n",
       " 'endswith',\n",
       " 'expandtabs',\n",
       " 'find',\n",
       " 'format',\n",
       " 'format_map',\n",
       " 'index',\n",
       " 'isalnum',\n",
       " 'isalpha',\n",
       " 'isascii',\n",
       " 'isdecimal',\n",
       " 'isdigit',\n",
       " 'isidentifier',\n",
       " 'islower',\n",
       " 'isnumeric',\n",
       " 'isprintable',\n",
       " 'isspace',\n",
       " 'istitle',\n",
       " 'isupper',\n",
       " 'join',\n",
       " 'ljust',\n",
       " 'lower',\n",
       " 'lstrip',\n",
       " 'maketrans',\n",
       " 'partition',\n",
       " 'replace',\n",
       " 'rfind',\n",
       " 'rindex',\n",
       " 'rjust',\n",
       " 'rpartition',\n",
       " 'rsplit',\n",
       " 'rstrip',\n",
       " 'split',\n",
       " 'splitlines',\n",
       " 'startswith',\n",
       " 'strip',\n",
       " 'swapcase',\n",
       " 'title',\n",
       " 'translate',\n",
       " 'upper',\n",
       " 'zfill']"
      ]
     },
     "execution_count": 27,
     "metadata": {},
     "output_type": "execute_result"
    }
   ],
   "source": [
    "dir(stuff)\n"
   ]
  },
  {
   "cell_type": "markdown",
   "id": "ac42ea07-8964-4d95-8700-1b0eaaf3a3b3",
   "metadata": {
    "id": "ac42ea07-8964-4d95-8700-1b0eaaf3a3b3"
   },
   "source": [
    "#### Searching a String"
   ]
  },
  {
   "cell_type": "markdown",
   "id": "984581b1-f8e0-4a49-af27-54e2544b682e",
   "metadata": {
    "id": "984581b1-f8e0-4a49-af27-54e2544b682e"
   },
   "source": [
    "- We use the find() function to search for a substring within another string\n",
    "- find() finds the first occurrence of the substring\n",
    "- If the substring is not found, find() returns -1\n",
    "- Remember that string position starts at zero\n"
   ]
  },
  {
   "cell_type": "code",
   "execution_count": null,
   "id": "8df52412-593b-4448-969b-fb8addd32ba1",
   "metadata": {
    "id": "8df52412-593b-4448-969b-fb8addd32ba1",
    "outputId": "d82579ec-9ef2-4a32-d1ea-fc0ad6d47acc"
   },
   "outputs": [
    {
     "name": "stdout",
     "output_type": "stream",
     "text": [
      "2\n"
     ]
    }
   ],
   "source": [
    "fruit = 'banana'\n",
    "pos = fruit.find('na')\n",
    "print(pos)\n",
    "\n"
   ]
  },
  {
   "cell_type": "code",
   "execution_count": null,
   "id": "31206c2e-7f23-4cd8-b262-e575aa4d6084",
   "metadata": {
    "id": "31206c2e-7f23-4cd8-b262-e575aa4d6084",
    "outputId": "b23e5583-9ef7-490f-f939-628bff35f573"
   },
   "outputs": [
    {
     "name": "stdout",
     "output_type": "stream",
     "text": [
      "-1\n"
     ]
    }
   ],
   "source": [
    "aa = fruit.find('z')\n",
    "print(aa)\n"
   ]
  },
  {
   "cell_type": "markdown",
   "id": "41abf6d8-3b5b-4353-9ac4-ff5014bbd2dd",
   "metadata": {
    "id": "41abf6d8-3b5b-4353-9ac4-ff5014bbd2dd"
   },
   "source": [
    "#### Making everything UPPER CASE"
   ]
  },
  {
   "cell_type": "markdown",
   "id": "1b5f7c6a-72f4-4947-9caf-e0ae451c11c8",
   "metadata": {
    "id": "1b5f7c6a-72f4-4947-9caf-e0ae451c11c8"
   },
   "source": [
    " - You can make a copy of a string in lower case or upper case\n",
    " - Often when we are searching for a string using find() we first convert the string to lower case so we can search a string regardless of case\n"
   ]
  },
  {
   "cell_type": "code",
   "execution_count": null,
   "id": "a01edeba-bce6-49dd-a7cb-91f0e25285be",
   "metadata": {
    "id": "a01edeba-bce6-49dd-a7cb-91f0e25285be",
    "outputId": "82425f04-83f7-45ef-9796-008f3ade6c37"
   },
   "outputs": [
    {
     "name": "stdout",
     "output_type": "stream",
     "text": [
      "HELLO BOB\n"
     ]
    }
   ],
   "source": [
    "greet = 'Hello Bob'\n",
    "nnn = greet.upper()\n",
    "print(nnn)\n",
    "\n",
    "\n"
   ]
  },
  {
   "cell_type": "code",
   "execution_count": null,
   "id": "0b97dc56-ec10-4a61-b0c9-2a22e40d04c9",
   "metadata": {
    "id": "0b97dc56-ec10-4a61-b0c9-2a22e40d04c9",
    "outputId": "623aec58-07e0-4077-9fd0-a037bb6cbb60"
   },
   "outputs": [
    {
     "name": "stdout",
     "output_type": "stream",
     "text": [
      "hello bob\n"
     ]
    }
   ],
   "source": [
    "www = greet.lower()\n",
    "print(www)\n"
   ]
  },
  {
   "cell_type": "markdown",
   "id": "2aece936-d236-4afe-a4f1-06fb1d8a72ac",
   "metadata": {
    "id": "2aece936-d236-4afe-a4f1-06fb1d8a72ac"
   },
   "source": [
    "#### Search and Replace"
   ]
  },
  {
   "cell_type": "markdown",
   "id": "c498e098-af17-40f9-82c1-a37452179f76",
   "metadata": {
    "id": "c498e098-af17-40f9-82c1-a37452179f76"
   },
   "source": [
    "- The replace() function is like a “search and replace” operation in a word processor\n",
    "- It replaces all occurrences of the search string with the replacement string\n"
   ]
  },
  {
   "cell_type": "code",
   "execution_count": null,
   "id": "ecba3162-2e7b-47bb-bd1a-1185a6827289",
   "metadata": {
    "id": "ecba3162-2e7b-47bb-bd1a-1185a6827289",
    "outputId": "a4efcaff-4191-4c4c-d2a3-09927dde2ca4"
   },
   "outputs": [
    {
     "name": "stdout",
     "output_type": "stream",
     "text": [
      "Hello Jane\n"
     ]
    }
   ],
   "source": [
    "# The replace() method replaces a specified phrase with another specified phrase.\n",
    "greet = 'Hello Bob'\n",
    "nstr = greet.replace('Bob','Jane')\n",
    "print(nstr)\n"
   ]
  },
  {
   "cell_type": "code",
   "execution_count": null,
   "id": "b116057c-d183-468a-8cbf-59eb3afb5c3e",
   "metadata": {
    "id": "b116057c-d183-468a-8cbf-59eb3afb5c3e",
    "outputId": "49d27dd8-7013-4863-a381-61f83b3dcac4"
   },
   "outputs": [
    {
     "name": "stdout",
     "output_type": "stream",
     "text": [
      "HellX BXb\n"
     ]
    }
   ],
   "source": [
    "nstr = greet.replace('o','X')\n",
    "print(nstr)\n",
    "\n"
   ]
  },
  {
   "cell_type": "markdown",
   "id": "0d75d8fd-20de-445f-a479-afb684802d9b",
   "metadata": {
    "id": "0d75d8fd-20de-445f-a479-afb684802d9b"
   },
   "source": [
    "#### Stripping Whitespace"
   ]
  },
  {
   "cell_type": "markdown",
   "id": "b2d7e697-4b2f-4ae7-832a-d4262a710546",
   "metadata": {
    "id": "b2d7e697-4b2f-4ae7-832a-d4262a710546"
   },
   "source": [
    "Sometimes we want to take a string and remove whitespace at the beginning and/or end\n",
    "- lstrip() and rstrip() remove whitespace at the left or right\n",
    "- strip() removes both beginning and ending whitespace\n"
   ]
  },
  {
   "cell_type": "code",
   "execution_count": null,
   "id": "4ebe0d8d-43c1-47b9-a804-16deee2a40f2",
   "metadata": {
    "id": "4ebe0d8d-43c1-47b9-a804-16deee2a40f2",
    "outputId": "91db0247-5110-4c93-efeb-5ef6f1eb1aae"
   },
   "outputs": [
    {
     "data": {
      "text/plain": [
       "'Hello Bob  '"
      ]
     },
     "execution_count": 37,
     "metadata": {},
     "output_type": "execute_result"
    }
   ],
   "source": [
    "greet = '   Hello Bob  '\n",
    "greet.lstrip() #Return a copy of the string with leading whitespace removed.\n",
    "\n"
   ]
  },
  {
   "cell_type": "code",
   "execution_count": null,
   "id": "dbd192e5-963a-4594-8992-a159d621f488",
   "metadata": {
    "id": "dbd192e5-963a-4594-8992-a159d621f488",
    "outputId": "26cbc2d5-8e27-471a-9ee8-a59a1dd743cd"
   },
   "outputs": [
    {
     "data": {
      "text/plain": [
       "'   Hello Bob'"
      ]
     },
     "execution_count": 40,
     "metadata": {},
     "output_type": "execute_result"
    }
   ],
   "source": [
    "greet.rstrip() # Return a copy of the string with trailing whitespace removed.\n"
   ]
  },
  {
   "cell_type": "code",
   "execution_count": null,
   "id": "f611afd9-e991-4d61-b822-8502a307a663",
   "metadata": {
    "id": "f611afd9-e991-4d61-b822-8502a307a663",
    "outputId": "c257f082-8006-4a36-e23c-57bb6d62af91"
   },
   "outputs": [
    {
     "data": {
      "text/plain": [
       "'Hello Bob'"
      ]
     },
     "execution_count": 41,
     "metadata": {},
     "output_type": "execute_result"
    }
   ],
   "source": [
    "greet.strip() # Return a copy of the string with leading and trailing whitespace removed."
   ]
  },
  {
   "cell_type": "markdown",
   "id": "3650d7c5-2afa-406c-a950-cc7135efd2a6",
   "metadata": {
    "id": "3650d7c5-2afa-406c-a950-cc7135efd2a6"
   },
   "source": [
    "# list"
   ]
  },
  {
   "cell_type": "markdown",
   "id": "7af3d4c2-d954-4d8a-8194-d1eac1f09f33",
   "metadata": {
    "id": "7af3d4c2-d954-4d8a-8194-d1eac1f09f33"
   },
   "source": [
    "The list is a most versatile datatype available in Python which can be written as a list of comma-separated values (items) between square brackets. Important thing about a list is that items in a list need not be of the same type.\n",
    "\n",
    "A list in Python is used to store the sequence of various types of data. Python lists are mutable type its mean we can modify its element after it created."
   ]
  },
  {
   "cell_type": "markdown",
   "id": "a63f61de-7a1a-4bda-a811-cbef3621c2b9",
   "metadata": {
    "id": "a63f61de-7a1a-4bda-a811-cbef3621c2b9"
   },
   "source": [
    "#### List Constants"
   ]
  },
  {
   "cell_type": "markdown",
   "id": "35c094f3-a8a2-463f-bd8b-fd8fed295189",
   "metadata": {
    "id": "35c094f3-a8a2-463f-bd8b-fd8fed295189"
   },
   "source": [
    " - List constants are surrounded by square brackets and the elements in the list are separated by commas.\n",
    " - A list element can be any Python object - even another list.\n",
    " - A list can be empty.\n"
   ]
  },
  {
   "cell_type": "code",
   "execution_count": null,
   "id": "7bedaa21-d8cf-4478-99e6-b46a19b10ff0",
   "metadata": {
    "id": "7bedaa21-d8cf-4478-99e6-b46a19b10ff0",
    "outputId": "1eb6c3cb-6d1a-451f-f03f-908e6cd0c93f"
   },
   "outputs": [
    {
     "name": "stdout",
     "output_type": "stream",
     "text": [
      "[1, 24, 76]\n"
     ]
    }
   ],
   "source": [
    "print([1, 24, 76])\n"
   ]
  },
  {
   "cell_type": "code",
   "execution_count": null,
   "id": "8ca87e2c-571c-4229-b8a1-86d39a21e2ea",
   "metadata": {
    "id": "8ca87e2c-571c-4229-b8a1-86d39a21e2ea",
    "outputId": "c42484a0-a0d7-4177-a0cd-ba1dbe6f0f44"
   },
   "outputs": [
    {
     "name": "stdout",
     "output_type": "stream",
     "text": [
      "['red', 'yellow', 'blue']\n"
     ]
    }
   ],
   "source": [
    "print(['red', 'yellow', 'blue'])\n",
    "\n"
   ]
  },
  {
   "cell_type": "code",
   "execution_count": null,
   "id": "27a1e0d9-c769-4079-bae4-d90cefb68033",
   "metadata": {
    "id": "27a1e0d9-c769-4079-bae4-d90cefb68033",
    "outputId": "285c12fb-ee7b-4b23-ba99-3be39dda32c4"
   },
   "outputs": [
    {
     "name": "stdout",
     "output_type": "stream",
     "text": [
      "['red', 24, 98.6]\n"
     ]
    }
   ],
   "source": [
    "print(['red', 24, 98.6])\n"
   ]
  },
  {
   "cell_type": "code",
   "execution_count": null,
   "id": "a51b0e1a-0aba-49a4-ba51-1eacc63fc782",
   "metadata": {
    "id": "a51b0e1a-0aba-49a4-ba51-1eacc63fc782",
    "outputId": "fbd005f8-0091-4ad6-ea62-eeb6985fe022"
   },
   "outputs": [
    {
     "name": "stdout",
     "output_type": "stream",
     "text": [
      "[1, [5, 6], 7]\n"
     ]
    }
   ],
   "source": [
    "print([ 1, [5, 6], 7])"
   ]
  },
  {
   "cell_type": "code",
   "execution_count": null,
   "id": "e1350abf-3370-49bc-a2e9-bf34743a2daa",
   "metadata": {
    "id": "e1350abf-3370-49bc-a2e9-bf34743a2daa",
    "outputId": "3dd7c467-6682-481a-e0f9-a2b97de5b067"
   },
   "outputs": [
    {
     "name": "stdout",
     "output_type": "stream",
     "text": [
      "[]\n"
     ]
    }
   ],
   "source": [
    "print([])"
   ]
  },
  {
   "cell_type": "markdown",
   "id": "17c3c46c-a924-4f93-9611-a92c112eee12",
   "metadata": {
    "id": "17c3c46c-a924-4f93-9611-a92c112eee12"
   },
   "source": [
    "#### Looking Inside Lists"
   ]
  },
  {
   "cell_type": "code",
   "execution_count": null,
   "id": "fbf90b74-af55-494f-9975-a1e439b63957",
   "metadata": {
    "id": "fbf90b74-af55-494f-9975-a1e439b63957",
    "outputId": "4fd3748f-2dff-4cf5-ab1c-d82832320dfd"
   },
   "outputs": [
    {
     "name": "stdout",
     "output_type": "stream",
     "text": [
      "Glenn\n"
     ]
    }
   ],
   "source": [
    "# Just like strings, we can get at any single element in a list using an index specified in square brackets\n",
    "friends = [ 'Joseph', 'Glenn', 'Sally' ]\n",
    "print(friends[1])\n"
   ]
  },
  {
   "cell_type": "markdown",
   "id": "be4c92ff-9f6c-459f-9886-f245ccdc0b80",
   "metadata": {
    "id": "be4c92ff-9f6c-459f-9886-f245ccdc0b80"
   },
   "source": [
    "Strings are “immutable” - we cannot change the contents of a string - we must make a new string to make any change.\n",
    "\n",
    "Lists are “mutable” - we can change an element of a list using the index operator\n"
   ]
  },
  {
   "cell_type": "code",
   "execution_count": null,
   "id": "1f24df52-72ff-460a-a4fa-35b34501d1ec",
   "metadata": {
    "id": "1f24df52-72ff-460a-a4fa-35b34501d1ec"
   },
   "outputs": [],
   "source": [
    "fruit = 'Banana'\n",
    "#fruit[0] = 'b'"
   ]
  },
  {
   "cell_type": "code",
   "execution_count": null,
   "id": "27081d94-fc3c-4389-b83b-45afb996b338",
   "metadata": {
    "id": "27081d94-fc3c-4389-b83b-45afb996b338",
    "outputId": "716ce1ac-ac9e-426d-a7c8-e0dda84aeb4b"
   },
   "outputs": [
    {
     "name": "stdout",
     "output_type": "stream",
     "text": [
      "banana\n"
     ]
    }
   ],
   "source": [
    "x = fruit.lower()\n",
    "print(x)\n",
    "\n"
   ]
  },
  {
   "cell_type": "code",
   "execution_count": null,
   "id": "4a188286-34dd-4882-beda-0f0f87226d4d",
   "metadata": {
    "id": "4a188286-34dd-4882-beda-0f0f87226d4d",
    "outputId": "95cb2a28-2b33-4143-ccde-47c6037cde39"
   },
   "outputs": [
    {
     "name": "stdout",
     "output_type": "stream",
     "text": [
      "[2, 14, 26, 41, 63]\n"
     ]
    }
   ],
   "source": [
    "lotto = [2, 14, 26, 41, 63]\n",
    "print(lotto)\n"
   ]
  },
  {
   "cell_type": "code",
   "execution_count": null,
   "id": "9c504649-96d8-4bf7-a13f-adfa71a413d2",
   "metadata": {
    "id": "9c504649-96d8-4bf7-a13f-adfa71a413d2",
    "outputId": "5b11f28f-d2d4-4344-ea3c-f9add9155193"
   },
   "outputs": [
    {
     "name": "stdout",
     "output_type": "stream",
     "text": [
      "[2, 14, 28, 41, 63]\n"
     ]
    }
   ],
   "source": [
    "lotto[2] = 28\n",
    "print(lotto)"
   ]
  },
  {
   "cell_type": "code",
   "execution_count": null,
   "id": "79c8f1af-4fc7-4e5b-a11e-e66cb4a7e1a2",
   "metadata": {
    "id": "79c8f1af-4fc7-4e5b-a11e-e66cb4a7e1a2",
    "outputId": "3da2ccb8-dc62-4bcd-f646-8085bd0bc6c9"
   },
   "outputs": [
    {
     "name": "stdout",
     "output_type": "stream",
     "text": [
      "9\n"
     ]
    }
   ],
   "source": [
    "# The len() function takes a list as a parameter and returns the number of elements in the list\n",
    "greet = 'Hello Bob'\n",
    "print(len(greet))\n"
   ]
  },
  {
   "cell_type": "code",
   "execution_count": null,
   "id": "cdae42e3-589a-48cf-9268-bf695f13c8ae",
   "metadata": {
    "id": "cdae42e3-589a-48cf-9268-bf695f13c8ae",
    "outputId": "223a69fe-1bc2-48b7-fb42-38dc33dfe5d5"
   },
   "outputs": [
    {
     "name": "stdout",
     "output_type": "stream",
     "text": [
      "4\n"
     ]
    }
   ],
   "source": [
    "# Actually len() tells us the number of elements of any set or sequence (such as a string...)\n",
    "x = [ 1, 2, 'joe', 99]\n",
    "print(len(x))\n"
   ]
  },
  {
   "cell_type": "markdown",
   "id": "ff65481b-012c-4a6e-af20-ec1ba6a42fd0",
   "metadata": {
    "id": "ff65481b-012c-4a6e-af20-ec1ba6a42fd0"
   },
   "source": [
    "#### Using the range() Function"
   ]
  },
  {
   "cell_type": "code",
   "execution_count": null,
   "id": "ef42bd64-1315-465f-932d-d51d283c6fde",
   "metadata": {
    "id": "ef42bd64-1315-465f-932d-d51d283c6fde",
    "outputId": "ccb786be-1064-40f9-ce07-5e30f2da840c"
   },
   "outputs": [
    {
     "name": "stdout",
     "output_type": "stream",
     "text": [
      "range(0, 4)\n"
     ]
    }
   ],
   "source": [
    "# The range function returns a list of numbers that range from zero to one less than the parameter\n",
    "print(range(4))"
   ]
  },
  {
   "cell_type": "code",
   "execution_count": null,
   "id": "414b8d39-2df4-4ac5-9177-b85d72caa11f",
   "metadata": {
    "id": "414b8d39-2df4-4ac5-9177-b85d72caa11f",
    "outputId": "a805feae-bd90-4770-d8c3-f52d889b0db8"
   },
   "outputs": [
    {
     "name": "stdout",
     "output_type": "stream",
     "text": [
      "3\n"
     ]
    }
   ],
   "source": [
    "friends = ['Joseph', 'Glenn', 'Sally']\n",
    "print(len(friends))\n"
   ]
  },
  {
   "cell_type": "code",
   "execution_count": null,
   "id": "af51ba9a-3775-41b9-97b6-4a8607099ae8",
   "metadata": {
    "id": "af51ba9a-3775-41b9-97b6-4a8607099ae8",
    "outputId": "052a8aee-3483-4fd6-bd49-2d9787f0c749"
   },
   "outputs": [
    {
     "name": "stdout",
     "output_type": "stream",
     "text": [
      "range(0, 3)\n"
     ]
    }
   ],
   "source": [
    "print(range(len(friends)))\n"
   ]
  },
  {
   "cell_type": "code",
   "execution_count": null,
   "id": "5fa59c7a-aaca-43ae-998c-9fb623e45d81",
   "metadata": {
    "id": "5fa59c7a-aaca-43ae-998c-9fb623e45d81"
   },
   "outputs": [],
   "source": [
    "# Concatenating Lists Using +\n",
    "# We can create a new list by adding two existing lists together \n",
    "a = [1, 2, 3]\n",
    "b = [4, 5, 6]\n",
    "c = a + b\n"
   ]
  },
  {
   "cell_type": "code",
   "execution_count": null,
   "id": "4878b29c-9fc8-450d-9d60-e74bd91add37",
   "metadata": {
    "id": "4878b29c-9fc8-450d-9d60-e74bd91add37",
    "outputId": "1e1f88fc-1a1d-4e89-efe7-7a14fa3db6d8"
   },
   "outputs": [
    {
     "name": "stdout",
     "output_type": "stream",
     "text": [
      "[1, 2, 3, 4, 5, 6]\n"
     ]
    }
   ],
   "source": [
    "print(c)"
   ]
  },
  {
   "cell_type": "code",
   "execution_count": null,
   "id": "e8a8907b-7966-4246-ad1e-49e8110738e8",
   "metadata": {
    "id": "e8a8907b-7966-4246-ad1e-49e8110738e8",
    "outputId": "167be64c-e843-4ef4-d1ca-e4da8cc8e4d1"
   },
   "outputs": [
    {
     "name": "stdout",
     "output_type": "stream",
     "text": [
      "[1, 2, 3]\n"
     ]
    }
   ],
   "source": [
    "print(a)"
   ]
  },
  {
   "cell_type": "code",
   "execution_count": null,
   "id": "7faddc4d-32c5-40f8-9535-d99b64729161",
   "metadata": {
    "id": "7faddc4d-32c5-40f8-9535-d99b64729161",
    "outputId": "021d419a-46be-428c-a527-19fe953a3911"
   },
   "outputs": [
    {
     "data": {
      "text/plain": [
       "[41, 12]"
      ]
     },
     "execution_count": 66,
     "metadata": {},
     "output_type": "execute_result"
    }
   ],
   "source": [
    "# Just like in strings, the second number is “upto but not including”\n",
    "t = [9, 41, 12, 3, 74, 15]\n",
    "t[1:3]\n"
   ]
  },
  {
   "cell_type": "code",
   "execution_count": null,
   "id": "848f48bf-8a0f-4415-9fc2-23bf77b0c261",
   "metadata": {
    "id": "848f48bf-8a0f-4415-9fc2-23bf77b0c261",
    "outputId": "6719a850-cb02-40b5-b4ee-44f6bb1c644e"
   },
   "outputs": [
    {
     "data": {
      "text/plain": [
       "[9, 41, 12, 3]"
      ]
     },
     "execution_count": 67,
     "metadata": {},
     "output_type": "execute_result"
    }
   ],
   "source": [
    "t[:4]\n"
   ]
  },
  {
   "cell_type": "code",
   "execution_count": null,
   "id": "2e3f7234-1933-48da-a8da-b1ed885467ee",
   "metadata": {
    "id": "2e3f7234-1933-48da-a8da-b1ed885467ee",
    "outputId": "c9e13c2a-82a3-4094-c8c6-68f93729cbdd"
   },
   "outputs": [
    {
     "data": {
      "text/plain": [
       "[3, 74, 15]"
      ]
     },
     "execution_count": 68,
     "metadata": {},
     "output_type": "execute_result"
    }
   ],
   "source": [
    "t[3:]\n"
   ]
  },
  {
   "cell_type": "code",
   "execution_count": null,
   "id": "1a5fefa0-1bb3-4cb7-a96e-68aa60d3569c",
   "metadata": {
    "id": "1a5fefa0-1bb3-4cb7-a96e-68aa60d3569c",
    "outputId": "a1460a59-0cfb-48b8-fafc-39ee8ae4a6f0"
   },
   "outputs": [
    {
     "data": {
      "text/plain": [
       "['e', 'f']"
      ]
     },
     "execution_count": 100,
     "metadata": {},
     "output_type": "execute_result"
    }
   ],
   "source": [
    "# If you omit the first index, the slice starts at the beginning. If you omit the second, the slice goes to the end. So if you omit both, the slice is a copy of the whole list.\n",
    "t[:]"
   ]
  },
  {
   "cell_type": "code",
   "execution_count": null,
   "id": "c3730784-410b-4899-977c-415dcb4afac7",
   "metadata": {
    "id": "c3730784-410b-4899-977c-415dcb4afac7",
    "outputId": "c67c8596-ea3d-4c8e-ed29-5f4078c4b73a"
   },
   "outputs": [
    {
     "data": {
      "text/plain": [
       "list"
      ]
     },
     "execution_count": 70,
     "metadata": {},
     "output_type": "execute_result"
    }
   ],
   "source": [
    "x = list()\n",
    "type(x)\n",
    "\n"
   ]
  },
  {
   "cell_type": "code",
   "execution_count": null,
   "id": "f9e10cd0-ed17-456d-b914-821b648a1958",
   "metadata": {
    "id": "f9e10cd0-ed17-456d-b914-821b648a1958",
    "outputId": "11aa5a3e-2e62-4811-c35d-af0c7060f9f4"
   },
   "outputs": [
    {
     "data": {
      "text/plain": [
       "['__add__',\n",
       " '__class__',\n",
       " '__contains__',\n",
       " '__delattr__',\n",
       " '__delitem__',\n",
       " '__dir__',\n",
       " '__doc__',\n",
       " '__eq__',\n",
       " '__format__',\n",
       " '__ge__',\n",
       " '__getattribute__',\n",
       " '__getitem__',\n",
       " '__gt__',\n",
       " '__hash__',\n",
       " '__iadd__',\n",
       " '__imul__',\n",
       " '__init__',\n",
       " '__init_subclass__',\n",
       " '__iter__',\n",
       " '__le__',\n",
       " '__len__',\n",
       " '__lt__',\n",
       " '__mul__',\n",
       " '__ne__',\n",
       " '__new__',\n",
       " '__reduce__',\n",
       " '__reduce_ex__',\n",
       " '__repr__',\n",
       " '__reversed__',\n",
       " '__rmul__',\n",
       " '__setattr__',\n",
       " '__setitem__',\n",
       " '__sizeof__',\n",
       " '__str__',\n",
       " '__subclasshook__',\n",
       " 'append',\n",
       " 'clear',\n",
       " 'copy',\n",
       " 'count',\n",
       " 'extend',\n",
       " 'index',\n",
       " 'insert',\n",
       " 'pop',\n",
       " 'remove',\n",
       " 'reverse',\n",
       " 'sort']"
      ]
     },
     "execution_count": 71,
     "metadata": {},
     "output_type": "execute_result"
    }
   ],
   "source": [
    "dir(x)"
   ]
  },
  {
   "cell_type": "markdown",
   "id": "04878524-f2ac-4238-b55c-3e4b0511b34a",
   "metadata": {
    "id": "04878524-f2ac-4238-b55c-3e4b0511b34a"
   },
   "source": [
    "#### Building a List from Scratch"
   ]
  },
  {
   "cell_type": "code",
   "execution_count": null,
   "id": "cf124e28-1e50-4b9c-93ec-5d579fe2127d",
   "metadata": {
    "id": "cf124e28-1e50-4b9c-93ec-5d579fe2127d",
    "outputId": "d49d4072-d450-4d15-f5cc-d2239c8d3a4a"
   },
   "outputs": [
    {
     "name": "stdout",
     "output_type": "stream",
     "text": [
      "['book', 99]\n"
     ]
    }
   ],
   "source": [
    "#We can create an empty list and then add elements using the append method\n",
    "stuff = list()\n",
    "stuff.append('book')\n",
    "stuff.append(99)\n",
    "print(stuff)\n"
   ]
  },
  {
   "cell_type": "code",
   "execution_count": null,
   "id": "aa7a7235-2855-483a-870a-78d38ce67ad1",
   "metadata": {
    "id": "aa7a7235-2855-483a-870a-78d38ce67ad1",
    "outputId": "736ce04a-b54e-4914-ad22-e32f2cb94f5b"
   },
   "outputs": [
    {
     "name": "stdout",
     "output_type": "stream",
     "text": [
      "['book', 99, 'cookie']\n"
     ]
    }
   ],
   "source": [
    "# The list stays in order and new elements are added at the end of the list\n",
    "stuff.append('cookie')\n",
    "\n",
    "print(stuff)\n"
   ]
  },
  {
   "cell_type": "code",
   "execution_count": null,
   "id": "edf2629b-ce30-4d64-92cd-503fc691364b",
   "metadata": {
    "id": "edf2629b-ce30-4d64-92cd-503fc691364b",
    "outputId": "75e8efcd-b4db-458c-b76f-6da6bb054f7e"
   },
   "outputs": [
    {
     "data": {
      "text/plain": [
       "True"
      ]
     },
     "execution_count": 74,
     "metadata": {},
     "output_type": "execute_result"
    }
   ],
   "source": [
    "# Python provides two operators that let you check if an item is in a list\n",
    "# These are logical operators that return True or False\n",
    "# They do not modify the list\n",
    "some = [1, 9, 21, 10, 16]\n",
    "9 in some\n",
    "\n"
   ]
  },
  {
   "cell_type": "code",
   "execution_count": null,
   "id": "90b9c8bc-5b75-47e5-bcfd-accf6f3a0c7e",
   "metadata": {
    "id": "90b9c8bc-5b75-47e5-bcfd-accf6f3a0c7e",
    "outputId": "d57f2f07-c9a7-4740-a892-05f5088c70ae"
   },
   "outputs": [
    {
     "data": {
      "text/plain": [
       "False"
      ]
     },
     "execution_count": 76,
     "metadata": {},
     "output_type": "execute_result"
    }
   ],
   "source": [
    "15 in some\n"
   ]
  },
  {
   "cell_type": "code",
   "execution_count": null,
   "id": "ae996c4a-60ab-4e47-b1ca-3dc93773aa5d",
   "metadata": {
    "id": "ae996c4a-60ab-4e47-b1ca-3dc93773aa5d",
    "outputId": "113ec5d9-137f-4ce8-f93f-b715da33dc5c"
   },
   "outputs": [
    {
     "data": {
      "text/plain": [
       "True"
      ]
     },
     "execution_count": 77,
     "metadata": {},
     "output_type": "execute_result"
    }
   ],
   "source": [
    "20 not in some"
   ]
  },
  {
   "cell_type": "markdown",
   "id": "d49e3e5b-214b-4c75-b02c-aae95013bb1d",
   "metadata": {
    "id": "d49e3e5b-214b-4c75-b02c-aae95013bb1d"
   },
   "source": [
    "Lists are in Order"
   ]
  },
  {
   "cell_type": "code",
   "execution_count": null,
   "id": "9e24c741-5b01-4dfb-942f-fc0b80b4dad6",
   "metadata": {
    "id": "9e24c741-5b01-4dfb-942f-fc0b80b4dad6"
   },
   "outputs": [],
   "source": [
    "# A list can hold many items and keeps those items in the order until we do something to change the order\n",
    "# A list can be sorted \u000b",
    "(i.e., change its order)\n",
    "# The sort method (unlike in strings) means “sort yourself”\n"
   ]
  },
  {
   "cell_type": "code",
   "execution_count": null,
   "id": "bba0c32e-3331-4f6b-993c-8ed39b3c29c6",
   "metadata": {
    "id": "bba0c32e-3331-4f6b-993c-8ed39b3c29c6",
    "outputId": "d4f0dd57-7d24-406e-b7db-4e3ad441747f"
   },
   "outputs": [
    {
     "name": "stdout",
     "output_type": "stream",
     "text": [
      "['Glenn', 'Joseph', 'Sally']\n"
     ]
    }
   ],
   "source": [
    "friends = [ 'Joseph', 'Glenn', 'Sally' ]\n",
    "friends.sort() #Sort the list in ascending order and return None.\n",
    "# The sort is in-place (i.e. the list itself is modified) and stable (i.e. the order of two equal elements is maintained).\n",
    "print(friends)\n"
   ]
  },
  {
   "cell_type": "code",
   "execution_count": null,
   "id": "45941a26-14cc-448e-8ed0-ea8580942fc4",
   "metadata": {
    "id": "45941a26-14cc-448e-8ed0-ea8580942fc4",
    "outputId": "17eb776e-b88b-4ded-aea4-956804009a15"
   },
   "outputs": [
    {
     "name": "stdout",
     "output_type": "stream",
     "text": [
      "Joseph\n"
     ]
    }
   ],
   "source": [
    "print(friends[1])\n"
   ]
  },
  {
   "cell_type": "markdown",
   "id": "0ae063bd-252f-4729-8033-c3d7023c142b",
   "metadata": {
    "id": "0ae063bd-252f-4729-8033-c3d7023c142b"
   },
   "source": [
    "#### Built-in Functions and Lists"
   ]
  },
  {
   "cell_type": "code",
   "execution_count": null,
   "id": "8b00be6b-0726-4295-b018-6709c3d5fef0",
   "metadata": {
    "id": "8b00be6b-0726-4295-b018-6709c3d5fef0"
   },
   "outputs": [],
   "source": [
    "# Creating a list\n",
    "nums = [3, 41, 12, 9, 74, 15]\n"
   ]
  },
  {
   "cell_type": "code",
   "execution_count": null,
   "id": "7fccbcb9-3b28-4899-8101-25138363b72d",
   "metadata": {
    "id": "7fccbcb9-3b28-4899-8101-25138363b72d",
    "outputId": "fb0c7a73-b9d7-4fab-808b-c859a3562651"
   },
   "outputs": [
    {
     "name": "stdout",
     "output_type": "stream",
     "text": [
      "6\n"
     ]
    }
   ],
   "source": [
    "print(len(nums)) # It returns the length of an object. "
   ]
  },
  {
   "cell_type": "code",
   "execution_count": null,
   "id": "b94b1e9f-3a3e-4ca8-98c6-4400a8c7c9dd",
   "metadata": {
    "id": "b94b1e9f-3a3e-4ca8-98c6-4400a8c7c9dd",
    "outputId": "29237809-b624-4e2f-9187-c4594370fbfc"
   },
   "outputs": [
    {
     "name": "stdout",
     "output_type": "stream",
     "text": [
      "74\n"
     ]
    }
   ],
   "source": [
    "print(max(nums)) #The max() function returns the item with the highest value."
   ]
  },
  {
   "cell_type": "code",
   "execution_count": null,
   "id": "f74968d3-fc5a-4d8c-ba31-230c1a3fda99",
   "metadata": {
    "id": "f74968d3-fc5a-4d8c-ba31-230c1a3fda99",
    "outputId": "72d7ed2d-eba0-4dd3-d648-e2ea168a6f93"
   },
   "outputs": [
    {
     "name": "stdout",
     "output_type": "stream",
     "text": [
      "3\n"
     ]
    }
   ],
   "source": [
    "# The min() function returns the item with the lowest value.\n",
    "print(min(nums))"
   ]
  },
  {
   "cell_type": "code",
   "execution_count": null,
   "id": "60d52f75-eff4-474f-a9ee-886c6df6a398",
   "metadata": {
    "id": "60d52f75-eff4-474f-a9ee-886c6df6a398",
    "outputId": "2bd3d5ea-faa8-4085-dc46-5299ca5badfb"
   },
   "outputs": [
    {
     "name": "stdout",
     "output_type": "stream",
     "text": [
      "263\n"
     ]
    }
   ],
   "source": [
    "# The sum() function returns a number, the sum of all items in an iterable.\n",
    "print(sum(nums))"
   ]
  },
  {
   "cell_type": "code",
   "execution_count": null,
   "id": "d9146b3f-981c-474b-b912-0f901ebabf68",
   "metadata": {
    "id": "d9146b3f-981c-474b-b912-0f901ebabf68",
    "outputId": "4eba1b4a-6807-44e7-8947-499860791e86"
   },
   "outputs": [
    {
     "name": "stdout",
     "output_type": "stream",
     "text": [
      "25\n"
     ]
    }
   ],
   "source": [
    "print(sum(nums)//len(nums))"
   ]
  },
  {
   "cell_type": "markdown",
   "id": "cff0525f-1875-4c93-9c4f-4909010b54a8",
   "metadata": {
    "id": "cff0525f-1875-4c93-9c4f-4909010b54a8"
   },
   "source": [
    "## Tuples"
   ]
  },
  {
   "cell_type": "markdown",
   "id": "5e19a5f7-b338-4a8b-bf06-8ab8c6c9b720",
   "metadata": {
    "id": "5e19a5f7-b338-4a8b-bf06-8ab8c6c9b720"
   },
   "source": [
    "Tuples are immutable.\n",
    "\n",
    "A tuple is a sequence of values much like a list. The values stored in a tuple can be any type, and they are indexed by integers. The important difference is that tuples are immutable. Tuples are also comparable and hashable so we can sort lists of them and use tuples as key values in Python dictionaries.\n",
    "\n",
    "Syntactically, a tuple is a comma-separated list of values:     "
   ]
  },
  {
   "cell_type": "markdown",
   "id": "68e48e17-618e-448e-9eb3-bd631567991d",
   "metadata": {
    "id": "68e48e17-618e-448e-9eb3-bd631567991d"
   },
   "source": [
    "Tuples are another kind of sequence that functions much like a list - they have elements which are indexed starting at 0\n"
   ]
  },
  {
   "cell_type": "code",
   "execution_count": null,
   "id": "d8c3b804-878e-4259-99b2-1f6d5daea652",
   "metadata": {
    "id": "d8c3b804-878e-4259-99b2-1f6d5daea652",
    "outputId": "a6a72661-551f-4cef-90f5-c3944604303f"
   },
   "outputs": [
    {
     "name": "stdout",
     "output_type": "stream",
     "text": [
      "Joseph\n"
     ]
    }
   ],
   "source": [
    "x = ('Glenn', 'Sally', 'Joseph')\n",
    "print(x[2])\n"
   ]
  },
  {
   "cell_type": "code",
   "execution_count": null,
   "id": "dfc792fc-344b-4924-a2e2-ff624ab7a92f",
   "metadata": {
    "id": "dfc792fc-344b-4924-a2e2-ff624ab7a92f",
    "outputId": "bea8e3a4-7a1f-4605-8c55-5d0d0e0844c1"
   },
   "outputs": [
    {
     "name": "stdout",
     "output_type": "stream",
     "text": [
      "(1, 9, 2)\n"
     ]
    }
   ],
   "source": [
    "y = ( 1, 9, 2 )\n",
    "print(y)\n"
   ]
  },
  {
   "cell_type": "code",
   "execution_count": null,
   "id": "bad41545-aa58-49b2-ac82-22184af746e0",
   "metadata": {
    "id": "bad41545-aa58-49b2-ac82-22184af746e0",
    "outputId": "1b7095be-b725-4940-aed6-1bdb633902a8"
   },
   "outputs": [
    {
     "name": "stdout",
     "output_type": "stream",
     "text": [
      "9\n"
     ]
    }
   ],
   "source": [
    "print(max(y))"
   ]
  },
  {
   "cell_type": "code",
   "execution_count": null,
   "id": "f11d9495-b4e8-4109-bb8c-3a6b60377808",
   "metadata": {
    "id": "f11d9495-b4e8-4109-bb8c-3a6b60377808"
   },
   "outputs": [],
   "source": [
    "# but... Tuples are “immutable”\n",
    "# Unlike a list, once you create a tuple, you cannot alter its contents - similar to a string\n",
    "z = (5, 4, 3)\n",
    "#z[2] = 0\n"
   ]
  },
  {
   "cell_type": "code",
   "execution_count": null,
   "id": "863ffc4e-8380-4f3b-9dcb-632b15038382",
   "metadata": {
    "id": "863ffc4e-8380-4f3b-9dcb-632b15038382"
   },
   "outputs": [],
   "source": [
    "# Things not to do With Tuples\n",
    "# x = (3, 2, 1)\n",
    "# x.append(5)\n",
    "# x.sort()\n",
    "# x.reverse()\n"
   ]
  },
  {
   "cell_type": "code",
   "execution_count": null,
   "id": "85029602-bf4b-4af3-afde-4ac41b8de85a",
   "metadata": {
    "id": "85029602-bf4b-4af3-afde-4ac41b8de85a",
    "outputId": "cb9a3acf-a9e6-4c54-f089-37c9b67c67e6"
   },
   "outputs": [
    {
     "data": {
      "text/plain": [
       "['__add__',\n",
       " '__class__',\n",
       " '__contains__',\n",
       " '__delattr__',\n",
       " '__dir__',\n",
       " '__doc__',\n",
       " '__eq__',\n",
       " '__format__',\n",
       " '__ge__',\n",
       " '__getattribute__',\n",
       " '__getitem__',\n",
       " '__getnewargs__',\n",
       " '__gt__',\n",
       " '__hash__',\n",
       " '__init__',\n",
       " '__init_subclass__',\n",
       " '__iter__',\n",
       " '__le__',\n",
       " '__len__',\n",
       " '__lt__',\n",
       " '__mul__',\n",
       " '__ne__',\n",
       " '__new__',\n",
       " '__reduce__',\n",
       " '__reduce_ex__',\n",
       " '__repr__',\n",
       " '__rmul__',\n",
       " '__setattr__',\n",
       " '__sizeof__',\n",
       " '__str__',\n",
       " '__subclasshook__',\n",
       " 'count',\n",
       " 'index']"
      ]
     },
     "execution_count": 93,
     "metadata": {},
     "output_type": "execute_result"
    }
   ],
   "source": [
    "t = tuple()\n",
    "dir(t)\n"
   ]
  },
  {
   "cell_type": "markdown",
   "id": "ecd8906e-466a-429e-b6a5-a1eac12bcd13",
   "metadata": {
    "id": "ecd8906e-466a-429e-b6a5-a1eac12bcd13"
   },
   "source": [
    "### Tuples and Assignment\n",
    "We can also put a tuple on the left-hand side of an assignment statement.\n",
    "We can even omit the parentheses\n"
   ]
  },
  {
   "cell_type": "code",
   "execution_count": null,
   "id": "d426c877-cfbb-4abd-b59c-55b276c38ab7",
   "metadata": {
    "id": "d426c877-cfbb-4abd-b59c-55b276c38ab7",
    "outputId": "1b24de51-9a2a-4bd8-faeb-616d1d017680"
   },
   "outputs": [
    {
     "name": "stdout",
     "output_type": "stream",
     "text": [
      "fred\n"
     ]
    }
   ],
   "source": [
    "(x, y) = (4, 'fred')\n",
    "print(y)\n"
   ]
  },
  {
   "cell_type": "code",
   "execution_count": null,
   "id": "ff4261c7-d004-4c5c-a329-acee9e3dd925",
   "metadata": {
    "id": "ff4261c7-d004-4c5c-a329-acee9e3dd925",
    "outputId": "3cd37dbd-c11d-4661-c10d-8b0c1089681d"
   },
   "outputs": [
    {
     "name": "stdout",
     "output_type": "stream",
     "text": [
      "99\n"
     ]
    }
   ],
   "source": [
    "(a, b) = (99, 98)\n",
    "print(a)\n"
   ]
  },
  {
   "cell_type": "markdown",
   "id": "f80ccf95-b479-4eb2-8597-1bdd1fb2269d",
   "metadata": {
    "id": "f80ccf95-b479-4eb2-8597-1bdd1fb2269d"
   },
   "source": [
    "#### Tuples and Dictionaries"
   ]
  },
  {
   "cell_type": "markdown",
   "id": "901e7ee3-6507-490a-8b77-19aabf281100",
   "metadata": {
    "id": "901e7ee3-6507-490a-8b77-19aabf281100"
   },
   "source": [
    "The items() method in dictionaries returns a list of (key, value) tuples\n"
   ]
  },
  {
   "cell_type": "code",
   "execution_count": null,
   "id": "04aed076-bfa3-4ed2-bb4e-51c852b65aa8",
   "metadata": {
    "id": "04aed076-bfa3-4ed2-bb4e-51c852b65aa8",
    "outputId": "f2d32bdc-8805-4544-f588-77a17bc5e5a7"
   },
   "outputs": [
    {
     "name": "stdout",
     "output_type": "stream",
     "text": [
      "csev 2\n",
      "cwen 4\n"
     ]
    }
   ],
   "source": [
    "d = dict()\n",
    "d['csev'] = 2\n",
    "d['cwen'] = 4\n",
    "for (k,v) in d.items(): \n",
    "    print(k, v)\n"
   ]
  },
  {
   "cell_type": "code",
   "execution_count": null,
   "id": "84c5f1da-8c7d-4b43-a4ee-630aacbe0085",
   "metadata": {
    "id": "84c5f1da-8c7d-4b43-a4ee-630aacbe0085",
    "outputId": "bd0928c2-0907-4ba7-b077-b70a014f8440"
   },
   "outputs": [
    {
     "name": "stdout",
     "output_type": "stream",
     "text": [
      "dict_items([('csev', 2), ('cwen', 4)])\n"
     ]
    }
   ],
   "source": [
    "tups = d.items()\n",
    "print(tups)\n"
   ]
  },
  {
   "cell_type": "markdown",
   "id": "5bd76256-7db7-4f0c-8298-d59e9a7d9018",
   "metadata": {
    "id": "5bd76256-7db7-4f0c-8298-d59e9a7d9018"
   },
   "source": [
    "#### Tuples are Comparable"
   ]
  },
  {
   "cell_type": "markdown",
   "id": "b2a39da8-d285-431e-9ce9-c6c7dbea996b",
   "metadata": {
    "id": "b2a39da8-d285-431e-9ce9-c6c7dbea996b"
   },
   "source": [
    "The comparison operators work with tuples and other sequences. If the first item is equal, Python goes on to the next element,  and so on, until it finds elements that differ."
   ]
  },
  {
   "cell_type": "code",
   "execution_count": null,
   "id": "b5289c05-13d9-4144-8cee-c0f89c69244e",
   "metadata": {
    "id": "b5289c05-13d9-4144-8cee-c0f89c69244e",
    "outputId": "525d3e89-c7b5-4ba0-804a-c63d7cba671a"
   },
   "outputs": [
    {
     "data": {
      "text/plain": [
       "True"
      ]
     },
     "execution_count": 99,
     "metadata": {},
     "output_type": "execute_result"
    }
   ],
   "source": [
    "(0, 1, 2) < (5, 1, 2)"
   ]
  },
  {
   "cell_type": "code",
   "execution_count": null,
   "id": "8adcb5c1-7b17-4305-9482-cd18b5b69a72",
   "metadata": {
    "id": "8adcb5c1-7b17-4305-9482-cd18b5b69a72",
    "outputId": "99301749-2f0c-47c2-ba80-c000d67c6a52"
   },
   "outputs": [
    {
     "data": {
      "text/plain": [
       "True"
      ]
     },
     "execution_count": 100,
     "metadata": {},
     "output_type": "execute_result"
    }
   ],
   "source": [
    "(0, 1, 2000000) < (0, 3, 4)"
   ]
  },
  {
   "cell_type": "code",
   "execution_count": null,
   "id": "e796c884-b3d5-4e82-b96d-70bfc52ff696",
   "metadata": {
    "id": "e796c884-b3d5-4e82-b96d-70bfc52ff696",
    "outputId": "c3681440-a730-4986-f7e1-9bef88e6acc5"
   },
   "outputs": [
    {
     "data": {
      "text/plain": [
       "True"
      ]
     },
     "execution_count": 101,
     "metadata": {},
     "output_type": "execute_result"
    }
   ],
   "source": [
    "( 'Jones', 'Sally' ) < ('Jones', 'Sam')"
   ]
  },
  {
   "cell_type": "code",
   "execution_count": null,
   "id": "ebd50104-dd70-4ac3-b137-a9b44983e026",
   "metadata": {
    "id": "ebd50104-dd70-4ac3-b137-a9b44983e026",
    "outputId": "f8a58c44-30aa-45a4-d779-43a08f5e0e54"
   },
   "outputs": [
    {
     "data": {
      "text/plain": [
       "True"
      ]
     },
     "execution_count": 102,
     "metadata": {},
     "output_type": "execute_result"
    }
   ],
   "source": [
    "( 'Jones', 'Sally') > ('Adams', 'Sam')\n"
   ]
  },
  {
   "cell_type": "markdown",
   "id": "d3ebad55-2f4b-4436-bcf8-a4743d77f80b",
   "metadata": {
    "id": "d3ebad55-2f4b-4436-bcf8-a4743d77f80b"
   },
   "source": [
    "#### Sorting Lists of Tuples"
   ]
  },
  {
   "cell_type": "markdown",
   "id": "94ceb470-9517-4f99-ba04-2e9ae6639bf9",
   "metadata": {
    "id": "94ceb470-9517-4f99-ba04-2e9ae6639bf9"
   },
   "source": [
    "We can take advantage of the ability to sort a list of tuples to get a sorted version of a dictionary\n",
    "\n",
    "First we sort the dictionary by the key using the items() method and sorted() function\n"
   ]
  },
  {
   "cell_type": "code",
   "execution_count": null,
   "id": "4a7405f3-8036-404c-be23-2df028c8333b",
   "metadata": {
    "id": "4a7405f3-8036-404c-be23-2df028c8333b",
    "outputId": "f51c28af-9f72-4804-e1cf-0b89ea8a5f33"
   },
   "outputs": [
    {
     "data": {
      "text/plain": [
       "dict_items([('a', 10), ('b', 1), ('c', 22)])"
      ]
     },
     "execution_count": 103,
     "metadata": {},
     "output_type": "execute_result"
    }
   ],
   "source": [
    "d = {'a':10, 'b':1, 'c':22}\n",
    "d.items()\n"
   ]
  },
  {
   "cell_type": "code",
   "execution_count": null,
   "id": "77bef38e-aba6-41e9-84fd-626247e768d2",
   "metadata": {
    "id": "77bef38e-aba6-41e9-84fd-626247e768d2",
    "outputId": "09a1ccbc-5d36-42b4-f35b-de34881c9bb0"
   },
   "outputs": [
    {
     "data": {
      "text/plain": [
       "[('a', 10), ('b', 1), ('c', 22)]"
      ]
     },
     "execution_count": 104,
     "metadata": {},
     "output_type": "execute_result"
    }
   ],
   "source": [
    "sorted(d.items())"
   ]
  },
  {
   "cell_type": "code",
   "execution_count": null,
   "id": "b3be01d7-228d-4057-89eb-7702088df303",
   "metadata": {
    "id": "b3be01d7-228d-4057-89eb-7702088df303",
    "outputId": "532b4158-ed05-452f-91c8-23f59f03d8c7"
   },
   "outputs": [
    {
     "data": {
      "text/plain": [
       "[('a', 10), ('b', 1), ('c', 22)]"
      ]
     },
     "execution_count": 105,
     "metadata": {},
     "output_type": "execute_result"
    }
   ],
   "source": [
    "# Using sorted()\n",
    "# We can do this even more directly using the built-in function sorted that takes a sequence as a parameter and returns a sorted sequence\n",
    "d = {'a':10, 'b':1, 'c':22}\n",
    "t = sorted(d.items())\n",
    "t\n"
   ]
  },
  {
   "cell_type": "code",
   "execution_count": null,
   "id": "e56e0eaa-fdff-4d2a-8361-eb30dc7ebdef",
   "metadata": {
    "id": "e56e0eaa-fdff-4d2a-8361-eb30dc7ebdef",
    "outputId": "1687004a-4107-4425-e4e1-1f6050323fe5"
   },
   "outputs": [
    {
     "name": "stdout",
     "output_type": "stream",
     "text": [
      "a 10\n",
      "b 1\n",
      "c 22\n"
     ]
    }
   ],
   "source": [
    "for k, v in sorted(d.items()):\n",
    "    print(k, v)\n"
   ]
  },
  {
   "cell_type": "markdown",
   "id": "597d020a-a24a-4beb-9d89-d8fdf3715064",
   "metadata": {
    "id": "597d020a-a24a-4beb-9d89-d8fdf3715064"
   },
   "source": [
    "#### Sort by Values Instead of Key"
   ]
  },
  {
   "cell_type": "markdown",
   "id": "2f5ae535-5a79-49d9-bf9f-553375a0f8de",
   "metadata": {
    "id": "2f5ae535-5a79-49d9-bf9f-553375a0f8de"
   },
   "source": [
    "To do this, we first make a list of tuples where each tuple is (value, key). The items method would give us a list of (key, value) tuples, but this time we want to sort by value, not key. Once we have constructed the list with the value-key tuples, it is a simple matter to sort the list in reverse order and print out the new, sorted list."
   ]
  },
  {
   "cell_type": "code",
   "execution_count": null,
   "id": "a4a85f8b-ca31-4f3b-bbcb-397412d6e230",
   "metadata": {
    "id": "a4a85f8b-ca31-4f3b-bbcb-397412d6e230",
    "outputId": "c557b24e-68a8-4ef1-c755-1e450a53cd23"
   },
   "outputs": [
    {
     "name": "stdout",
     "output_type": "stream",
     "text": [
      "[(10, 'a'), (1, 'b'), (22, 'c')]\n"
     ]
    }
   ],
   "source": [
    "# If we could construct a list of tuples of the form (value, key) we could sort by value\n",
    "# We do this with a for loop that creates a list of tuples  \n",
    "\n",
    "c = {'a':10, 'b':1, 'c':22}\n",
    "tmp = list()\n",
    "for k, v in c.items() :\n",
    "    tmp.append( (v, k) )\n",
    "print(tmp)\n"
   ]
  },
  {
   "cell_type": "code",
   "execution_count": null,
   "id": "08c936f8-85ea-4e30-995c-47a6a85e3c05",
   "metadata": {
    "id": "08c936f8-85ea-4e30-995c-47a6a85e3c05",
    "outputId": "e92d62c0-e645-47f8-9ff8-a2a8f4472192"
   },
   "outputs": [
    {
     "name": "stdout",
     "output_type": "stream",
     "text": [
      "[(22, 'c'), (10, 'a'), (1, 'b')]\n"
     ]
    }
   ],
   "source": [
    "tmp = sorted(tmp, reverse=True)\n",
    "print(tmp)\n"
   ]
  },
  {
   "cell_type": "markdown",
   "id": "1fe98bf1-911f-413c-875a-4932d42c57b6",
   "metadata": {
    "id": "1fe98bf1-911f-413c-875a-4932d42c57b6"
   },
   "source": [
    "## The most common words\n",
    "Coming back to our running example of the text from Romeo and Juliet Act 2, Scene 2, we can augment our program to use this technique to print the ten most common words in the text as follows:"
   ]
  },
  {
   "cell_type": "code",
   "execution_count": null,
   "id": "cbfcb503-88cd-4f6f-9dfb-c23b2e3032f4",
   "metadata": {
    "id": "cbfcb503-88cd-4f6f-9dfb-c23b2e3032f4",
    "outputId": "8a21ac87-b332-409a-b8b4-57e005a857f4"
   },
   "outputs": [
    {
     "name": "stdout",
     "output_type": "stream",
     "text": [
      "the 3\n",
      "is 3\n",
      "and 3\n",
      "sun 2\n",
      "yonder 1\n",
      "with 1\n",
      "window 1\n",
      "what 1\n",
      "through 1\n",
      "soft 1\n"
     ]
    }
   ],
   "source": [
    "# The first part of the program which reads the file and computes the dictionary that maps each word to the count of words in the document is unchanged. But instead of simply printing out counts and ending the program, we construct a list of (val, key) tuples and then sort the list in reverse order.\n",
    "# Since the value is first, it will be used for the comparisons. If there is more than one tuple with the same value, it will look at the second element (the key), so tuples where the value is the same will be further sorted by the alphabetical order of the key.\n",
    "# At the end we write a nice for loop which does a multiple assignment iteration and prints out the ten most common words by iterating through a slice of the list (lst[:10]).\n",
    "# So now the output finally looks like what we want for our word frequency analysis.\n",
    "fhand = open('romeo.txt')\n",
    "counts = {}\n",
    "for line in fhand:\n",
    "    words = line.split()\n",
    "    for word in words:\n",
    "        counts[word] = counts.get(word, 0 ) + 1\n",
    "\n",
    "lst = []\n",
    "for key, val in counts.items():\n",
    "    newtup = (val, key) \n",
    "    lst.append(newtup)\n",
    "\n",
    "lst = sorted(lst, reverse=True)\n",
    "\n",
    "for val, key in lst[:10] :\n",
    "    print(key, val)\n"
   ]
  },
  {
   "cell_type": "markdown",
   "id": "edc17cf3-5909-47a0-bf26-f5dee54d8a47",
   "metadata": {
    "id": "edc17cf3-5909-47a0-bf26-f5dee54d8a47"
   },
   "source": [
    "## Creating List"
   ]
  },
  {
   "cell_type": "markdown",
   "id": "8d6ef762-6e24-450c-8838-dae1ae53bcd1",
   "metadata": {
    "id": "8d6ef762-6e24-450c-8838-dae1ae53bcd1"
   },
   "source": [
    "A Python list is created by adding elements in the square brackets [ ]. "
   ]
  },
  {
   "cell_type": "code",
   "execution_count": null,
   "id": "5bfd1173-14ec-4c1a-8da3-d730f1b7e9a9",
   "metadata": {
    "id": "5bfd1173-14ec-4c1a-8da3-d730f1b7e9a9",
    "outputId": "353eaf0a-a9e3-42af-d369-489d0444902d"
   },
   "outputs": [
    {
     "name": "stdout",
     "output_type": "stream",
     "text": [
      "[1, 2, 3, 4]\n"
     ]
    }
   ],
   "source": [
    "num = [1, 2, 3, 4]\n",
    "print(num)"
   ]
  },
  {
   "cell_type": "code",
   "execution_count": null,
   "id": "e207307f-033a-4b2a-a926-af34168612ea",
   "metadata": {
    "id": "e207307f-033a-4b2a-a926-af34168612ea",
    "outputId": "b7eabfd5-9b87-4242-cd57-e8599c7eccd2"
   },
   "outputs": [
    {
     "name": "stdout",
     "output_type": "stream",
     "text": [
      "['a', 'b', 'c', 'd']\n"
     ]
    }
   ],
   "source": [
    "letter = ['a','b','c','d']\n",
    "print(letter)"
   ]
  },
  {
   "cell_type": "code",
   "execution_count": null,
   "id": "a000931a-c328-43bd-b84c-45bdf1678745",
   "metadata": {
    "id": "a000931a-c328-43bd-b84c-45bdf1678745",
    "outputId": "9fbb9c46-b40c-457a-c6ea-6601d91a071c"
   },
   "outputs": [
    {
     "name": "stdout",
     "output_type": "stream",
     "text": [
      "['get', 'certified', 'get', 'head']\n"
     ]
    }
   ],
   "source": [
    "stg = ['get','certified','get','head']\n",
    "print(stg)"
   ]
  },
  {
   "cell_type": "code",
   "execution_count": null,
   "id": "495fde9a-8020-4d6a-ab1c-414876e81ad2",
   "metadata": {
    "id": "495fde9a-8020-4d6a-ab1c-414876e81ad2",
    "outputId": "230a740f-07cb-4edc-9189-3f058cadb618"
   },
   "outputs": [
    {
     "name": "stdout",
     "output_type": "stream",
     "text": [
      "[1, 6, 'simplilearn', 'get', 'certified']\n"
     ]
    }
   ],
   "source": [
    "mix = [1,6,'simplilearn','get','certified']\n",
    "print(mix)"
   ]
  },
  {
   "cell_type": "code",
   "execution_count": null,
   "id": "7c1a7843-9788-4bdd-9e00-701bcac8d729",
   "metadata": {
    "id": "7c1a7843-9788-4bdd-9e00-701bcac8d729",
    "outputId": "70956557-371b-4c65-f702-8e0989312727"
   },
   "outputs": [
    {
     "name": "stdout",
     "output_type": "stream",
     "text": [
      "[[1, 2], ['a', 'b']]\n"
     ]
    }
   ],
   "source": [
    "mat = [[1,2],['a','b']]\n",
    "print(mat)"
   ]
  },
  {
   "cell_type": "markdown",
   "id": "5277e273-3436-4543-bc7d-85f58b6f5914",
   "metadata": {
    "id": "5277e273-3436-4543-bc7d-85f58b6f5914"
   },
   "source": [
    "## Access Elements From List"
   ]
  },
  {
   "cell_type": "markdown",
   "id": "a99d3c4e-ab39-48fa-bc40-7ef1bc726901",
   "metadata": {
    "id": "a99d3c4e-ab39-48fa-bc40-7ef1bc726901"
   },
   "source": [
    "Every Python list starts with the index ‘0’. We can access the elements by specifying the index number. For example: To access elements in the list, we provide the index (as integer) inside the square brackets ( [ ] ) as given below. "
   ]
  },
  {
   "cell_type": "markdown",
   "id": "56c8e262-0555-4016-a283-3310479eb4a2",
   "metadata": {
    "id": "56c8e262-0555-4016-a283-3310479eb4a2"
   },
   "source": [
    "To access the elements from the end we use negative indexing. -1 means the last element. -2 the second last element and so on. For instance, if you want to access the 4th element from the ending of the list named mix, you write mix[-4]. "
   ]
  },
  {
   "cell_type": "code",
   "execution_count": null,
   "id": "b4e66dba-3064-42d8-bf08-b656e695201a",
   "metadata": {
    "id": "b4e66dba-3064-42d8-bf08-b656e695201a",
    "outputId": "13c00ec6-1d3a-4d09-a5f0-ab7c43902edb"
   },
   "outputs": [
    {
     "name": "stdout",
     "output_type": "stream",
     "text": [
      "[1, 6, 'simplilearn', 'get', 'certified']\n"
     ]
    }
   ],
   "source": [
    "print(mix)"
   ]
  },
  {
   "cell_type": "code",
   "execution_count": null,
   "id": "a8b6cfee-804d-45f8-b39d-36b32ff93108",
   "metadata": {
    "id": "a8b6cfee-804d-45f8-b39d-36b32ff93108",
    "outputId": "f60f1e79-475e-4866-a8ee-93889708ff1b"
   },
   "outputs": [
    {
     "data": {
      "text/plain": [
       "'get'"
      ]
     },
     "execution_count": 125,
     "metadata": {},
     "output_type": "execute_result"
    }
   ],
   "source": [
    "mix[3]"
   ]
  },
  {
   "cell_type": "code",
   "execution_count": null,
   "id": "cc30caca-3fb5-4102-a969-b16f573f04a7",
   "metadata": {
    "id": "cc30caca-3fb5-4102-a969-b16f573f04a7",
    "outputId": "082b0aa8-86c0-4559-9bd4-ba6f527b8a08"
   },
   "outputs": [
    {
     "data": {
      "text/plain": [
       "'get'"
      ]
     },
     "execution_count": 126,
     "metadata": {},
     "output_type": "execute_result"
    }
   ],
   "source": [
    "mix[-2]"
   ]
  },
  {
   "cell_type": "code",
   "execution_count": null,
   "id": "b05f6ac9-ff00-4f55-ada2-795325d77242",
   "metadata": {
    "id": "b05f6ac9-ff00-4f55-ada2-795325d77242",
    "outputId": "fc7a8c5c-1979-4af1-eca4-e5625959ea98"
   },
   "outputs": [
    {
     "data": {
      "text/plain": [
       "[1, 6, 'simplilearn']"
      ]
     },
     "execution_count": 127,
     "metadata": {},
     "output_type": "execute_result"
    }
   ],
   "source": [
    "# If the starting value is left out, the range will begin from the starting element.\n",
    "\n",
    "\n",
    "mix[:3]"
   ]
  },
  {
   "cell_type": "code",
   "execution_count": null,
   "id": "db9eb894-dde5-41ca-bfd0-0c9e94e389f8",
   "metadata": {
    "id": "db9eb894-dde5-41ca-bfd0-0c9e94e389f8",
    "outputId": "0835c44c-9778-4b79-cbe0-4cd757d4e84d"
   },
   "outputs": [
    {
     "data": {
      "text/plain": [
       "['get', 'certified']"
      ]
     },
     "execution_count": 128,
     "metadata": {},
     "output_type": "execute_result"
    }
   ],
   "source": [
    "mix[3:]"
   ]
  },
  {
   "cell_type": "code",
   "execution_count": null,
   "id": "7d0eefa3-0422-4de1-b212-4aa6a2e4983a",
   "metadata": {
    "id": "7d0eefa3-0422-4de1-b212-4aa6a2e4983a",
    "outputId": "3ad1efb4-85b3-4cea-d351-c92f2e9868ee"
   },
   "outputs": [
    {
     "data": {
      "text/plain": [
       "['simplilearn', 'get']"
      ]
     },
     "execution_count": 129,
     "metadata": {},
     "output_type": "execute_result"
    }
   ],
   "source": [
    "mix[2:4]"
   ]
  },
  {
   "cell_type": "code",
   "execution_count": null,
   "id": "d0a7a410-0b8d-4462-aae1-5de96181f038",
   "metadata": {
    "id": "d0a7a410-0b8d-4462-aae1-5de96181f038",
    "outputId": "f0685ed1-75e2-4c41-b422-58125576128b"
   },
   "outputs": [
    {
     "data": {
      "text/plain": [
       "[1, 'simplilearn', 'certified']"
      ]
     },
     "execution_count": 130,
     "metadata": {},
     "output_type": "execute_result"
    }
   ],
   "source": [
    "mix[::2]"
   ]
  },
  {
   "cell_type": "code",
   "execution_count": null,
   "id": "837f2e35-5e98-4169-a189-33c98eb90bf3",
   "metadata": {
    "id": "837f2e35-5e98-4169-a189-33c98eb90bf3",
    "outputId": "8cc5a93d-a1aa-4ea3-903a-595abdef2a05"
   },
   "outputs": [
    {
     "data": {
      "text/plain": [
       "['certified', 'get', 'simplilearn', 6, 1]"
      ]
     },
     "execution_count": 131,
     "metadata": {},
     "output_type": "execute_result"
    }
   ],
   "source": [
    "mix[::-1]"
   ]
  },
  {
   "cell_type": "markdown",
   "id": "24a00e3f-b61e-4075-88da-ed8950c2a54f",
   "metadata": {
    "id": "24a00e3f-b61e-4075-88da-ed8950c2a54f"
   },
   "source": [
    "## Operations on list"
   ]
  },
  {
   "cell_type": "code",
   "execution_count": null,
   "id": "dd3e8967-a391-49bd-a1ef-c0a96f25938e",
   "metadata": {
    "id": "dd3e8967-a391-49bd-a1ef-c0a96f25938e",
    "outputId": "abaadca6-8705-4762-c6cc-6e4b5dce485b"
   },
   "outputs": [
    {
     "name": "stdout",
     "output_type": "stream",
     "text": [
      "[0, 0, 0, 0, 0, 0, 0, 0, 0, 0, 0, 0, 0, 0, 0, 0, 0, 0, 0, 0, 0, 0, 0, 0, 0, 0, 0, 0, 0, 0, 0, 0, 0, 0, 0, 0, 0, 0, 0, 0, 0, 0, 0, 0, 0, 0, 0, 0, 0, 0, 0, 0, 0, 0, 0, 0, 0, 0, 0, 0, 0, 0, 0, 0, 0, 0, 0, 0, 0, 0, 0, 0, 0, 0, 0, 0, 0, 0, 0, 0, 0, 0, 0, 0, 0, 0, 0, 0, 0, 0, 0, 0, 0, 0, 0, 0, 0, 0, 0, 0]\n"
     ]
    }
   ],
   "source": [
    "z = [0]*100\n",
    "print(z)"
   ]
  },
  {
   "cell_type": "code",
   "execution_count": null,
   "id": "b6109b6a-a882-48d8-a0af-13b04fc5fab7",
   "metadata": {
    "id": "b6109b6a-a882-48d8-a0af-13b04fc5fab7",
    "outputId": "c0fb01ef-fe8e-45ef-f8ba-a0de872d96c4"
   },
   "outputs": [
    {
     "name": "stdout",
     "output_type": "stream",
     "text": [
      "['a', 'b', 'c', 'd']\n"
     ]
    }
   ],
   "source": [
    "print(letter)"
   ]
  },
  {
   "cell_type": "code",
   "execution_count": null,
   "id": "ffe7f94c-7ed1-4f6f-9045-65e157b6099d",
   "metadata": {
    "id": "ffe7f94c-7ed1-4f6f-9045-65e157b6099d",
    "outputId": "4f9c3465-faf4-4ee8-9d36-1abf3311531d"
   },
   "outputs": [
    {
     "name": "stdout",
     "output_type": "stream",
     "text": [
      "['get', 'certified', 'get', 'head']\n"
     ]
    }
   ],
   "source": [
    "print(stg)"
   ]
  },
  {
   "cell_type": "code",
   "execution_count": null,
   "id": "47e7bf3c-af5c-417b-bc6e-e83c4852ad64",
   "metadata": {
    "id": "47e7bf3c-af5c-417b-bc6e-e83c4852ad64"
   },
   "outputs": [],
   "source": [
    "conc = letter + stg"
   ]
  },
  {
   "cell_type": "code",
   "execution_count": null,
   "id": "b3197763-5378-4f19-9be7-d8903f3036e1",
   "metadata": {
    "id": "b3197763-5378-4f19-9be7-d8903f3036e1",
    "outputId": "aa90a538-60c6-4493-c89a-8997cc40b03c"
   },
   "outputs": [
    {
     "name": "stdout",
     "output_type": "stream",
     "text": [
      "['a', 'b', 'c', 'd', 'get', 'certified', 'get', 'head']\n"
     ]
    }
   ],
   "source": [
    "print(conc)"
   ]
  },
  {
   "cell_type": "code",
   "execution_count": null,
   "id": "265fbbf2-f63b-4aab-8f22-0a8ed394f992",
   "metadata": {
    "id": "265fbbf2-f63b-4aab-8f22-0a8ed394f992",
    "outputId": "97574581-2aa0-456f-f6cd-cbd0366e2fb9"
   },
   "outputs": [
    {
     "name": "stdout",
     "output_type": "stream",
     "text": [
      "['h', 'e', 'y', ' ', 't', 'h', 'e', 'r', 'e']\n"
     ]
    }
   ],
   "source": [
    "var = list('hey there')\n",
    "print(var)"
   ]
  },
  {
   "cell_type": "code",
   "execution_count": null,
   "id": "acefdb32-ce92-465c-b4dc-7bbf4069bde8",
   "metadata": {
    "id": "acefdb32-ce92-465c-b4dc-7bbf4069bde8",
    "outputId": "9d6725a4-1159-4093-8cc5-e911cf97c5d1"
   },
   "outputs": [
    {
     "name": "stdout",
     "output_type": "stream",
     "text": [
      "[1, 2, 3, 4]\n"
     ]
    }
   ],
   "source": [
    "print(num)"
   ]
  },
  {
   "cell_type": "code",
   "execution_count": null,
   "id": "31789619-1d48-4cf2-9a1b-7d13eddeaf97",
   "metadata": {
    "id": "31789619-1d48-4cf2-9a1b-7d13eddeaf97",
    "outputId": "0c1c138f-42da-4d97-ae0b-852dc818b560"
   },
   "outputs": [
    {
     "name": "stdout",
     "output_type": "stream",
     "text": [
      "1\n",
      "[2, 3, 4]\n"
     ]
    }
   ],
   "source": [
    "one, *other=num\n",
    "print(one)\n",
    "print(other)"
   ]
  },
  {
   "cell_type": "markdown",
   "id": "99e8a5fe-546f-4621-89ec-b47368139916",
   "metadata": {
    "id": "99e8a5fe-546f-4621-89ec-b47368139916"
   },
   "source": [
    "## Methods in list"
   ]
  },
  {
   "cell_type": "code",
   "execution_count": null,
   "id": "8294d9c7-82c1-4244-b998-8afd7380400a",
   "metadata": {
    "id": "8294d9c7-82c1-4244-b998-8afd7380400a",
    "outputId": "78886637-2593-4500-a3d8-2d86a4536df6"
   },
   "outputs": [
    {
     "name": "stdout",
     "output_type": "stream",
     "text": [
      "[1, 2, 3, 4]\n"
     ]
    }
   ],
   "source": [
    "print(num)"
   ]
  },
  {
   "cell_type": "code",
   "execution_count": null,
   "id": "50b2a0c5-9483-42a2-836f-062f632101ee",
   "metadata": {
    "id": "50b2a0c5-9483-42a2-836f-062f632101ee"
   },
   "outputs": [],
   "source": [
    "# The append() method adds the element to the end of the list.\n",
    "num.append(6)"
   ]
  },
  {
   "cell_type": "code",
   "execution_count": null,
   "id": "93504802-996d-4487-be90-6fa240291035",
   "metadata": {
    "id": "93504802-996d-4487-be90-6fa240291035",
    "outputId": "04ca7e57-0f06-4aae-df8a-47a7d2cc7a5f"
   },
   "outputs": [
    {
     "name": "stdout",
     "output_type": "stream",
     "text": [
      "[1, 2, 3, 4, 6]\n"
     ]
    }
   ],
   "source": [
    "print(num)"
   ]
  },
  {
   "cell_type": "code",
   "execution_count": null,
   "id": "a36cb887-c222-4662-a61c-8b9b84eb30df",
   "metadata": {
    "id": "a36cb887-c222-4662-a61c-8b9b84eb30df"
   },
   "outputs": [],
   "source": [
    "# The extend() method adds all the elements of an iterable (list, tuple, string etc.) to the end of the list.\n",
    "num.extend(stg)"
   ]
  },
  {
   "cell_type": "code",
   "execution_count": null,
   "id": "f1cffd94-0a8a-4259-849f-555aff094591",
   "metadata": {
    "id": "f1cffd94-0a8a-4259-849f-555aff094591",
    "outputId": "9be41be7-2839-494a-881c-577132dc8c99"
   },
   "outputs": [
    {
     "name": "stdout",
     "output_type": "stream",
     "text": [
      "[1, 2, 3, 4, 6, 'get', 'certified', 'get', 'head']\n"
     ]
    }
   ],
   "source": [
    "print(num)"
   ]
  },
  {
   "cell_type": "code",
   "execution_count": null,
   "id": "4d706969-8ada-4965-b2ea-0e6eabc918cd",
   "metadata": {
    "id": "4d706969-8ada-4965-b2ea-0e6eabc918cd"
   },
   "outputs": [],
   "source": [
    "# The Python insert() method adds an element to a specific position in a list.\n",
    "num.insert(5,'simplilearn')"
   ]
  },
  {
   "cell_type": "code",
   "execution_count": null,
   "id": "e095b336-361d-4a81-b12a-e0646cad16a8",
   "metadata": {
    "id": "e095b336-361d-4a81-b12a-e0646cad16a8",
    "outputId": "af83d73a-a27e-422e-be3f-a04ddd6aaa68"
   },
   "outputs": [
    {
     "name": "stdout",
     "output_type": "stream",
     "text": [
      "[1, 2, 3, 4, 6, 'simplilearn', 'get', 'certified', 'get', 'head']\n"
     ]
    }
   ],
   "source": [
    "print(num)"
   ]
  },
  {
   "cell_type": "code",
   "execution_count": null,
   "id": "d13e411a-aa90-4e00-8fb2-126e66ac2bba",
   "metadata": {
    "id": "d13e411a-aa90-4e00-8fb2-126e66ac2bba"
   },
   "outputs": [],
   "source": [
    "# remove () removes the item with the specified value\n",
    "num.remove('simplilearn')"
   ]
  },
  {
   "cell_type": "code",
   "execution_count": null,
   "id": "597e28a0-61d2-4157-b224-af62c504007d",
   "metadata": {
    "id": "597e28a0-61d2-4157-b224-af62c504007d",
    "outputId": "15879906-b3fc-4633-e81c-94e918789c8b"
   },
   "outputs": [
    {
     "name": "stdout",
     "output_type": "stream",
     "text": [
      "[1, 2, 3, 4, 6, 'get', 'certified', 'get', 'head']\n"
     ]
    }
   ],
   "source": [
    "print(num)"
   ]
  },
  {
   "cell_type": "code",
   "execution_count": null,
   "id": "130d053e-c44b-45f8-b661-d1a1c3bdd8c0",
   "metadata": {
    "id": "130d053e-c44b-45f8-b661-d1a1c3bdd8c0"
   },
   "outputs": [],
   "source": [
    "var1 = ['b','f','a','q','r']\n",
    "var1.sort() # The sort() method sorts the list ascending by default."
   ]
  },
  {
   "cell_type": "code",
   "execution_count": null,
   "id": "9a2eaf8a-3b8d-4d75-8f53-7a27406970c2",
   "metadata": {
    "id": "9a2eaf8a-3b8d-4d75-8f53-7a27406970c2",
    "outputId": "0999c414-4144-4f22-8656-aa51f7604d9c"
   },
   "outputs": [
    {
     "name": "stdout",
     "output_type": "stream",
     "text": [
      "['a', 'b', 'f', 'q', 'r']\n"
     ]
    }
   ],
   "source": [
    "print(var1)"
   ]
  },
  {
   "cell_type": "markdown",
   "id": "6fc54d74-52e8-4dcf-9b8b-d4a300eca452",
   "metadata": {
    "id": "6fc54d74-52e8-4dcf-9b8b-d4a300eca452"
   },
   "source": [
    "## Built-in functions with list"
   ]
  },
  {
   "cell_type": "code",
   "execution_count": null,
   "id": "edbe705e-f81d-450d-8eeb-9b6d3e0ccc61",
   "metadata": {
    "id": "edbe705e-f81d-450d-8eeb-9b6d3e0ccc61"
   },
   "outputs": [],
   "source": [
    "x= [9,17,14,4,90,55]"
   ]
  },
  {
   "cell_type": "code",
   "execution_count": null,
   "id": "9acabf86-0e0a-47e7-be59-ae27ca2087e4",
   "metadata": {
    "id": "9acabf86-0e0a-47e7-be59-ae27ca2087e4",
    "outputId": "c7b0e081-a7eb-4649-cf82-a1528c2dcc8d"
   },
   "outputs": [
    {
     "data": {
      "text/plain": [
       "6"
      ]
     },
     "execution_count": 153,
     "metadata": {},
     "output_type": "execute_result"
    }
   ],
   "source": [
    "len(x)"
   ]
  },
  {
   "cell_type": "code",
   "execution_count": null,
   "id": "89ff00f7-2b40-49ed-b48e-8e9eec45df1b",
   "metadata": {
    "id": "89ff00f7-2b40-49ed-b48e-8e9eec45df1b",
    "outputId": "d49754f0-52a6-4c3e-fd32-0396de57b0a3"
   },
   "outputs": [
    {
     "data": {
      "text/plain": [
       "4"
      ]
     },
     "execution_count": 154,
     "metadata": {},
     "output_type": "execute_result"
    }
   ],
   "source": [
    "min(x)"
   ]
  },
  {
   "cell_type": "code",
   "execution_count": null,
   "id": "5ef8f6f1-8e24-4c92-881d-70a2404bd94b",
   "metadata": {
    "id": "5ef8f6f1-8e24-4c92-881d-70a2404bd94b",
    "outputId": "be6b0def-143b-4370-9a2b-19811b4eed2a"
   },
   "outputs": [
    {
     "data": {
      "text/plain": [
       "90"
      ]
     },
     "execution_count": 155,
     "metadata": {},
     "output_type": "execute_result"
    }
   ],
   "source": [
    "max(x)"
   ]
  },
  {
   "cell_type": "code",
   "execution_count": null,
   "id": "c5b0b05c-f54c-4ba8-8c9c-f51c59dd0b54",
   "metadata": {
    "id": "c5b0b05c-f54c-4ba8-8c9c-f51c59dd0b54",
    "outputId": "b1b6eb3e-b9cb-41c8-f5ce-22c0abfba817"
   },
   "outputs": [
    {
     "data": {
      "text/plain": [
       "189"
      ]
     },
     "execution_count": 156,
     "metadata": {},
     "output_type": "execute_result"
    }
   ],
   "source": [
    "sum(x)"
   ]
  },
  {
   "cell_type": "code",
   "execution_count": null,
   "id": "2de1968e-0c54-4b16-9c02-8794a81c0e56",
   "metadata": {
    "id": "2de1968e-0c54-4b16-9c02-8794a81c0e56",
    "outputId": "de2fc413-1f0d-4742-f32b-37db6c865f80"
   },
   "outputs": [
    {
     "data": {
      "text/plain": [
       "31.5"
      ]
     },
     "execution_count": 157,
     "metadata": {},
     "output_type": "execute_result"
    }
   ],
   "source": [
    "sum(x)/len(x)"
   ]
  },
  {
   "cell_type": "markdown",
   "id": "e0bed03b-58fe-4faf-874a-b1ac3f77dfd1",
   "metadata": {
    "id": "3101cac1-61be-4f5d-ba08-10485f6ed894"
   },
   "source": [
    "## Required Reading on Strings,Lists and Tuples"
   ]
  },
  {
   "cell_type": "markdown",
   "id": "abea3780-4d25-4f68-b6ed-60610b915b8b",
   "metadata": {},
   "source": [
    "### Strings"
   ]
  },
  {
   "cell_type": "markdown",
   "id": "a292f4d3-2cd6-4d9a-804c-a164a473f4bc",
   "metadata": {},
   "source": [
    "#### A string is a sequence"
   ]
  },
  {
   "cell_type": "markdown",
   "id": "a2cd4e31-7ede-419c-ad60-c4a972b5f521",
   "metadata": {},
   "source": [
    "A string is a sequence of characters. You can access the characters one at a time\n",
    "with the bracket operator:"
   ]
  },
  {
   "cell_type": "code",
   "execution_count": 1,
   "id": "9a202114-5d2a-49e5-80ad-a6ed8438db99",
   "metadata": {},
   "outputs": [
    {
     "name": "stdout",
     "output_type": "stream",
     "text": [
      "a\n"
     ]
    }
   ],
   "source": [
    "fruit = 'banana'\n",
    "letter = fruit[1]\n",
    "print(letter)"
   ]
  },
  {
   "cell_type": "markdown",
   "id": "fbf5493b-1a53-48e7-a430-69a42214833d",
   "metadata": {},
   "source": [
    "For most people, the first letter of “banana” is b, not a. But in Python, the index\n",
    "is an offset from the beginning of the string, and the offset of the first letter is zero."
   ]
  },
  {
   "cell_type": "code",
   "execution_count": 2,
   "id": "d5317f46-cdac-4f04-9778-905a246f59f3",
   "metadata": {},
   "outputs": [
    {
     "name": "stdout",
     "output_type": "stream",
     "text": [
      "b\n"
     ]
    }
   ],
   "source": [
    "letter = fruit[0]\n",
    "print(letter)"
   ]
  },
  {
   "cell_type": "markdown",
   "id": "9d5d447f-d101-4363-b6ee-8b80db581458",
   "metadata": {},
   "source": [
    "#### Getting the length of a string using len"
   ]
  },
  {
   "cell_type": "code",
   "execution_count": 3,
   "id": "78daa979-e2f2-4dee-8e76-18c1fc975141",
   "metadata": {},
   "outputs": [
    {
     "data": {
      "text/plain": [
       "6"
      ]
     },
     "execution_count": 3,
     "metadata": {},
     "output_type": "execute_result"
    }
   ],
   "source": [
    "#len is a built-in function that returns the number of characters in a string:\n",
    "fruit = 'banana'\n",
    "len(fruit)"
   ]
  },
  {
   "cell_type": "code",
   "execution_count": 4,
   "id": "2e1ebffd-90f8-41d8-9ca0-81bc181b720d",
   "metadata": {},
   "outputs": [
    {
     "name": "stdout",
     "output_type": "stream",
     "text": [
      "a\n"
     ]
    }
   ],
   "source": [
    "#To get the last letter of a string, you might be tempted to try something like this:\n",
    "length = len(fruit)\n",
    "last = fruit[length-1]\n",
    "print(last)"
   ]
  },
  {
   "cell_type": "markdown",
   "id": "7e55d775-a950-4676-8c7d-b305b5e000b3",
   "metadata": {},
   "source": [
    "#### String slices"
   ]
  },
  {
   "cell_type": "markdown",
   "id": "b9d8ac8a-683f-43bc-8321-233a8a3079c5",
   "metadata": {},
   "source": [
    "A segment of a string is called a slice. Selecting a slice is similar to selecting a\n",
    "character:"
   ]
  },
  {
   "cell_type": "code",
   "execution_count": 5,
   "id": "54a7555e-7db9-483a-a250-2c51cb818276",
   "metadata": {},
   "outputs": [
    {
     "name": "stdout",
     "output_type": "stream",
     "text": [
      "Monty\n"
     ]
    }
   ],
   "source": [
    " s = 'Monty Python'\n",
    "print(s[0:5])"
   ]
  },
  {
   "cell_type": "code",
   "execution_count": 6,
   "id": "dc06c3bb-1071-4a46-8843-b5a83d18d0f3",
   "metadata": {},
   "outputs": [
    {
     "name": "stdout",
     "output_type": "stream",
     "text": [
      "Python\n"
     ]
    }
   ],
   "source": [
    "print(s[6:12])"
   ]
  },
  {
   "cell_type": "code",
   "execution_count": 7,
   "id": "690c2ba2-257b-4c74-8e78-5435e0880f63",
   "metadata": {},
   "outputs": [],
   "source": [
    "fruit = 'banana'"
   ]
  },
  {
   "cell_type": "code",
   "execution_count": 8,
   "id": "9074f29b-5f92-4139-9738-e70dc53fc4e9",
   "metadata": {},
   "outputs": [
    {
     "data": {
      "text/plain": [
       "'ban'"
      ]
     },
     "execution_count": 8,
     "metadata": {},
     "output_type": "execute_result"
    }
   ],
   "source": [
    "#If you omit the first index (before the colon), the slice starts at the beginning of the string\n",
    "fruit[:3]"
   ]
  },
  {
   "cell_type": "code",
   "execution_count": 9,
   "id": "57722e7c-d354-4360-9048-a2f69d71cb8d",
   "metadata": {},
   "outputs": [
    {
     "data": {
      "text/plain": [
       "'ana'"
      ]
     },
     "execution_count": 9,
     "metadata": {},
     "output_type": "execute_result"
    }
   ],
   "source": [
    "#If you omit the second index, the slice goes to the end of the string\n",
    "fruit[3:]"
   ]
  },
  {
   "cell_type": "code",
   "execution_count": 11,
   "id": "f6564220-71d6-4ef5-81e4-e07fa4dabe3c",
   "metadata": {},
   "outputs": [
    {
     "data": {
      "text/plain": [
       "''"
      ]
     },
     "execution_count": 11,
     "metadata": {},
     "output_type": "execute_result"
    }
   ],
   "source": [
    "#If the first index is greater than or equal to the second the result is an empty string, represented by two quotation marks\n",
    "fruit = 'banana'\n",
    "fruit[3:3]"
   ]
  },
  {
   "cell_type": "markdown",
   "id": "3642fb86-cd12-4c20-b1c9-ca78d6124f3f",
   "metadata": {},
   "source": [
    "#### Strings are immutable"
   ]
  },
  {
   "cell_type": "markdown",
   "id": "400956c1-9c11-4f9e-9748-d65c3959f7cc",
   "metadata": {},
   "source": [
    "The reason for the error is that strings are immutable, which means you can’t change an existing string."
   ]
  },
  {
   "cell_type": "code",
   "execution_count": 12,
   "id": "f41c5db0-35a3-4a4c-b1ae-9d60025119a4",
   "metadata": {},
   "outputs": [
    {
     "name": "stdout",
     "output_type": "stream",
     "text": [
      "Jello, world!\n"
     ]
    }
   ],
   "source": [
    "greeting = 'Hello, world!'\n",
    "new_greeting = 'J' + greeting[1:]\n",
    "print(new_greeting)"
   ]
  },
  {
   "cell_type": "markdown",
   "id": "a3950d57-ca4a-4f28-b79c-75bb40f59685",
   "metadata": {},
   "source": [
    "#### Looping and counting"
   ]
  },
  {
   "cell_type": "markdown",
   "id": "49643d33-e319-4459-9141-c08fcf5e9163",
   "metadata": {},
   "source": [
    "The following program counts the number of times the letter a appears in a string"
   ]
  },
  {
   "cell_type": "code",
   "execution_count": 13,
   "id": "f34e230f-c7bc-4ccb-b08f-8fb709960b4c",
   "metadata": {},
   "outputs": [
    {
     "name": "stdout",
     "output_type": "stream",
     "text": [
      "3\n"
     ]
    }
   ],
   "source": [
    "word = 'banana'\n",
    "count = 0\n",
    "for letter in word:\n",
    "    if letter == 'a':\n",
    "        count = count + 1\n",
    "print(count)"
   ]
  },
  {
   "cell_type": "markdown",
   "id": "eaebac32-5d14-4981-8c07-3b435d0a4f52",
   "metadata": {},
   "source": [
    "#### The in operator"
   ]
  },
  {
   "cell_type": "markdown",
   "id": "60b80931-79a8-40b7-a868-bdc879ebbe84",
   "metadata": {},
   "source": [
    "The word in is a boolean operator that takes two strings and returns True if the first appears as a substring in the second:"
   ]
  },
  {
   "cell_type": "code",
   "execution_count": 15,
   "id": "5e893a01-77ab-409a-8151-61f49526edcf",
   "metadata": {},
   "outputs": [
    {
     "data": {
      "text/plain": [
       "True"
      ]
     },
     "execution_count": 15,
     "metadata": {},
     "output_type": "execute_result"
    }
   ],
   "source": [
    "'a' in 'banana'"
   ]
  },
  {
   "cell_type": "code",
   "execution_count": 16,
   "id": "a14eac6e-5487-459e-9c3e-b547653f5ee1",
   "metadata": {},
   "outputs": [
    {
     "data": {
      "text/plain": [
       "False"
      ]
     },
     "execution_count": 16,
     "metadata": {},
     "output_type": "execute_result"
    }
   ],
   "source": [
    "'seed' in 'banana'"
   ]
  },
  {
   "cell_type": "markdown",
   "id": "ce9bd616-8766-484a-a863-104eadf44461",
   "metadata": {},
   "source": [
    "#### String comparison"
   ]
  },
  {
   "cell_type": "code",
   "execution_count": 18,
   "id": "82b8f21f-6062-4b35-8934-a2733baa557c",
   "metadata": {},
   "outputs": [
    {
     "name": "stdout",
     "output_type": "stream",
     "text": [
      "All right, bananas.\n"
     ]
    }
   ],
   "source": [
    "#The comparison operators work on strings. To see if two strings are equal\n",
    "if word == 'banana':\n",
    "    print('All right, bananas.')"
   ]
  },
  {
   "cell_type": "code",
   "execution_count": 19,
   "id": "acbe4cac-dc65-4885-aa71-eb28e72de1f6",
   "metadata": {},
   "outputs": [
    {
     "name": "stdout",
     "output_type": "stream",
     "text": [
      "All right, bananas.\n"
     ]
    }
   ],
   "source": [
    "#Other comparison operations are useful for putting words in alphabetical order\n",
    "if word < 'banana':\n",
    "    print('Your word,' + word + ', comes before banana.')\n",
    "elif word > 'banana':\n",
    "    print('Your word,' + word + ', comes after banana.')\n",
    "else:\n",
    "    print('All right, bananas.')"
   ]
  },
  {
   "cell_type": "markdown",
   "id": "9b714d47-91e4-4c95-b423-3d3701d654ae",
   "metadata": {},
   "source": [
    "#### String methods"
   ]
  },
  {
   "cell_type": "code",
   "execution_count": 20,
   "id": "b0984f23-24c4-4aef-b0c6-ca87ca6ffe20",
   "metadata": {},
   "outputs": [
    {
     "name": "stdout",
     "output_type": "stream",
     "text": [
      "BANANA\n"
     ]
    }
   ],
   "source": [
    "word = 'banana'\n",
    "new_word = word.upper()\n",
    "print(new_word)"
   ]
  },
  {
   "cell_type": "code",
   "execution_count": 21,
   "id": "082d5381-fd67-4a0f-93ff-4fc9eacc6de4",
   "metadata": {},
   "outputs": [
    {
     "name": "stdout",
     "output_type": "stream",
     "text": [
      "1\n"
     ]
    }
   ],
   "source": [
    "word = 'banana'\n",
    "index = word.find('a')\n",
    "print(index)"
   ]
  },
  {
   "cell_type": "markdown",
   "id": "af793c46-cb34-4436-b535-96124c4cfc8f",
   "metadata": {},
   "source": [
    "In this example, we invoke find on word and pass the letter we are looking for as\n",
    "a parameter.\n",
    "The find method can find substrings as well as characters"
   ]
  },
  {
   "cell_type": "code",
   "execution_count": 22,
   "id": "1a7674d0-937d-4b4b-9682-345f2b42b4a0",
   "metadata": {},
   "outputs": [
    {
     "data": {
      "text/plain": [
       "2"
      ]
     },
     "execution_count": 22,
     "metadata": {},
     "output_type": "execute_result"
    }
   ],
   "source": [
    "word.find('na')"
   ]
  },
  {
   "cell_type": "code",
   "execution_count": 23,
   "id": "9c3f6647-81ac-4cb7-a587-5f0d894ac6b5",
   "metadata": {},
   "outputs": [
    {
     "data": {
      "text/plain": [
       "4"
      ]
     },
     "execution_count": 23,
     "metadata": {},
     "output_type": "execute_result"
    }
   ],
   "source": [
    "#It can take as a second argument the index where it should start\n",
    "word.find('na', 3)"
   ]
  },
  {
   "cell_type": "markdown",
   "id": "359dc77e-a42c-42ef-8477-f0fc7f7d57df",
   "metadata": {},
   "source": [
    "One common task is to remove white space (spaces, tabs, or newlines) from the\n",
    "beginning and end of a string using the strip method"
   ]
  },
  {
   "cell_type": "code",
   "execution_count": 24,
   "id": "04641dda-d787-4366-8f3b-f299c592b9e2",
   "metadata": {},
   "outputs": [
    {
     "data": {
      "text/plain": [
       "'Here we go'"
      ]
     },
     "execution_count": 24,
     "metadata": {},
     "output_type": "execute_result"
    }
   ],
   "source": [
    "line = ' Here we go '\n",
    "line.strip()"
   ]
  },
  {
   "cell_type": "code",
   "execution_count": 25,
   "id": "153a42b3-856e-4052-8ae4-76f40bfd46d9",
   "metadata": {},
   "outputs": [
    {
     "data": {
      "text/plain": [
       "True"
      ]
     },
     "execution_count": 25,
     "metadata": {},
     "output_type": "execute_result"
    }
   ],
   "source": [
    "#Some methods such as startswith return boolean values\n",
    "line = 'Have a nice day'\n",
    "line.startswith('Have')"
   ]
  },
  {
   "cell_type": "code",
   "execution_count": 26,
   "id": "9b5fd355-36d5-45f4-b30e-0728feb2139f",
   "metadata": {},
   "outputs": [
    {
     "data": {
      "text/plain": [
       "False"
      ]
     },
     "execution_count": 26,
     "metadata": {},
     "output_type": "execute_result"
    }
   ],
   "source": [
    "line.startswith('h')"
   ]
  },
  {
   "cell_type": "markdown",
   "id": "f3bacd7b-9e24-4f09-80f4-6626e39e38d0",
   "metadata": {},
   "source": [
    "You will note that startswith requires case to match, so sometimes we take a line\n",
    "and map it all to lowercase before we do any checking using the lower method."
   ]
  },
  {
   "cell_type": "code",
   "execution_count": 27,
   "id": "450c5bd2-f703-4035-b19e-3bf1f4211ed2",
   "metadata": {},
   "outputs": [
    {
     "data": {
      "text/plain": [
       "False"
      ]
     },
     "execution_count": 27,
     "metadata": {},
     "output_type": "execute_result"
    }
   ],
   "source": [
    "line = 'Have a nice day'\n",
    "line.startswith('h')"
   ]
  },
  {
   "cell_type": "code",
   "execution_count": 28,
   "id": "63f7aefe-f231-4bd1-b66e-29e2149c750f",
   "metadata": {},
   "outputs": [
    {
     "data": {
      "text/plain": [
       "'have a nice day'"
      ]
     },
     "execution_count": 28,
     "metadata": {},
     "output_type": "execute_result"
    }
   ],
   "source": [
    "line.lower()"
   ]
  },
  {
   "cell_type": "code",
   "execution_count": 29,
   "id": "cd37012c-54d3-402d-b651-59b778acba79",
   "metadata": {},
   "outputs": [
    {
     "data": {
      "text/plain": [
       "True"
      ]
     },
     "execution_count": 29,
     "metadata": {},
     "output_type": "execute_result"
    }
   ],
   "source": [
    "line.lower().startswith('h')"
   ]
  },
  {
   "cell_type": "markdown",
   "id": "44901fe0-6873-4c6e-a395-1f830513e773",
   "metadata": {},
   "source": [
    "#### Parsing strings"
   ]
  },
  {
   "cell_type": "code",
   "execution_count": 30,
   "id": "2f882a65-ce91-4708-8f06-8bb8e37cb2ce",
   "metadata": {},
   "outputs": [
    {
     "name": "stdout",
     "output_type": "stream",
     "text": [
      "21\n"
     ]
    }
   ],
   "source": [
    "data = 'From stephen.marquard@uct.ac.za Sat Jan 5 09:14:16 2008'\n",
    "atpos = data.find('@')\n",
    "print(atpos)"
   ]
  },
  {
   "cell_type": "code",
   "execution_count": 31,
   "id": "c5ed6ec8-93aa-4a56-b0c4-e9f847da0ad0",
   "metadata": {},
   "outputs": [
    {
     "name": "stdout",
     "output_type": "stream",
     "text": [
      "31\n"
     ]
    }
   ],
   "source": [
    "sppos = data.find(' ',atpos)\n",
    "print(sppos)"
   ]
  },
  {
   "cell_type": "code",
   "execution_count": 32,
   "id": "3e905b9d-def7-43c1-95df-4d28d1973d55",
   "metadata": {},
   "outputs": [
    {
     "name": "stdout",
     "output_type": "stream",
     "text": [
      "uct.ac.za\n"
     ]
    }
   ],
   "source": [
    "host = data[atpos+1:sppos]\n",
    "print(host)"
   ]
  },
  {
   "cell_type": "markdown",
   "id": "a50938f5-5390-40a8-903c-e9240e6e5cf6",
   "metadata": {},
   "source": [
    "### Lists"
   ]
  },
  {
   "cell_type": "markdown",
   "id": "f530d25c-0ce7-44b1-ab86-1c91e8db9ee9",
   "metadata": {},
   "source": [
    "A list is a sequence\n",
    "Like a string, a list is a sequence of values. In a string, the values are characters;\n",
    "in a list, they can be any type."
   ]
  },
  {
   "cell_type": "code",
   "execution_count": 33,
   "id": "2d0ee359-e9ae-4f46-812d-ce6b484edbf3",
   "metadata": {},
   "outputs": [
    {
     "data": {
      "text/plain": [
       "[10, 20, 30, 40]"
      ]
     },
     "execution_count": 33,
     "metadata": {},
     "output_type": "execute_result"
    }
   ],
   "source": [
    "[10, 20, 30, 40]"
   ]
  },
  {
   "cell_type": "code",
   "execution_count": 36,
   "id": "4dc6d1b5-f1c5-4470-8a1d-4aa63650ffca",
   "metadata": {},
   "outputs": [
    {
     "data": {
      "text/plain": [
       "['crunchy frog', 'ram bladder', 'lark vomit']"
      ]
     },
     "execution_count": 36,
     "metadata": {},
     "output_type": "execute_result"
    }
   ],
   "source": [
    "['crunchy frog', 'ram bladder', 'lark vomit'] "
   ]
  },
  {
   "cell_type": "markdown",
   "id": "28ab9d99-e725-40b3-9ea3-6a76f934e951",
   "metadata": {},
   "source": [
    "A list within another list is nested.\n",
    "A list that contains no elements is called an empty list; you can create one with\n",
    "empty brackets, []."
   ]
  },
  {
   "cell_type": "code",
   "execution_count": 37,
   "id": "25eb46ec-0ef1-47be-b7cd-8748478f46be",
   "metadata": {},
   "outputs": [
    {
     "name": "stdout",
     "output_type": "stream",
     "text": [
      "['Cheddar', 'Edam', 'Gouda'] [17, 123] []\n"
     ]
    }
   ],
   "source": [
    "cheeses = ['Cheddar', 'Edam', 'Gouda']\n",
    "numbers = [17, 123]\n",
    "empty = []\n",
    "print(cheeses, numbers, empty)"
   ]
  },
  {
   "cell_type": "markdown",
   "id": "2ee885e7-e82b-4091-929a-89c92b1d3d6e",
   "metadata": {},
   "source": [
    "#### Lists are mutable"
   ]
  },
  {
   "cell_type": "code",
   "execution_count": 38,
   "id": "7d512271-b1ea-40d0-b51b-8d69b587b0b7",
   "metadata": {},
   "outputs": [
    {
     "name": "stdout",
     "output_type": "stream",
     "text": [
      "Cheddar\n"
     ]
    }
   ],
   "source": [
    "print(cheeses[0])"
   ]
  },
  {
   "cell_type": "markdown",
   "id": "64e7e72c-def0-4470-a3c5-9c1fc4af8d67",
   "metadata": {},
   "source": [
    "Unlike strings, lists are mutable because you can change the order of items in a\n",
    "list or reassign an item in a list. When the bracket operator appears on the left\n",
    "side of an assignment, it identifies the element of the list that will be assigne"
   ]
  },
  {
   "cell_type": "code",
   "execution_count": 39,
   "id": "bfa18505-3d4e-468c-833d-ad83cc3651a3",
   "metadata": {},
   "outputs": [
    {
     "name": "stdout",
     "output_type": "stream",
     "text": [
      "[17, 5]\n"
     ]
    }
   ],
   "source": [
    "numbers = [17, 123]\n",
    "numbers[1] = 5\n",
    "print(numbers)"
   ]
  },
  {
   "cell_type": "code",
   "execution_count": 40,
   "id": "acfc9b9c-8106-4441-8733-fd4854152394",
   "metadata": {},
   "outputs": [
    {
     "data": {
      "text/plain": [
       "True"
      ]
     },
     "execution_count": 40,
     "metadata": {},
     "output_type": "execute_result"
    }
   ],
   "source": [
    "cheeses = ['Cheddar', 'Edam', 'Gouda']\n",
    "'Edam' in cheeses"
   ]
  },
  {
   "cell_type": "code",
   "execution_count": 41,
   "id": "e4f9255a-bff5-43a6-84b9-6e174a79025d",
   "metadata": {},
   "outputs": [
    {
     "data": {
      "text/plain": [
       "False"
      ]
     },
     "execution_count": 41,
     "metadata": {},
     "output_type": "execute_result"
    }
   ],
   "source": [
    "'Brie' in cheeses"
   ]
  },
  {
   "cell_type": "markdown",
   "id": "71e028b8-b4e2-40d7-a608-7d6ffdcdbfea",
   "metadata": {},
   "source": [
    "#### Traversing a list"
   ]
  },
  {
   "cell_type": "markdown",
   "id": "6918ad19-688e-41c6-95db-5cddc27bd607",
   "metadata": {},
   "source": [
    "The most common way to traverse the elements of a list is with a for loop. The\n",
    "syntax is the same as for string"
   ]
  },
  {
   "cell_type": "code",
   "execution_count": 42,
   "id": "22d18d14-4dde-4ba9-81db-b0d25843212c",
   "metadata": {},
   "outputs": [
    {
     "name": "stdout",
     "output_type": "stream",
     "text": [
      "Cheddar\n",
      "Edam\n",
      "Gouda\n"
     ]
    }
   ],
   "source": [
    "for cheese in cheeses:\n",
    "    print(cheese)"
   ]
  },
  {
   "cell_type": "markdown",
   "id": "aecbdf88-8115-4b9b-899c-59c180762596",
   "metadata": {},
   "source": [
    "This works well if you only need to read the elements of the list. But if you want\n",
    "to write or update the elements, you need the indices. A common way to do that\n",
    "is to combine the functions range and len"
   ]
  },
  {
   "cell_type": "code",
   "execution_count": 43,
   "id": "77392df0-7a67-477e-a0ee-e691ec4aad61",
   "metadata": {},
   "outputs": [],
   "source": [
    "for i in range(len(numbers)):\n",
    "    numbers[i] = numbers[i] * 2"
   ]
  },
  {
   "cell_type": "markdown",
   "id": "36145512-3427-4702-85ae-b00557ed698b",
   "metadata": {},
   "source": [
    "####  List operations"
   ]
  },
  {
   "cell_type": "code",
   "execution_count": 44,
   "id": "e80642b0-bc94-4f38-af95-99da955b34a9",
   "metadata": {},
   "outputs": [
    {
     "name": "stdout",
     "output_type": "stream",
     "text": [
      "[1, 2, 3, 4, 5, 6]\n"
     ]
    }
   ],
   "source": [
    "#The + operator concatenates lists\n",
    "a = [1, 2, 3]\n",
    "b = [4, 5, 6]\n",
    "c = a + b\n",
    "print(c)"
   ]
  },
  {
   "cell_type": "code",
   "execution_count": 45,
   "id": "30e60c06-c972-468b-b7bf-9020a6c90c6e",
   "metadata": {},
   "outputs": [
    {
     "data": {
      "text/plain": [
       "[0, 0, 0, 0]"
      ]
     },
     "execution_count": 45,
     "metadata": {},
     "output_type": "execute_result"
    }
   ],
   "source": [
    "#Similarly, the operator repeats a list a given number of times\n",
    "[0] * 4"
   ]
  },
  {
   "cell_type": "code",
   "execution_count": 46,
   "id": "df82fc1d-5e62-4e45-bfa2-d17929b3b061",
   "metadata": {},
   "outputs": [
    {
     "data": {
      "text/plain": [
       "[1, 2, 3, 1, 2, 3, 1, 2, 3]"
      ]
     },
     "execution_count": 46,
     "metadata": {},
     "output_type": "execute_result"
    }
   ],
   "source": [
    "[1, 2, 3] * 3"
   ]
  },
  {
   "cell_type": "markdown",
   "id": "cf0d3b67-2e5a-4072-88a2-9d2513b8ab7b",
   "metadata": {},
   "source": [
    "#### List slices"
   ]
  },
  {
   "cell_type": "code",
   "execution_count": 47,
   "id": "1ca582cc-0344-4bf2-acf5-b610f7f45cf8",
   "metadata": {},
   "outputs": [
    {
     "data": {
      "text/plain": [
       "['b', 'c']"
      ]
     },
     "execution_count": 47,
     "metadata": {},
     "output_type": "execute_result"
    }
   ],
   "source": [
    "#The slice operator also works on lists\n",
    "t = ['a', 'b', 'c', 'd', 'e', 'f']\n",
    "t[1:3]"
   ]
  },
  {
   "cell_type": "code",
   "execution_count": 48,
   "id": "f3a6e523-df0e-46f3-8d63-686416f11235",
   "metadata": {},
   "outputs": [
    {
     "data": {
      "text/plain": [
       "['a', 'b', 'c', 'd']"
      ]
     },
     "execution_count": 48,
     "metadata": {},
     "output_type": "execute_result"
    }
   ],
   "source": [
    "t[:4]"
   ]
  },
  {
   "cell_type": "code",
   "execution_count": 49,
   "id": "a3b66fae-ba7d-4805-8034-8cc3e23655ab",
   "metadata": {},
   "outputs": [
    {
     "data": {
      "text/plain": [
       "['d', 'e', 'f']"
      ]
     },
     "execution_count": 49,
     "metadata": {},
     "output_type": "execute_result"
    }
   ],
   "source": [
    "t[3:]"
   ]
  },
  {
   "cell_type": "code",
   "execution_count": 50,
   "id": "ef30c6df-a85e-45ac-9c61-06343d8e9921",
   "metadata": {},
   "outputs": [
    {
     "data": {
      "text/plain": [
       "['a', 'b', 'c', 'd', 'e', 'f']"
      ]
     },
     "execution_count": 50,
     "metadata": {},
     "output_type": "execute_result"
    }
   ],
   "source": [
    "#If you omit the first index, the slice starts at the beginning. If you omit the second, the slice goes to the end. So if you omit both, the slice is a copy of the whole list.\n",
    "t[:]"
   ]
  },
  {
   "cell_type": "code",
   "execution_count": 52,
   "id": "2efbcbba-7a8b-48cf-88b6-4b428e9d4796",
   "metadata": {},
   "outputs": [
    {
     "name": "stdout",
     "output_type": "stream",
     "text": [
      "['a', 'x', 'y', 'd', 'e', 'f']\n"
     ]
    }
   ],
   "source": [
    "t = ['a', 'b', 'c', 'd', 'e', 'f']\n",
    "t[1:3] = ['x', 'y']\n",
    "print(t)"
   ]
  },
  {
   "cell_type": "code",
   "execution_count": 53,
   "id": "45122480-f03e-4998-b555-c51d9ae237e3",
   "metadata": {},
   "outputs": [
    {
     "name": "stdout",
     "output_type": "stream",
     "text": [
      "['a', 'b', 'c', 'd']\n"
     ]
    }
   ],
   "source": [
    "t = ['a', 'b', 'c']\n",
    "t.append('d')\n",
    "print(t)"
   ]
  },
  {
   "cell_type": "code",
   "execution_count": 54,
   "id": "5ec935b3-fd3e-432a-99ff-8f625c5c346b",
   "metadata": {},
   "outputs": [
    {
     "name": "stdout",
     "output_type": "stream",
     "text": [
      "['a', 'b', 'c', 'd', 'e']\n"
     ]
    }
   ],
   "source": [
    "t1 = ['a', 'b', 'c']\n",
    "t2 = ['d', 'e']\n",
    "t1.extend(t2)\n",
    "print(t1)"
   ]
  },
  {
   "cell_type": "code",
   "execution_count": 55,
   "id": "6229639d-68e5-4ca0-8880-42c9c0cfe686",
   "metadata": {},
   "outputs": [
    {
     "name": "stdout",
     "output_type": "stream",
     "text": [
      "['a', 'b', 'c', 'd', 'e']\n"
     ]
    }
   ],
   "source": [
    "t = ['d', 'c', 'e', 'b', 'a']\n",
    "t.sort()\n",
    "print(t)"
   ]
  },
  {
   "cell_type": "markdown",
   "id": "046dd715-5f2a-4142-9c6c-9593fce752db",
   "metadata": {},
   "source": [
    "#### Deleting elements"
   ]
  },
  {
   "cell_type": "markdown",
   "id": "8e650beb-19b8-4e83-86de-89fcaede3d42",
   "metadata": {},
   "source": [
    "There are several ways to delete elements from a list. If you know the index of the\n",
    "element you want, you can use pop\n",
    "pop modifies the list and returns the element that was removed. If you don’t\n",
    "provide an index, it deletes and returns the last element"
   ]
  },
  {
   "cell_type": "code",
   "execution_count": 56,
   "id": "01b39258-5d40-4055-9dd0-501d41834e27",
   "metadata": {},
   "outputs": [
    {
     "name": "stdout",
     "output_type": "stream",
     "text": [
      "['a', 'c']\n"
     ]
    }
   ],
   "source": [
    "t = ['a', 'b', 'c']\n",
    "x = t.pop(1)\n",
    "print(t)"
   ]
  },
  {
   "cell_type": "code",
   "execution_count": 57,
   "id": "2c964a76-9b23-49f1-b2e0-8b0a1089b8ca",
   "metadata": {},
   "outputs": [
    {
     "name": "stdout",
     "output_type": "stream",
     "text": [
      "b\n"
     ]
    }
   ],
   "source": [
    "print(x)"
   ]
  },
  {
   "cell_type": "code",
   "execution_count": 58,
   "id": "0bd70c70-c2c6-40d8-a465-890112831622",
   "metadata": {},
   "outputs": [
    {
     "name": "stdout",
     "output_type": "stream",
     "text": [
      "['a', 'c']\n"
     ]
    }
   ],
   "source": [
    "#If you don’t need the removed value, you can use the del operator\n",
    "t = ['a', 'b', 'c']\n",
    "del t[1]\n",
    "print(t)"
   ]
  },
  {
   "cell_type": "code",
   "execution_count": 59,
   "id": "cc4015c4-de72-4960-a152-1b3cbdda0b9d",
   "metadata": {},
   "outputs": [
    {
     "name": "stdout",
     "output_type": "stream",
     "text": [
      "['a', 'c']\n"
     ]
    }
   ],
   "source": [
    "#If you know the element you want to remove (but not the index), you can use remove\n",
    "t = ['a', 'b', 'c']\n",
    "t.remove('b')\n",
    "print(t)"
   ]
  },
  {
   "cell_type": "code",
   "execution_count": 60,
   "id": "1ea8339e-b63d-4745-87ca-026c0e6c3929",
   "metadata": {},
   "outputs": [
    {
     "name": "stdout",
     "output_type": "stream",
     "text": [
      "['a', 'f']\n"
     ]
    }
   ],
   "source": [
    "#To remove more than one element, you can use del with a slice index\n",
    "t = ['a', 'b', 'c', 'd', 'e', 'f']\n",
    "del t[1:5]\n",
    "print(t)"
   ]
  },
  {
   "cell_type": "markdown",
   "id": "1dddbc9b-c23b-49ab-9509-f39f75377c64",
   "metadata": {},
   "source": [
    "#### Lists and functions"
   ]
  },
  {
   "cell_type": "code",
   "execution_count": 61,
   "id": "e004758c-07cc-4836-be4e-eefda8e4c010",
   "metadata": {},
   "outputs": [
    {
     "name": "stdout",
     "output_type": "stream",
     "text": [
      "6\n",
      "74\n",
      "3\n",
      "154\n",
      "25.666666666666668\n"
     ]
    }
   ],
   "source": [
    "nums = [3, 41, 12, 9, 74, 15]\n",
    "print(len(nums))\n",
    "print(max(nums))\n",
    "print(min(nums))\n",
    "print(sum(nums))\n",
    "print(sum(nums)/len(nums))"
   ]
  },
  {
   "cell_type": "markdown",
   "id": "b1e1d9e1-497a-4b80-b562-d1b72f844d8f",
   "metadata": {},
   "source": [
    "#### Lists and strings"
   ]
  },
  {
   "cell_type": "markdown",
   "id": "6b2a1460-a35e-4fb7-8f14-60ff1643cfdb",
   "metadata": {},
   "source": [
    "A string is a sequence of characters and a list is a sequence of values, but a list\n",
    "of characters is not the same as a string. To convert from a string to a list of\n",
    "characters, you can use list"
   ]
  },
  {
   "cell_type": "code",
   "execution_count": 62,
   "id": "befac942-3200-4f93-a251-5a4e6722be68",
   "metadata": {},
   "outputs": [
    {
     "name": "stdout",
     "output_type": "stream",
     "text": [
      "['s', 'p', 'a', 'm']\n"
     ]
    }
   ],
   "source": [
    "s = 'spam'\n",
    "t = list(s)\n",
    "print(t)"
   ]
  },
  {
   "cell_type": "code",
   "execution_count": 63,
   "id": "766352a8-3ffe-4230-9bd2-42e00cd98739",
   "metadata": {},
   "outputs": [
    {
     "name": "stdout",
     "output_type": "stream",
     "text": [
      "['pining', 'for', 'the', 'fjords']\n"
     ]
    }
   ],
   "source": [
    "#If you want to break a string into words, you can use the split method\n",
    "s = 'pining for the fjords'\n",
    "t = s.split()\n",
    "print(t)"
   ]
  },
  {
   "cell_type": "code",
   "execution_count": 64,
   "id": "bc34199c-8c9f-466e-8b0b-cabfbd72e5c6",
   "metadata": {},
   "outputs": [
    {
     "name": "stdout",
     "output_type": "stream",
     "text": [
      "the\n"
     ]
    }
   ],
   "source": [
    "print(t[2])"
   ]
  },
  {
   "cell_type": "markdown",
   "id": "1228664a-a3bf-476c-9602-afb734db8de6",
   "metadata": {},
   "source": [
    "You can call split with an optional argument called a delimiter that specifies\n",
    "which characters to use as word boundaries"
   ]
  },
  {
   "cell_type": "code",
   "execution_count": 65,
   "id": "80a0e8ad-6a0f-4f35-8a7a-2866f0b31b25",
   "metadata": {},
   "outputs": [
    {
     "data": {
      "text/plain": [
       "['spam', 'spam', 'spam']"
      ]
     },
     "execution_count": 65,
     "metadata": {},
     "output_type": "execute_result"
    }
   ],
   "source": [
    "s = 'spam-spam-spam'\n",
    "delimiter = '-'\n",
    "s.split(delimiter)"
   ]
  },
  {
   "cell_type": "markdown",
   "id": "a54210cc-ecba-4946-ae7b-21d4407cfdd5",
   "metadata": {},
   "source": [
    "Join is the inverse of split. It takes a list of strings and concatenates the elements.\n",
    "Join is a string method, so you have to invoke it on the delimiter and pass the list\n",
    "as a parameter"
   ]
  },
  {
   "cell_type": "code",
   "execution_count": 66,
   "id": "319b80a2-69a2-4777-9107-d1009fc687e3",
   "metadata": {},
   "outputs": [
    {
     "data": {
      "text/plain": [
       "'pining for the fjords'"
      ]
     },
     "execution_count": 66,
     "metadata": {},
     "output_type": "execute_result"
    }
   ],
   "source": [
    "t = ['pining', 'for', 'the', 'fjords']\n",
    "delimiter = ' '\n",
    "delimiter.join(t)"
   ]
  },
  {
   "cell_type": "markdown",
   "id": "6d97cdb0-9a7a-4613-9d88-bd5db26b5a0d",
   "metadata": {},
   "source": [
    "####  Objects and values"
   ]
  },
  {
   "cell_type": "code",
   "execution_count": 67,
   "id": "7de1206f-f366-4840-ad13-cd2cdd147883",
   "metadata": {},
   "outputs": [],
   "source": [
    "a = 'banana'\n",
    "b = 'banana'"
   ]
  },
  {
   "cell_type": "code",
   "execution_count": 68,
   "id": "206baa27-e701-4803-8ded-b520047c0a2e",
   "metadata": {},
   "outputs": [
    {
     "data": {
      "text/plain": [
       "True"
      ]
     },
     "execution_count": 68,
     "metadata": {},
     "output_type": "execute_result"
    }
   ],
   "source": [
    "a = 'banana'\n",
    "b = 'banana'\n",
    "a is b"
   ]
  },
  {
   "cell_type": "code",
   "execution_count": 69,
   "id": "e6b56b09-e42d-4328-b37c-118ecd1a5212",
   "metadata": {},
   "outputs": [
    {
     "data": {
      "text/plain": [
       "False"
      ]
     },
     "execution_count": 69,
     "metadata": {},
     "output_type": "execute_result"
    }
   ],
   "source": [
    "a = [1, 2, 3]\n",
    "b = [1, 2, 3]\n",
    "a is b"
   ]
  },
  {
   "cell_type": "markdown",
   "id": "7a22b6ef-1d8a-468c-b374-6dd0ce4f0183",
   "metadata": {},
   "source": [
    "#### Aliasing"
   ]
  },
  {
   "cell_type": "code",
   "execution_count": 70,
   "id": "02f079eb-eee0-4f30-8e0e-1ca7ae2aea05",
   "metadata": {},
   "outputs": [
    {
     "data": {
      "text/plain": [
       "True"
      ]
     },
     "execution_count": 70,
     "metadata": {},
     "output_type": "execute_result"
    }
   ],
   "source": [
    "#If a refers to an object and you assign b = a, then both variables refer to the same object:\n",
    "a = [1, 2, 3]\n",
    "b = a\n",
    "b is a"
   ]
  },
  {
   "cell_type": "code",
   "execution_count": 71,
   "id": "78e9abef-825f-4898-bc7e-f2d8771cca92",
   "metadata": {},
   "outputs": [
    {
     "name": "stdout",
     "output_type": "stream",
     "text": [
      "[17, 2, 3]\n"
     ]
    }
   ],
   "source": [
    "b[0] = 17\n",
    "print(a)"
   ]
  },
  {
   "cell_type": "markdown",
   "id": "83f72f95-e5d0-424f-8de8-cf2e46def482",
   "metadata": {},
   "source": [
    "#### List arguments"
   ]
  },
  {
   "cell_type": "markdown",
   "id": "bae918ce-ac6a-4527-9b47-81ff65f98256",
   "metadata": {},
   "source": [
    "When you pass a list to a function, the function gets a reference to the list. If\n",
    "the function modifies a list parameter, the caller sees the change. For example,\n",
    "delete_head removes the first element from a lis"
   ]
  },
  {
   "cell_type": "code",
   "execution_count": 74,
   "id": "4a1e98a7-53a3-4ab0-ac0e-75ffbf9a4842",
   "metadata": {},
   "outputs": [],
   "source": [
    "def delete_head(t):\n",
    "    del t[0]"
   ]
  },
  {
   "cell_type": "code",
   "execution_count": 75,
   "id": "97c2d9a3-0de7-41e8-8790-248372d0e52b",
   "metadata": {},
   "outputs": [
    {
     "name": "stdout",
     "output_type": "stream",
     "text": [
      "['b', 'c']\n"
     ]
    }
   ],
   "source": [
    "letters = ['a', 'b', 'c']\n",
    "delete_head(letters)\n",
    "print(letters)"
   ]
  },
  {
   "cell_type": "code",
   "execution_count": 76,
   "id": "f7b9ad6f-9a53-4b90-a5ff-ca6e54f9a5e0",
   "metadata": {},
   "outputs": [
    {
     "name": "stdout",
     "output_type": "stream",
     "text": [
      "[1, 2, 3]\n"
     ]
    }
   ],
   "source": [
    "t1 = [1, 2]\n",
    "t2 = t1.append(3)\n",
    "print(t1)"
   ]
  },
  {
   "cell_type": "code",
   "execution_count": 77,
   "id": "fac4531c-7b5e-4c11-924e-7ca192b45382",
   "metadata": {},
   "outputs": [
    {
     "name": "stdout",
     "output_type": "stream",
     "text": [
      "None\n"
     ]
    }
   ],
   "source": [
    "print(t2)"
   ]
  },
  {
   "cell_type": "code",
   "execution_count": 78,
   "id": "ae90f1ed-e26f-4b32-9586-a1b3a87fcccc",
   "metadata": {},
   "outputs": [
    {
     "name": "stdout",
     "output_type": "stream",
     "text": [
      "[1, 2, 3, 3]\n"
     ]
    }
   ],
   "source": [
    "t3 = t1 + [3]\n",
    "print(t3)"
   ]
  },
  {
   "cell_type": "markdown",
   "id": "ecc4e0c9-0a08-4969-986a-ac3e07595a35",
   "metadata": {},
   "source": [
    "### Tuples"
   ]
  },
  {
   "cell_type": "markdown",
   "id": "3be4a73a-13a2-4c8f-8062-5e39a8b5dc7f",
   "metadata": {},
   "source": [
    "A tuple is a sequence of values much like a list. The values stored in a tuple can\n",
    "be any type, and they are indexed by integers. The important difference is that\n",
    "tuples are immutable. Tuples are also comparable and hashable so we can sort lists\n",
    "of them and use tuples as key values in Python dictionaries"
   ]
  },
  {
   "cell_type": "code",
   "execution_count": 80,
   "id": "ba7a7e21-9d77-4faa-aee4-f3e905b61919",
   "metadata": {},
   "outputs": [
    {
     "data": {
      "text/plain": [
       "tuple"
      ]
     },
     "execution_count": 80,
     "metadata": {},
     "output_type": "execute_result"
    }
   ],
   "source": [
    "#Syntactically, a tuple is a comma-separated list of values\n",
    "t = ('a', 'b', 'c', 'd', 'e')\n",
    "t1 = ('a',)\n",
    "type(t1)"
   ]
  },
  {
   "cell_type": "code",
   "execution_count": 81,
   "id": "029a8a04-a73b-4a83-b582-d69878b7e4ad",
   "metadata": {},
   "outputs": [
    {
     "data": {
      "text/plain": [
       "str"
      ]
     },
     "execution_count": 81,
     "metadata": {},
     "output_type": "execute_result"
    }
   ],
   "source": [
    "t2 = ('a')\n",
    "type(t2)"
   ]
  },
  {
   "cell_type": "code",
   "execution_count": 82,
   "id": "a5776667-ee26-452d-99fe-0fe4dde581e0",
   "metadata": {},
   "outputs": [
    {
     "name": "stdout",
     "output_type": "stream",
     "text": [
      "()\n"
     ]
    }
   ],
   "source": [
    "t = tuple()\n",
    "print(t)"
   ]
  },
  {
   "cell_type": "code",
   "execution_count": 83,
   "id": "3918f0de-07e4-4afd-b488-2829278f3def",
   "metadata": {},
   "outputs": [
    {
     "name": "stdout",
     "output_type": "stream",
     "text": [
      "('l', 'u', 'p', 'i', 'n', 's')\n"
     ]
    }
   ],
   "source": [
    "#If the argument is a sequence (string, list, or tuple), the result of the call to tuple is a tuple with the elements of the sequence\n",
    "t = tuple('lupins')\n",
    "print(t)"
   ]
  },
  {
   "cell_type": "markdown",
   "id": "e60a30a3-d50a-4f36-98ba-b013ddb17f41",
   "metadata": {},
   "source": [
    "Because tuple is the name of a constructor, you should avoid using it as a variable\n",
    "name.\n",
    "Most list operators also work on tuples. The bracket operator indexes an element"
   ]
  },
  {
   "cell_type": "code",
   "execution_count": 84,
   "id": "e0b979cf-fcda-49bd-97b4-383460b4c3f8",
   "metadata": {},
   "outputs": [
    {
     "name": "stdout",
     "output_type": "stream",
     "text": [
      "a\n"
     ]
    }
   ],
   "source": [
    "t = ('a', 'b', 'c', 'd', 'e')\n",
    "print(t[0])"
   ]
  },
  {
   "cell_type": "code",
   "execution_count": 85,
   "id": "126bf399-304b-4efc-8b7e-25e36265ee4a",
   "metadata": {},
   "outputs": [
    {
     "name": "stdout",
     "output_type": "stream",
     "text": [
      "('b', 'c')\n"
     ]
    }
   ],
   "source": [
    "#And the slice operator selects a range of elements\n",
    "print(t[1:3])"
   ]
  },
  {
   "cell_type": "code",
   "execution_count": 86,
   "id": "c2466731-fc0c-4d94-a5ee-2f6f7a066a22",
   "metadata": {},
   "outputs": [
    {
     "name": "stdout",
     "output_type": "stream",
     "text": [
      "('A', 'b', 'c', 'd', 'e')\n"
     ]
    }
   ],
   "source": [
    "t = ('A',) + t[1:]\n",
    "print(t)"
   ]
  },
  {
   "cell_type": "markdown",
   "id": "40c6a471-f8c4-45db-b12d-2cf3c5aa70bc",
   "metadata": {},
   "source": [
    "#### Comparing tuples"
   ]
  },
  {
   "cell_type": "code",
   "execution_count": 87,
   "id": "f2454454-5798-4081-9466-811650bbed5d",
   "metadata": {},
   "outputs": [
    {
     "data": {
      "text/plain": [
       "True"
      ]
     },
     "execution_count": 87,
     "metadata": {},
     "output_type": "execute_result"
    }
   ],
   "source": [
    "(0, 1, 2) < (0, 3, 4)"
   ]
  },
  {
   "cell_type": "code",
   "execution_count": 88,
   "id": "68074e97-5565-450d-bb04-d1123db585ef",
   "metadata": {},
   "outputs": [
    {
     "data": {
      "text/plain": [
       "True"
      ]
     },
     "execution_count": 88,
     "metadata": {},
     "output_type": "execute_result"
    }
   ],
   "source": [
    "(0, 1, 2000000) < (0, 3, 4)"
   ]
  },
  {
   "cell_type": "markdown",
   "id": "9ff027c4-047f-4e4c-a3f6-b31a5ad8cdc9",
   "metadata": {},
   "source": [
    "#### Dictionaries and tuples"
   ]
  },
  {
   "cell_type": "markdown",
   "id": "70b20989-131f-45b6-a937-159ac26e6934",
   "metadata": {},
   "source": [
    "Dictionaries have a method called items that returns a list of tuples, where each\n",
    "tuple is a key-value pair:"
   ]
  },
  {
   "cell_type": "code",
   "execution_count": 90,
   "id": "280f5161-134e-456a-af03-f74b37388b88",
   "metadata": {},
   "outputs": [
    {
     "name": "stdout",
     "output_type": "stream",
     "text": [
      "[('a', 10), ('b', 1), ('c', 22)]\n"
     ]
    }
   ],
   "source": [
    "d = {'a':10, 'b':1, 'c':22}\n",
    "t = list(d.items())\n",
    "print(t)"
   ]
  },
  {
   "cell_type": "code",
   "execution_count": 91,
   "id": "62e7dc1e-6dea-4961-ba03-2e17c21ae4c9",
   "metadata": {},
   "outputs": [
    {
     "data": {
      "text/plain": [
       "[('a', 10), ('b', 1), ('c', 22)]"
      ]
     },
     "execution_count": 91,
     "metadata": {},
     "output_type": "execute_result"
    }
   ],
   "source": [
    "d = {'a':10, 'b':1, 'c':22}\n",
    "t = list(d.items())\n",
    "t"
   ]
  },
  {
   "cell_type": "code",
   "execution_count": null,
   "id": "439be65f-7c2d-4f07-a336-5bcaa545b19d",
   "metadata": {},
   "outputs": [],
   "source": []
  }
 ],
 "metadata": {
  "colab": {
   "name": "Strings, Lists and Tuples.ipynb",
   "provenance": []
  },
  "kernelspec": {
   "display_name": "Python 3 (ipykernel)",
   "language": "python",
   "name": "python3"
  },
  "language_info": {
   "codemirror_mode": {
    "name": "ipython",
    "version": 3
   },
   "file_extension": ".py",
   "mimetype": "text/x-python",
   "name": "python",
   "nbconvert_exporter": "python",
   "pygments_lexer": "ipython3",
   "version": "3.9.12"
  }
 },
 "nbformat": 4,
 "nbformat_minor": 5
}
